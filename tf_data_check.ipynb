{
 "cells": [
  {
   "cell_type": "markdown",
   "id": "075cb858-0701-4c63-9893-61f363dd8bf2",
   "metadata": {},
   "source": [
    "## Comparison of DESI data sets"
   ]
  },
  {
   "cell_type": "code",
   "execution_count": 19,
   "id": "c06afe53-56bc-4565-90ff-657851b7764c",
   "metadata": {},
   "outputs": [],
   "source": [
    "import os\n",
    "import csv\n",
    "from astropy.io import ascii, fits\n",
    "from astropy.table import join, hstack, vstack, unique, Table, QTable, Column, setdiff\n",
    "from astropy import constants as const\n",
    "from astropy.coordinates import SkyCoord\n",
    "from astropy.coordinates import match_coordinates_sky\n",
    "from astropy import units as u\n",
    "from astropy import constants\n",
    "from desispec.spectra import stack as specstack\n",
    "from desispec.io import read_spectra, write_spectra\n",
    "\n",
    "import numpy as np\n",
    "import matplotlib as mpl\n",
    "import pandas as pd\n",
    "import matplotlib.pyplot as plt"
   ]
  },
  {
   "cell_type": "markdown",
   "id": "527fa851-21db-4405-9c81-c56a54a9f154",
   "metadata": {},
   "source": [
    "Read in and join two data sets"
   ]
  },
  {
   "cell_type": "code",
   "execution_count": 20,
   "id": "364aead2-582e-4280-add8-1320ade5b8d1",
   "metadata": {},
   "outputs": [],
   "source": [
    "\n",
    "#read in data set from Kelly's notebook\n",
    "PV_filename = '/global/project/projectdirs/desi/science/td/pv/pv_redshifts.fits'\n",
    "\n",
    "hdu = fits.open(PV_filename)\n",
    "PV_observed = QTable(hdu[1].data)\n",
    "hdu.close()"
   ]
  },
  {
   "cell_type": "code",
   "execution_count": 21,
   "id": "a7ca1feb-8db8-4a30-88e3-f281b258d4c2",
   "metadata": {},
   "outputs": [
    {
     "data": {
      "text/plain": [
       "20065"
      ]
     },
     "execution_count": 21,
     "metadata": {},
     "output_type": "execute_result"
    }
   ],
   "source": [
    "len(PV_observed)"
   ]
  },
  {
   "cell_type": "code",
   "execution_count": 22,
   "id": "8ba22528-181f-467d-b400-ea6831815127",
   "metadata": {},
   "outputs": [],
   "source": [
    "#read in data set from summer project\n",
    "tf_targets = Table.read('/global/project/projectdirs/desi/science/td/pv/pv_tf_targets.csv', format='ascii.csv')\n",
    "tf_targets.write('tf_targets.fits', overwrite=True)"
   ]
  },
  {
   "cell_type": "code",
   "execution_count": 23,
   "id": "f755d04d-ad37-4b5e-9808-2895c9b0ea26",
   "metadata": {},
   "outputs": [
    {
     "data": {
      "text/plain": [
       "15405"
      ]
     },
     "execution_count": 23,
     "metadata": {},
     "output_type": "execute_result"
    }
   ],
   "source": [
    "len(tf_targets)"
   ]
  },
  {
   "cell_type": "code",
   "execution_count": 24,
   "id": "105c06d6-9cb4-4e3e-9b26-ab4c18b06ba2",
   "metadata": {},
   "outputs": [],
   "source": [
    "#rename targetid column of one data file to match then join on this column\n",
    "PV_observed.rename_column('TARGETID', 'targetid')\n",
    "data = join(PV_observed, tf_targets, keys = 'targetid', join_type='inner')"
   ]
  },
  {
   "cell_type": "code",
   "execution_count": 25,
   "id": "7f73e6e6-d06a-4b2d-a86d-3e68eb9e1e98",
   "metadata": {},
   "outputs": [
    {
     "data": {
      "text/plain": [
       "5852"
      ]
     },
     "execution_count": 25,
     "metadata": {},
     "output_type": "execute_result"
    }
   ],
   "source": [
    "len(data)"
   ]
  },
  {
   "cell_type": "markdown",
   "id": "529d62c2-71d5-43e1-8b65-61891d232425",
   "metadata": {},
   "source": [
    "Check how many unique targetids exist in each table"
   ]
  },
  {
   "cell_type": "code",
   "execution_count": 26,
   "id": "65fead05-8417-409f-bf60-101ca26d2dec",
   "metadata": {},
   "outputs": [
    {
     "name": "stdout",
     "output_type": "stream",
     "text": [
      "Kellys notebook has 12729 unique targetids\n"
     ]
    }
   ],
   "source": [
    "unique_targets_1, target_counts_1 = np.unique(PV_observed['targetid'], return_counts=True)\n",
    "print('Kellys notebook has', len(unique_targets_1), 'unique targetids') "
   ]
  },
  {
   "cell_type": "code",
   "execution_count": 27,
   "id": "36c83cf1-75c9-432d-a182-5d96db1c641c",
   "metadata": {},
   "outputs": [
    {
     "data": {
      "text/plain": [
       "1728"
      ]
     },
     "execution_count": 27,
     "metadata": {},
     "output_type": "execute_result"
    }
   ],
   "source": [
    "multiple_id_1 = target_counts_1 > 2\n",
    "multiple_targets_1 = unique_targets_1[multiple_id_1]\n",
    "len(multiple_targets_1)"
   ]
  },
  {
   "cell_type": "code",
   "execution_count": 28,
   "id": "54c630d5-7eab-421d-b3f8-35da8cf03bd0",
   "metadata": {},
   "outputs": [
    {
     "name": "stdout",
     "output_type": "stream",
     "text": [
      "The summer project has 15359 unique targetids\n"
     ]
    }
   ],
   "source": [
    "unique_targets_2, target_counts_2 = np.unique(tf_targets['targetid'], return_counts=True)\n",
    "print('The summer project has', len(target_counts_2), 'unique targetids')"
   ]
  },
  {
   "cell_type": "code",
   "execution_count": 45,
   "id": "7ced46ee-b477-4a9a-9be9-7180be5e6f35",
   "metadata": {},
   "outputs": [
    {
     "data": {
      "text/plain": [
       "0"
      ]
     },
     "execution_count": 45,
     "metadata": {},
     "output_type": "execute_result"
    }
   ],
   "source": [
    "multiple_id_2 = target_counts_2 > 2\n",
    "multiple_targets_2 = unique_targets_2[multiple_id_2]\n",
    "len(multiple_targets_2)"
   ]
  },
  {
   "cell_type": "markdown",
   "id": "4c92b89f-e097-49bb-a8da-251dc927dd90",
   "metadata": {},
   "source": [
    "Compile a table of the targets present in Kelly’s list that are missing from the current list"
   ]
  },
  {
   "cell_type": "code",
   "execution_count": 46,
   "id": "5618e8e3-4562-49b3-8628-b852c959a153",
   "metadata": {},
   "outputs": [],
   "source": [
    "missing_targets = setdiff(PV_observed, tf_targets, keys='targetid')"
   ]
  },
  {
   "cell_type": "code",
   "execution_count": 51,
   "id": "2cd27e9d-c756-4a7f-82df-f24b66257a86",
   "metadata": {},
   "outputs": [
    {
     "data": {
      "text/html": [
       "<i>QTable length=14244</i>\n",
       "<table id=\"table46913392657552\" class=\"table-striped table-bordered table-condensed\">\n",
       "<thead><tr><th>PROGRAM</th><th>targetid</th><th>DATE</th><th>PETAL</th><th>CHI2</th><th>COEFF [10]</th><th>Z</th><th>ZERR</th><th>ZWARN</th><th>NPIXELS</th><th>SPECTYPE</th><th>SUBTYPE</th><th>NCOEFF</th><th>DELTACHI2</th><th>NUMEXP</th><th>NUMTILE</th><th>PETAL_LOC</th><th>DEVICE_LOC</th><th>LOCATION</th><th>FIBER</th><th>FIBERSTATUS</th><th>TARGET_RA</th><th>TARGET_DEC</th><th>PMRA</th><th>PMDEC</th><th>REF_EPOCH</th><th>LAMBDA_REF</th><th>FA_TARGET</th><th>FA_TYPE</th><th>OBJTYPE</th><th>FIBERASSIGN_X</th><th>FIBERASSIGN_Y</th><th>PRIORITY</th><th>SUBPRIORITY</th><th>OBSCONDITIONS</th><th>RELEASE</th><th>BRICKID</th><th>BRICK_OBJID</th><th>MORPHTYPE</th><th>FLUX_G</th><th>FLUX_R</th><th>FLUX_Z</th><th>FLUX_IVAR_G</th><th>FLUX_IVAR_R</th><th>FLUX_IVAR_Z</th><th>MASKBITS</th><th>REF_ID</th><th>REF_CAT</th><th>GAIA_PHOT_G_MEAN_MAG</th><th>GAIA_PHOT_BP_MEAN_MAG</th><th>GAIA_PHOT_RP_MEAN_MAG</th><th>PARALLAX</th><th>BRICKNAME</th><th>EBV</th><th>FLUX_W1</th><th>FLUX_W2</th><th>FLUX_IVAR_W1</th><th>FLUX_IVAR_W2</th><th>FIBERFLUX_G</th><th>FIBERFLUX_R</th><th>FIBERFLUX_Z</th><th>FIBERTOTFLUX_G</th><th>FIBERTOTFLUX_R</th><th>FIBERTOTFLUX_Z</th><th>SERSIC</th><th>SHAPE_R</th><th>SHAPE_E1</th><th>SHAPE_E2</th><th>PHOTSYS</th><th>PRIORITY_INIT</th><th>NUMOBS_INIT</th><th>SV3_DESI_TARGET</th><th>SV3_BGS_TARGET</th><th>SV3_MWS_TARGET</th><th>SV3_SCND_TARGET</th><th>DESI_TARGET</th><th>BGS_TARGET</th><th>MWS_TARGET</th><th>NUM_ITER</th><th>FIBER_X</th><th>FIBER_Y</th><th>DELTA_X</th><th>DELTA_Y</th><th>FIBER_RA</th><th>FIBER_DEC</th><th>EXPTIME</th><th>PSF_TO_FIBER_SPECFLUX</th><th>NIGHT</th><th>EXPID</th><th>MJD</th><th>TILEID</th><th>SV1_DESI_TARGET</th><th>SV1_BGS_TARGET</th><th>SV1_MWS_TARGET</th><th>SV1_SCND_TARGET</th><th>SV2_DESI_TARGET</th><th>SV2_BGS_TARGET</th><th>SV2_MWS_TARGET</th><th>SV2_SCND_TARGET</th></tr></thead>\n",
       "<thead><tr><th>str14</th><th>int64</th><th>int64</th><th>int64</th><th>float64</th><th>float64</th><th>float64</th><th>float64</th><th>int64</th><th>int64</th><th>str6</th><th>str20</th><th>int64</th><th>float64</th><th>int32</th><th>int32</th><th>int16</th><th>int32</th><th>int64</th><th>int32</th><th>int32</th><th>float64</th><th>float64</th><th>float32</th><th>float32</th><th>float32</th><th>float32</th><th>int64</th><th>uint8</th><th>str3</th><th>float32</th><th>float32</th><th>int32</th><th>float64</th><th>int32</th><th>int16</th><th>int32</th><th>int32</th><th>str4</th><th>float32</th><th>float32</th><th>float32</th><th>float32</th><th>float32</th><th>float32</th><th>int16</th><th>int64</th><th>str2</th><th>float32</th><th>float32</th><th>float32</th><th>float32</th><th>str8</th><th>float32</th><th>float32</th><th>float32</th><th>float32</th><th>float32</th><th>float32</th><th>float32</th><th>float32</th><th>float32</th><th>float32</th><th>float32</th><th>float32</th><th>float32</th><th>float32</th><th>float32</th><th>str1</th><th>int64</th><th>int64</th><th>int64</th><th>int64</th><th>int64</th><th>int64</th><th>int64</th><th>int64</th><th>int64</th><th>int64</th><th>float64</th><th>float64</th><th>float64</th><th>float64</th><th>float64</th><th>float64</th><th>float64</th><th>float64</th><th>int32</th><th>int32</th><th>float64</th><th>int32</th><th>int64</th><th>int64</th><th>int64</th><th>int64</th><th>int64</th><th>int64</th><th>int64</th><th>int64</th></tr></thead>\n",
       "<tr><td>PV_BRIGHT_HIGH</td><td>1070066330238976</td><td>20210502</td><td>0</td><td>7985.960172191262</td><td>153.683614674591 .. 14.545800659506249</td><td>0.7567474030478528</td><td>7.513633867494447e-05</td><td>4</td><td>7838</td><td>GALAXY</td><td></td><td>10</td><td>1.5466451793909073</td><td>0</td><td>1</td><td>0</td><td>383</td><td>383</td><td>160</td><td>0</td><td>219.74234000066394</td><td>-2.0243756921374523</td><td>0.0</td><td>0.0</td><td>2015.5</td><td>5400.0</td><td>4611686018427387904</td><td>1</td><td>TGT</td><td>-11.077723</td><td>-340.06555</td><td>1700</td><td>0.9639698150804932</td><td>63</td><td>0</td><td>0</td><td>0</td><td></td><td>0.0</td><td>0.0</td><td>0.0</td><td>0.0</td><td>0.0</td><td>0.0</td><td>0</td><td>0</td><td></td><td>0.0</td><td>0.0</td><td>0.0</td><td>0.0</td><td></td><td>0.0</td><td>0.0</td><td>0.0</td><td>0.0</td><td>0.0</td><td>0.0</td><td>0.0</td><td>0.0</td><td>0.0</td><td>0.0</td><td>0.0</td><td>0.0</td><td>0.0</td><td>0.0</td><td>0.0</td><td></td><td>1700</td><td>5</td><td>4611686018427387904</td><td>0</td><td>0</td><td>8796093022208</td><td>0</td><td>0</td><td>0</td><td>2</td><td>-11.099</td><td>-339.972</td><td>0.007</td><td>0.007</td><td>219.7423678754838</td><td>-2.0244020451908207</td><td>1247.044</td><td>0.7926684855158307</td><td>20210502</td><td>86985</td><td>59337.39767619</td><td>262</td><td>999999</td><td>999999</td><td>999999</td><td>999999</td><td>999999</td><td>999999</td><td>999999</td><td>999999</td></tr>\n",
       "<tr><td>PV_BRIGHT_HIGH</td><td>1070066330238977</td><td>20210416</td><td>0</td><td>8.999999999999996e+99</td><td>0.0 .. 0.0</td><td>-0.0019957014509158224</td><td>4.131159871613317e-48</td><td>1570</td><td>0</td><td>STAR</td><td>CV</td><td>3</td><td>1.942668892225729e+84</td><td>0</td><td>1</td><td>0</td><td>363</td><td>363</td><td>152</td><td>8</td><td>219.74316900270472</td><td>-2.0230748003021115</td><td>0.0</td><td>0.0</td><td>2015.5</td><td>5400.0</td><td>4611686018427387904</td><td>1</td><td>TGT</td><td>1.7474475</td><td>-328.31992</td><td>1700</td><td>0.9927429572775708</td><td>63</td><td>0</td><td>0</td><td>0</td><td></td><td>0.0</td><td>0.0</td><td>0.0</td><td>0.0</td><td>0.0</td><td>0.0</td><td>0</td><td>0</td><td></td><td>0.0</td><td>0.0</td><td>0.0</td><td>0.0</td><td></td><td>0.0</td><td>0.0</td><td>0.0</td><td>0.0</td><td>0.0</td><td>0.0</td><td>0.0</td><td>0.0</td><td>0.0</td><td>0.0</td><td>0.0</td><td>0.0</td><td>0.0</td><td>0.0</td><td>0.0</td><td></td><td>1700</td><td>5</td><td>4611686018427387904</td><td>0</td><td>0</td><td>8796093022208</td><td>0</td><td>0</td><td>0</td><td>2</td><td>1.687</td><td>-328.26</td><td>0.053</td><td>0.025</td><td>219.74338106361938</td><td>-2.0231698848766997</td><td>372.4187</td><td>0.8009068636119736</td><td>20210416</td><td>85095</td><td>59321.37174763</td><td>259</td><td>999999</td><td>999999</td><td>999999</td><td>999999</td><td>999999</td><td>999999</td><td>999999</td><td>999999</td></tr>\n",
       "<tr><td>PV_BRIGHT_HIGH</td><td>1070066330238980</td><td>20210430</td><td>0</td><td>8683.930717336014</td><td>-254.07327042860317 .. -44.492121493687186</td><td>0.05680605705698786</td><td>1.6796747296431635e-05</td><td>0</td><td>7924</td><td>GALAXY</td><td></td><td>10</td><td>45.18371797911823</td><td>0</td><td>1</td><td>0</td><td>490</td><td>490</td><td>469</td><td>0</td><td>219.74653523976207</td><td>-2.0177923866862932</td><td>0.0</td><td>0.0</td><td>2015.5</td><td>5400.0</td><td>4611686018427387904</td><td>1</td><td>TGT</td><td>16.752308</td><td>-388.46588</td><td>1700</td><td>0.5529002723750798</td><td>63</td><td>0</td><td>0</td><td>0</td><td></td><td>0.0</td><td>0.0</td><td>0.0</td><td>0.0</td><td>0.0</td><td>0.0</td><td>0</td><td>0</td><td></td><td>0.0</td><td>0.0</td><td>0.0</td><td>0.0</td><td></td><td>0.0</td><td>0.0</td><td>0.0</td><td>0.0</td><td>0.0</td><td>0.0</td><td>0.0</td><td>0.0</td><td>0.0</td><td>0.0</td><td>0.0</td><td>0.0</td><td>0.0</td><td>0.0</td><td>0.0</td><td></td><td>1700</td><td>5</td><td>4611686018427387904</td><td>0</td><td>0</td><td>8796093022208</td><td>0</td><td>0</td><td>0</td><td>2</td><td>16.737</td><td>-388.347</td><td>0.002</td><td>0.003</td><td>219.7465431774838</td><td>-2.0178034245374663</td><td>1180.5832</td><td>0.7924902023240705</td><td>20210430</td><td>86751</td><td>59335.40485091</td><td>261</td><td>999999</td><td>999999</td><td>999999</td><td>999999</td><td>999999</td><td>999999</td><td>999999</td><td>999999</td></tr>\n",
       "<tr><td>PV_BRIGHT_HIGH</td><td>1070072311316486</td><td>20210430</td><td>0</td><td>8.999999999999996e+99</td><td>0.0 .. 0.0</td><td>-0.0019957014509158224</td><td>4.131159871613317e-48</td><td>1570</td><td>0</td><td>STAR</td><td>CV</td><td>3</td><td>1.942668892225729e+84</td><td>0</td><td>1</td><td>0</td><td>346</td><td>346</td><td>64</td><td>512</td><td>216.10175917625892</td><td>-1.7637450150334062</td><td>0.0</td><td>0.0</td><td>2015.5</td><td>5400.0</td><td>4611686018427387904</td><td>1</td><td>TGT</td><td>34.585777</td><td>-316.7728</td><td>1700</td><td>0.6911010323554012</td><td>63</td><td>0</td><td>0</td><td>0</td><td></td><td>0.0</td><td>0.0</td><td>0.0</td><td>0.0</td><td>0.0</td><td>0.0</td><td>0</td><td>0</td><td></td><td>0.0</td><td>0.0</td><td>0.0</td><td>0.0</td><td></td><td>0.0</td><td>0.0</td><td>0.0</td><td>0.0</td><td>0.0</td><td>0.0</td><td>0.0</td><td>0.0</td><td>0.0</td><td>0.0</td><td>0.0</td><td>0.0</td><td>0.0</td><td>0.0</td><td>0.0</td><td></td><td>1700</td><td>5</td><td>4611686018427387904</td><td>0</td><td>0</td><td>8796093022208</td><td>0</td><td>0</td><td>0</td><td>2</td><td>37.767</td><td>-316.722</td><td>-3.203</td><td>0.024</td><td>216.08892884210547</td><td>-1.7637438261710237</td><td>686.3288</td><td>0.0</td><td>20210430</td><td>86745</td><td>59335.33276192</td><td>231</td><td>999999</td><td>999999</td><td>999999</td><td>999999</td><td>999999</td><td>999999</td><td>999999</td><td>999999</td></tr>\n",
       "<tr><td>PV_BRIGHT_HIGH</td><td>1070077738745856</td><td>20210417</td><td>0</td><td>8462.867333650589</td><td>-194.8723765564543 .. -43.24689416806218</td><td>0.466214211190508</td><td>0.00010069830964044338</td><td>0</td><td>7902</td><td>GALAXY</td><td></td><td>10</td><td>11.139930181205273</td><td>0</td><td>1</td><td>0</td><td>487</td><td>487</td><td>461</td><td>0</td><td>179.58779577067799</td><td>-1.4539409761570579</td><td>0.0</td><td>0.0</td><td>2015.5</td><td>5400.0</td><td>4611686018427387904</td><td>1</td><td>TGT</td><td>-13.601758</td><td>-393.1172</td><td>1700</td><td>0.7711840984536714</td><td>63</td><td>0</td><td>0</td><td>0</td><td></td><td>0.0</td><td>0.0</td><td>0.0</td><td>0.0</td><td>0.0</td><td>0.0</td><td>0</td><td>0</td><td></td><td>0.0</td><td>0.0</td><td>0.0</td><td>0.0</td><td></td><td>0.0</td><td>0.0</td><td>0.0</td><td>0.0</td><td>0.0</td><td>0.0</td><td>0.0</td><td>0.0</td><td>0.0</td><td>0.0</td><td>0.0</td><td>0.0</td><td>0.0</td><td>0.0</td><td>0.0</td><td></td><td>1700</td><td>5</td><td>4611686018427387904</td><td>0</td><td>0</td><td>8796093022208</td><td>0</td><td>0</td><td>0</td><td>2</td><td>-13.589</td><td>-392.973</td><td>0.004</td><td>0.005</td><td>179.58781153251897</td><td>-1.4539592214392993</td><td>427.1038</td><td>0.7926644883909467</td><td>20210417</td><td>85184</td><td>59322.12975456</td><td>45</td><td>999999</td><td>999999</td><td>999999</td><td>999999</td><td>999999</td><td>999999</td><td>999999</td><td>999999</td></tr>\n",
       "<tr><td>PV_BRIGHT_HIGH</td><td>1070077738745857</td><td>20210416</td><td>0</td><td>8161.819416671991</td><td>194.79590404320112 .. 10.677447136505569</td><td>1.6408758757748996</td><td>0.00013878275993608788</td><td>4</td><td>7881</td><td>GALAXY</td><td></td><td>10</td><td>0.8515173010528088</td><td>0</td><td>1</td><td>0</td><td>507</td><td>507</td><td>495</td><td>0</td><td>179.58845811794566</td><td>-1.4554221163962922</td><td>0.0</td><td>0.0</td><td>2015.5</td><td>5400.0</td><td>4611686018427387904</td><td>1</td><td>TGT</td><td>19.1131</td><td>-393.8148</td><td>1700</td><td>0.9067837874882217</td><td>63</td><td>0</td><td>0</td><td>0</td><td></td><td>0.0</td><td>0.0</td><td>0.0</td><td>0.0</td><td>0.0</td><td>0.0</td><td>0</td><td>0</td><td></td><td>0.0</td><td>0.0</td><td>0.0</td><td>0.0</td><td></td><td>0.0</td><td>0.0</td><td>0.0</td><td>0.0</td><td>0.0</td><td>0.0</td><td>0.0</td><td>0.0</td><td>0.0</td><td>0.0</td><td>0.0</td><td>0.0</td><td>0.0</td><td>0.0</td><td>0.0</td><td></td><td>1700</td><td>5</td><td>4611686018427387904</td><td>0</td><td>0</td><td>8796093022208</td><td>0</td><td>0</td><td>0</td><td>2</td><td>19.097</td><td>-393.711</td><td>0.0</td><td>0.001</td><td>179.5884581323792</td><td>-1.4554257719487596</td><td>315.6995</td><td>0.7924522856063024</td><td>20210416</td><td>85080</td><td>59321.24136198</td><td>44</td><td>999999</td><td>999999</td><td>999999</td><td>999999</td><td>999999</td><td>999999</td><td>999999</td><td>999999</td></tr>\n",
       "<tr><td>PV_BRIGHT_HIGH</td><td>1070077738745858</td><td>20210502</td><td>0</td><td>8696.311814410612</td><td>987.6607689756769 .. 34.68950674360971</td><td>0.0824008616278307</td><td>7.568644451341526e-05</td><td>0</td><td>7890</td><td>GALAXY</td><td></td><td>10</td><td>217.19194605527446</td><td>0</td><td>1</td><td>0</td><td>425</td><td>425</td><td>480</td><td>0</td><td>179.5891405372527</td><td>-1.4569481394697361</td><td>0.0</td><td>0.0</td><td>2015.5</td><td>5400.0</td><td>4611686018427387904</td><td>1</td><td>TGT</td><td>-27.191713</td><td>-361.96884</td><td>1700</td><td>0.9945522486440612</td><td>63</td><td>0</td><td>0</td><td>0</td><td></td><td>0.0</td><td>0.0</td><td>0.0</td><td>0.0</td><td>0.0</td><td>0.0</td><td>0</td><td>0</td><td></td><td>0.0</td><td>0.0</td><td>0.0</td><td>0.0</td><td></td><td>0.0</td><td>0.0</td><td>0.0</td><td>0.0</td><td>0.0</td><td>0.0</td><td>0.0</td><td>0.0</td><td>0.0</td><td>0.0</td><td>0.0</td><td>0.0</td><td>0.0</td><td>0.0</td><td>0.0</td><td></td><td>1700</td><td>5</td><td>4611686018427387904</td><td>0</td><td>0</td><td>8796093022208</td><td>0</td><td>0</td><td>0</td><td>2</td><td>-27.2</td><td>-361.892</td><td>0.007</td><td>0.008</td><td>179.58916821562457</td><td>-1.4569777834324456</td><td>453.512</td><td>0.7928669208593324</td><td>20210502</td><td>86972</td><td>59337.24792252</td><td>48</td><td>999999</td><td>999999</td><td>999999</td><td>999999</td><td>999999</td><td>999999</td><td>999999</td><td>999999</td></tr>\n",
       "<tr><td>PV_BRIGHT_HIGH</td><td>1070077738745859</td><td>20210430</td><td>0</td><td>8030.685713446699</td><td>400.54488302944213 .. -8.484859984404155</td><td>0.08069232364130303</td><td>3.25324795011963e-05</td><td>0</td><td>7876</td><td>GALAXY</td><td></td><td>10</td><td>119.88475992623717</td><td>0</td><td>1</td><td>0</td><td>362</td><td>362</td><td>157</td><td>0</td><td>179.59046523619475</td><td>-1.4599104189635324</td><td>0.0</td><td>0.0</td><td>2015.5</td><td>5400.0</td><td>4611686018427387904</td><td>1</td><td>TGT</td><td>-5.870515</td><td>-336.75943</td><td>1700</td><td>0.9639698150804932</td><td>63</td><td>0</td><td>0</td><td>0</td><td></td><td>0.0</td><td>0.0</td><td>0.0</td><td>0.0</td><td>0.0</td><td>0.0</td><td>0</td><td>0</td><td></td><td>0.0</td><td>0.0</td><td>0.0</td><td>0.0</td><td></td><td>0.0</td><td>0.0</td><td>0.0</td><td>0.0</td><td>0.0</td><td>0.0</td><td>0.0</td><td>0.0</td><td>0.0</td><td>0.0</td><td>0.0</td><td>0.0</td><td>0.0</td><td>0.0</td><td>0.0</td><td></td><td>1700</td><td>5</td><td>4611686018427387904</td><td>0</td><td>0</td><td>8796093022208</td><td>0</td><td>0</td><td>0</td><td>2</td><td>-5.888</td><td>-336.672</td><td>0.004</td><td>0.002</td><td>179.59048121298736</td><td>-1.4599179492515455</td><td>442.1598</td><td>0.7922376084885115</td><td>20210430</td><td>86739</td><td>59335.28387331</td><td>46</td><td>999999</td><td>999999</td><td>999999</td><td>999999</td><td>999999</td><td>999999</td><td>999999</td><td>999999</td></tr>\n",
       "<tr><td>PV_BRIGHT_HIGH</td><td>1070077738745860</td><td>20210501</td><td>0</td><td>8125.68107137084</td><td>22.448253981116686 .. 7.708878295760061</td><td>0.9205200637135286</td><td>6.819977296958946e-05</td><td>4</td><td>7857</td><td>GALAXY</td><td></td><td>10</td><td>0.6130429357290268</td><td>0</td><td>1</td><td>0</td><td>492</td><td>492</td><td>387</td><td>0</td><td>179.5911476582238</td><td>-1.4614364414287324</td><td>0.0</td><td>0.0</td><td>2015.5</td><td>5400.0</td><td>4611686018427387904</td><td>1</td><td>TGT</td><td>29.751677</td><td>-381.86523</td><td>1700</td><td>0.3400658541895716</td><td>63</td><td>0</td><td>0</td><td>0</td><td></td><td>0.0</td><td>0.0</td><td>0.0</td><td>0.0</td><td>0.0</td><td>0.0</td><td>0</td><td>0</td><td></td><td>0.0</td><td>0.0</td><td>0.0</td><td>0.0</td><td></td><td>0.0</td><td>0.0</td><td>0.0</td><td>0.0</td><td>0.0</td><td>0.0</td><td>0.0</td><td>0.0</td><td>0.0</td><td>0.0</td><td>0.0</td><td>0.0</td><td>0.0</td><td>0.0</td><td>0.0</td><td></td><td>1700</td><td>5</td><td>4611686018427387904</td><td>0</td><td>0</td><td>8796093022208</td><td>0</td><td>0</td><td>0</td><td>2</td><td>29.739</td><td>-381.788</td><td>0.0</td><td>0.005</td><td>179.59114776777858</td><td>-1.4614548451107645</td><td>1073.4347</td><td>0.7924988043467098</td><td>20210501</td><td>86835</td><td>59336.16877531</td><td>47</td><td>999999</td><td>999999</td><td>999999</td><td>999999</td><td>999999</td><td>999999</td><td>999999</td><td>999999</td></tr>\n",
       "<tr><td>PV_BRIGHT_HIGH</td><td>1070077742940160</td><td>20210501</td><td>0</td><td>8518.27520474419</td><td>5.328626180423516e-05 .. 0.0</td><td>1.2228517765054276</td><td>0.00025278443565433654</td><td>4</td><td>7810</td><td>QSO</td><td></td><td>4</td><td>6.560710269957781</td><td>0</td><td>1</td><td>0</td><td>399</td><td>399</td><td>342</td><td>0</td><td>179.95681896968347</td><td>-1.386440201903048</td><td>0.0</td><td>0.0</td><td>2015.5</td><td>5400.0</td><td>4611686018427387904</td><td>1</td><td>TGT</td><td>-62.373043</td><td>-361.86743</td><td>1700</td><td>0.8817850058588774</td><td>63</td><td>0</td><td>0</td><td>0</td><td></td><td>0.0</td><td>0.0</td><td>0.0</td><td>0.0</td><td>0.0</td><td>0.0</td><td>0</td><td>0</td><td></td><td>0.0</td><td>0.0</td><td>0.0</td><td>0.0</td><td></td><td>0.0</td><td>0.0</td><td>0.0</td><td>0.0</td><td>0.0</td><td>0.0</td><td>0.0</td><td>0.0</td><td>0.0</td><td>0.0</td><td>0.0</td><td>0.0</td><td>0.0</td><td>0.0</td><td>0.0</td><td></td><td>1700</td><td>5</td><td>4611686018427387904</td><td>0</td><td>0</td><td>8796093022208</td><td>0</td><td>0</td><td>0</td><td>2</td><td>-62.369</td><td>-361.78</td><td>0.004</td><td>0.001</td><td>179.9568347918071</td><td>-1.3864437463731778</td><td>1073.4347</td><td>0.7923843144691523</td><td>20210501</td><td>86835</td><td>59336.16877531</td><td>47</td><td>999999</td><td>999999</td><td>999999</td><td>999999</td><td>999999</td><td>999999</td><td>999999</td><td>999999</td></tr>\n",
       "<tr><td>...</td><td>...</td><td>...</td><td>...</td><td>...</td><td>...</td><td>...</td><td>...</td><td>...</td><td>...</td><td>...</td><td>...</td><td>...</td><td>...</td><td>...</td><td>...</td><td>...</td><td>...</td><td>...</td><td>...</td><td>...</td><td>...</td><td>...</td><td>...</td><td>...</td><td>...</td><td>...</td><td>...</td><td>...</td><td>...</td><td>...</td><td>...</td><td>...</td><td>...</td><td>...</td><td>...</td><td>...</td><td>...</td><td>...</td><td>...</td><td>...</td><td>...</td><td>...</td><td>...</td><td>...</td><td>...</td><td>...</td><td>...</td><td>...</td><td>...</td><td>...</td><td>...</td><td>...</td><td>...</td><td>...</td><td>...</td><td>...</td><td>...</td><td>...</td><td>...</td><td>...</td><td>...</td><td>...</td><td>...</td><td>...</td><td>...</td><td>...</td><td>...</td><td>...</td><td>...</td><td>...</td><td>...</td><td>...</td><td>...</td><td>...</td><td>...</td><td>...</td><td>...</td><td>...</td><td>...</td><td>...</td><td>...</td><td>...</td><td>...</td><td>...</td><td>...</td><td>...</td><td>...</td><td>...</td><td>...</td><td>...</td><td>...</td><td>...</td><td>...</td><td>...</td><td>...</td><td>...</td><td>...</td><td>...</td></tr>\n",
       "<tr><td>PV_DARK_HIGH</td><td>2305843015454825028</td><td>20210404</td><td>2</td><td>8216.637887036428</td><td>4239.3882772342895 .. 15.313131233116481</td><td>0.09746548918854753</td><td>3.045873650925505e-05</td><td>0</td><td>7922</td><td>GALAXY</td><td></td><td>10</td><td>825.4173578843474</td><td>0</td><td>1</td><td>2</td><td>327</td><td>2327</td><td>1319</td><td>0</td><td>169.51243583289414</td><td>50.71523065856604</td><td>0.0</td><td>0.0</td><td>2015.5</td><td>5400.0</td><td>2305843009213693952</td><td>1</td><td>TGT</td><td>298.68994</td><td>-48.499966</td><td>7</td><td>0.4424447696449314</td><td>568</td><td>-1</td><td>587092</td><td>-1</td><td>GGAL</td><td>-99.0</td><td>-99.0</td><td>-99.0</td><td>-99.0</td><td>-99.0</td><td>-99.0</td><td>0</td><td>838159504856308992</td><td>G2</td><td>18.328257</td><td>17.927855</td><td>16.529882</td><td>0.0</td><td></td><td>0.014108596</td><td>0.0</td><td>0.0</td><td>0.0</td><td>0.0</td><td>0.0</td><td>0.0</td><td>0.0</td><td>0.0</td><td>0.0</td><td>0.0</td><td>0.0</td><td>0.0</td><td>0.0</td><td>0.0</td><td>G</td><td>7</td><td>1</td><td>999999</td><td>999999</td><td>999999</td><td>999999</td><td>0</td><td>0</td><td>0</td><td>2</td><td>298.681</td><td>-48.482</td><td>-0.002</td><td>0.005</td><td>169.51242475885695</td><td>50.71521045851153</td><td>139.7048</td><td>0.7921296974605893</td><td>20210404</td><td>83416</td><td>59309.16602098</td><td>81088</td><td>999999</td><td>999999</td><td>999999</td><td>999999</td><td>2305843009213693952</td><td>0</td><td>4611686018427387904</td><td>0</td></tr>\n",
       "<tr><td>PV_DARK_HIGH</td><td>2305843015459012686</td><td>20210404</td><td>6</td><td>8482.918945522048</td><td>930.551452104066 .. -115.43300558286843</td><td>0.11511051106880683</td><td>9.267124420969977e-05</td><td>0</td><td>7914</td><td>GALAXY</td><td></td><td>10</td><td>179.44890548009425</td><td>0</td><td>1</td><td>6</td><td>86</td><td>6086</td><td>3217</td><td>0</td><td>172.083187639237</td><td>51.43482456989361</td><td>0.34907424</td><td>1.4948944</td><td>2015.5</td><td>5400.0</td><td>2305843009213693952</td><td>1</td><td>TGT</td><td>-103.22238</td><td>124.9412</td><td>7</td><td>0.22374831673401352</td><td>568</td><td>-1</td><td>589820</td><td>-1</td><td>GGAL</td><td>-99.0</td><td>-99.0</td><td>-99.0</td><td>-99.0</td><td>-99.0</td><td>-99.0</td><td>0</td><td>838472998813393920</td><td>G2</td><td>18.979502</td><td>18.08625</td><td>16.819044</td><td>1.5012522</td><td></td><td>0.013599072</td><td>0.0</td><td>0.0</td><td>0.0</td><td>0.0</td><td>0.0</td><td>0.0</td><td>0.0</td><td>0.0</td><td>0.0</td><td>0.0</td><td>0.0</td><td>0.0</td><td>0.0</td><td>0.0</td><td>G</td><td>7</td><td>1</td><td>999999</td><td>999999</td><td>999999</td><td>999999</td><td>0</td><td>0</td><td>0</td><td>2</td><td>-103.217</td><td>124.926</td><td>0.007</td><td>0.004</td><td>172.08323318738815</td><td>51.43480793784403</td><td>139.7048</td><td>0.7914134578929026</td><td>20210404</td><td>83416</td><td>59309.16602101</td><td>81088</td><td>999999</td><td>999999</td><td>999999</td><td>999999</td><td>2305843009213693952</td><td>0</td><td>4611686018427387904</td><td>0</td></tr>\n",
       "<tr><td>PV_DARK_HIGH</td><td>2305843015459014979</td><td>20210404</td><td>6</td><td>8887.532885618042</td><td>2292.41657123181 .. -21.71016943163131</td><td>0.05499324309154359</td><td>3.3601597672138586e-05</td><td>0</td><td>7905</td><td>GALAXY</td><td></td><td>10</td><td>1208.371271692682</td><td>0</td><td>1</td><td>6</td><td>292</td><td>6292</td><td>3100</td><td>0</td><td>172.87614719075108</td><td>51.62897244159037</td><td>2.9221036</td><td>-1.2529035</td><td>2015.5</td><td>5400.0</td><td>2305843009213693952</td><td>1</td><td>TGT</td><td>-226.63557</td><td>176.78183</td><td>7</td><td>0.5086349673229598</td><td>568</td><td>-1</td><td>590719</td><td>-1</td><td>GGAL</td><td>-99.0</td><td>-99.0</td><td>-99.0</td><td>-99.0</td><td>-99.0</td><td>-99.0</td><td>0</td><td>838490286057755392</td><td>G2</td><td>18.283949</td><td>17.828293</td><td>16.520372</td><td>2.9325974</td><td></td><td>0.013037432</td><td>0.0</td><td>0.0</td><td>0.0</td><td>0.0</td><td>0.0</td><td>0.0</td><td>0.0</td><td>0.0</td><td>0.0</td><td>0.0</td><td>0.0</td><td>0.0</td><td>0.0</td><td>0.0</td><td>G</td><td>7</td><td>1</td><td>999999</td><td>999999</td><td>999999</td><td>999999</td><td>0</td><td>0</td><td>0</td><td>2</td><td>-226.599</td><td>176.738</td><td>0.001</td><td>0.005</td><td>172.87615353203464</td><td>51.62895245703956</td><td>139.7048</td><td>0.7920422425702321</td><td>20210404</td><td>83416</td><td>59309.16602101</td><td>81088</td><td>999999</td><td>999999</td><td>999999</td><td>999999</td><td>2305843009213693952</td><td>0</td><td>4611686018427387904</td><td>0</td></tr>\n",
       "<tr><td>PV_DARK_HIGH</td><td>2305843015459015203</td><td>20210404</td><td>2</td><td>9712.860362087842</td><td>2942.7314177018748 .. 39.302476057295</td><td>0.08298901809549841</td><td>7.929743442374319e-05</td><td>0</td><td>7913</td><td>GALAXY</td><td></td><td>10</td><td>249.06751381908543</td><td>0</td><td>1</td><td>2</td><td>212</td><td>2212</td><td>1328</td><td>0</td><td>169.88761443912597</td><td>50.45893725000797</td><td>0.0</td><td>0.0</td><td>2015.5</td><td>5400.0</td><td>2305843009213693952</td><td>1</td><td>TGT</td><td>239.55939</td><td>-113.070786</td><td>7</td><td>0.5925007321646848</td><td>568</td><td>-1</td><td>586176</td><td>-1</td><td>GGAL</td><td>-99.0</td><td>-99.0</td><td>-99.0</td><td>-99.0</td><td>-99.0</td><td>-99.0</td><td>0</td><td>838325324953827328</td><td>G2</td><td>18.842152</td><td>18.20355</td><td>16.853872</td><td>0.0</td><td></td><td>0.015054355</td><td>0.0</td><td>0.0</td><td>0.0</td><td>0.0</td><td>0.0</td><td>0.0</td><td>0.0</td><td>0.0</td><td>0.0</td><td>0.0</td><td>0.0</td><td>0.0</td><td>0.0</td><td>0.0</td><td>G</td><td>7</td><td>1</td><td>999999</td><td>999999</td><td>999999</td><td>999999</td><td>0</td><td>0</td><td>0</td><td>2</td><td>239.553</td><td>-113.065</td><td>-0.005</td><td>0.007</td><td>169.88758513624083</td><td>50.45890902194738</td><td>139.7048</td><td>0.7922463326965178</td><td>20210404</td><td>83416</td><td>59309.16602098</td><td>81088</td><td>999999</td><td>999999</td><td>999999</td><td>999999</td><td>2305843009213693952</td><td>0</td><td>4611686018427387904</td><td>0</td></tr>\n",
       "<tr><td>PV_DARK_HIGH</td><td>2305843015459015216</td><td>20210404</td><td>2</td><td>7968.373072443297</td><td>3257.7504769674083 .. 38.30061092579692</td><td>0.08464874491661722</td><td>8.19722392876368e-05</td><td>0</td><td>7913</td><td>GALAXY</td><td></td><td>10</td><td>430.8719020714052</td><td>0</td><td>1</td><td>2</td><td>1</td><td>2001</td><td>1183</td><td>0</td><td>171.20594574106943</td><td>50.855928916244785</td><td>0.0</td><td>0.0</td><td>2015.5</td><td>5400.0</td><td>2305843009213693952</td><td>1</td><td>TGT</td><td>30.854492</td><td>-16.972025</td><td>7</td><td>0.939925996972499</td><td>568</td><td>-1</td><td>587096</td><td>-1</td><td>GGAL</td><td>-99.0</td><td>-99.0</td><td>-99.0</td><td>-99.0</td><td>-99.0</td><td>-99.0</td><td>0</td><td>838348998813505152</td><td>G2</td><td>18.993387</td><td>18.372599</td><td>16.969616</td><td>0.0</td><td></td><td>0.013434603</td><td>0.0</td><td>0.0</td><td>0.0</td><td>0.0</td><td>0.0</td><td>0.0</td><td>0.0</td><td>0.0</td><td>0.0</td><td>0.0</td><td>0.0</td><td>0.0</td><td>0.0</td><td>0.0</td><td>G</td><td>7</td><td>1</td><td>999999</td><td>999999</td><td>999999</td><td>999999</td><td>0</td><td>0</td><td>0</td><td>2</td><td>30.852</td><td>-16.97</td><td>0.003</td><td>-0.001</td><td>171.20596526079683</td><td>50.8559330705835</td><td>139.7048</td><td>0.7905178890252277</td><td>20210404</td><td>83416</td><td>59309.16602098</td><td>81088</td><td>999999</td><td>999999</td><td>999999</td><td>999999</td><td>2305843009213693952</td><td>0</td><td>4611686018427387904</td><td>0</td></tr>\n",
       "<tr><td>PV_BRIGHT_LOW</td><td>2305843015479989956</td><td>20210309</td><td>5</td><td>153808.12894560397</td><td>7142.27429149247 .. -251.00093946828076</td><td>0.0033340827774407905</td><td>3.901028036942973e-07</td><td>0</td><td>7929</td><td>GALAXY</td><td></td><td>10</td><td>498707.5897128433</td><td>0</td><td>1</td><td>5</td><td>8</td><td>5008</td><td>2802</td><td>0</td><td>173.4554194596396</td><td>53.12547638737335</td><td>0.0</td><td>0.0</td><td>2021.0992</td><td>5400.0</td><td>6917529027641081856</td><td>1</td><td>TGT</td><td>13.779786</td><td>64.590675</td><td>1950</td><td>0.1532138639460402</td><td>63</td><td>-1</td><td>596003</td><td>-1</td><td>GGAL</td><td>-99.0</td><td>-99.0</td><td>-99.0</td><td>-99.0</td><td>-99.0</td><td>-99.0</td><td>0</td><td>841058328609251328</td><td>G2</td><td>18.013247</td><td>0.0</td><td>0.0</td><td>0.0</td><td></td><td>0.0114166625</td><td>0.0</td><td>0.0</td><td>0.0</td><td>0.0</td><td>0.0</td><td>0.0</td><td>0.0</td><td>0.0</td><td>0.0</td><td>0.0</td><td>0.0</td><td>0.0</td><td>0.0</td><td>0.0</td><td>G</td><td>1950</td><td>100</td><td>999999</td><td>999999</td><td>999999</td><td>999999</td><td>0</td><td>0</td><td>0</td><td>2</td><td>13.776</td><td>64.598</td><td>-0.011</td><td>-0.009</td><td>173.45534411863053</td><td>53.12551322633429</td><td>300.0696</td><td>1e+20</td><td>20210309</td><td>79893</td><td>59283.48315461</td><td>80730</td><td>6917529027641081856</td><td>0</td><td>2305843009213693952</td><td>268435456</td><td>999999</td><td>999999</td><td>999999</td><td>999999</td></tr>\n",
       "<tr><td>PV_BRIGHT_LOW</td><td>2305843015479989956</td><td>20210322</td><td>5</td><td>120669.87722372264</td><td>9030.689550645517 .. -191.78473490191416</td><td>0.0033397174325120586</td><td>4.680354849191707e-07</td><td>0</td><td>7831</td><td>GALAXY</td><td></td><td>10</td><td>364801.10802102834</td><td>0</td><td>1</td><td>5</td><td>8</td><td>5008</td><td>2802</td><td>0</td><td>173.4554194596396</td><td>53.12547638737335</td><td>0.0</td><td>0.0</td><td>2021.0992</td><td>5400.0</td><td>6917529027641081856</td><td>1</td><td>TGT</td><td>13.779786</td><td>64.590675</td><td>1950</td><td>0.1532138639460402</td><td>63</td><td>-1</td><td>596003</td><td>-1</td><td>GGAL</td><td>-99.0</td><td>-99.0</td><td>-99.0</td><td>-99.0</td><td>-99.0</td><td>-99.0</td><td>0</td><td>841058328609251328</td><td>G2</td><td>18.013247</td><td>0.0</td><td>0.0</td><td>0.0</td><td></td><td>0.0114166625</td><td>0.0</td><td>0.0</td><td>0.0</td><td>0.0</td><td>0.0</td><td>0.0</td><td>0.0</td><td>0.0</td><td>0.0</td><td>0.0</td><td>0.0</td><td>0.0</td><td>0.0</td><td>0.0</td><td>G</td><td>1950</td><td>100</td><td>999999</td><td>999999</td><td>999999</td><td>999999</td><td>0</td><td>0</td><td>0</td><td>2</td><td>13.78</td><td>64.584</td><td>-0.002</td><td>0.003</td><td>173.4554058119321</td><td>53.12546406497168</td><td>1098.326</td><td>0.7905985387347101</td><td>20210322</td><td>81519</td><td>59296.3176797</td><td>80730</td><td>6917529027641081856</td><td>0</td><td>2305843009213693952</td><td>268435456</td><td>999999</td><td>999999</td><td>999999</td><td>999999</td></tr>\n",
       "<tr><td>PV_BRIGHT_LOW</td><td>2305843015479989956</td><td>20210222</td><td>5</td><td>78195.06125398725</td><td>8783.66841109046 .. 78.64734539448881</td><td>0.0033288274817528944</td><td>5.009389619554948e-07</td><td>0</td><td>7837</td><td>GALAXY</td><td></td><td>10</td><td>236950.3807626143</td><td>0</td><td>1</td><td>5</td><td>8</td><td>5008</td><td>2802</td><td>0</td><td>173.4554194596396</td><td>53.12547638737335</td><td>0.0</td><td>0.0</td><td>2021.0992</td><td>5400.0</td><td>6917529027641081856</td><td>1</td><td>TGT</td><td>13.779786</td><td>64.590675</td><td>1950</td><td>0.1532138639460402</td><td>63</td><td>-1</td><td>596003</td><td>-1</td><td>GGAL</td><td>-99.0</td><td>-99.0</td><td>-99.0</td><td>-99.0</td><td>-99.0</td><td>-99.0</td><td>0</td><td>841058328609251328</td><td>G2</td><td>18.013247</td><td>0.0</td><td>0.0</td><td>0.0</td><td></td><td>0.0114166625</td><td>0.0</td><td>0.0</td><td>0.0</td><td>0.0</td><td>0.0</td><td>0.0</td><td>0.0</td><td>0.0</td><td>0.0</td><td>0.0</td><td>0.0</td><td>0.0</td><td>0.0</td><td>0.0</td><td>G</td><td>1950</td><td>100</td><td>999999</td><td>999999</td><td>999999</td><td>999999</td><td>0</td><td>0</td><td>0</td><td>2</td><td>13.781</td><td>64.57</td><td>0.004</td><td>-0.011</td><td>173.45544670047053</td><td>53.12552154443482</td><td>572.1598</td><td>1e+20</td><td>20210222</td><td>77569</td><td>59268.37612001</td><td>80730</td><td>6917529027641081856</td><td>0</td><td>2305843009213693952</td><td>268435456</td><td>999999</td><td>999999</td><td>999999</td><td>999999</td></tr>\n",
       "<tr><td>PV_BRIGHT_LOW</td><td>2305843015479989956</td><td>20210221</td><td>5</td><td>130036.8720182553</td><td>12308.278108129223 .. -307.83889666942</td><td>0.0033432969618652306</td><td>4.230186542440124e-07</td><td>0</td><td>7925</td><td>GALAXY</td><td></td><td>10</td><td>403781.6214052066</td><td>0</td><td>1</td><td>5</td><td>8</td><td>5008</td><td>2802</td><td>0</td><td>173.4554194596396</td><td>53.12547638737335</td><td>0.0</td><td>0.0</td><td>2021.0992</td><td>5400.0</td><td>6917529027641081856</td><td>1</td><td>TGT</td><td>13.779786</td><td>64.590675</td><td>1950</td><td>0.1532138639460402</td><td>63</td><td>-1</td><td>596003</td><td>-1</td><td>GGAL</td><td>-99.0</td><td>-99.0</td><td>-99.0</td><td>-99.0</td><td>-99.0</td><td>-99.0</td><td>0</td><td>841058328609251328</td><td>G2</td><td>18.013247</td><td>0.0</td><td>0.0</td><td>0.0</td><td></td><td>0.0114166625</td><td>0.0</td><td>0.0</td><td>0.0</td><td>0.0</td><td>0.0</td><td>0.0</td><td>0.0</td><td>0.0</td><td>0.0</td><td>0.0</td><td>0.0</td><td>0.0</td><td>0.0</td><td>0.0</td><td>G</td><td>1950</td><td>100</td><td>999999</td><td>999999</td><td>999999</td><td>999999</td><td>0</td><td>0</td><td>0</td><td>2</td><td>13.798</td><td>64.559</td><td>-0.009</td><td>-0.008</td><td>173.4553578099717</td><td>53.1255091391075</td><td>733.1464</td><td>1e+20</td><td>20210221</td><td>77387</td><td>59267.3915751</td><td>80730</td><td>6917529027641081856</td><td>0</td><td>2305843009213693952</td><td>268435456</td><td>999999</td><td>999999</td><td>999999</td><td>999999</td></tr>\n",
       "<tr><td>PV_BRIGHT_LOW</td><td>2305843015479989956</td><td>20210224</td><td>5</td><td>81726.71696191281</td><td>6007.486619080326 .. -270.28184899598443</td><td>0.003323654780755229</td><td>4.4411460244029497e-07</td><td>0</td><td>7928</td><td>GALAXY</td><td></td><td>10</td><td>249127.19538015872</td><td>0</td><td>1</td><td>5</td><td>8</td><td>5008</td><td>2802</td><td>0</td><td>173.4554194596396</td><td>53.12547638737335</td><td>0.0</td><td>0.0</td><td>2021.0992</td><td>5400.0</td><td>6917529027641081856</td><td>1</td><td>TGT</td><td>13.779786</td><td>64.590675</td><td>1950</td><td>0.1532138639460402</td><td>63</td><td>-1</td><td>596003</td><td>-1</td><td>GGAL</td><td>-99.0</td><td>-99.0</td><td>-99.0</td><td>-99.0</td><td>-99.0</td><td>-99.0</td><td>0</td><td>841058328609251328</td><td>G2</td><td>18.013247</td><td>0.0</td><td>0.0</td><td>0.0</td><td></td><td>0.0114166625</td><td>0.0</td><td>0.0</td><td>0.0</td><td>0.0</td><td>0.0</td><td>0.0</td><td>0.0</td><td>0.0</td><td>0.0</td><td>0.0</td><td>0.0</td><td>0.0</td><td>0.0</td><td>0.0</td><td>G</td><td>1950</td><td>100</td><td>999999</td><td>999999</td><td>999999</td><td>999999</td><td>0</td><td>0</td><td>0</td><td>2</td><td>13.797</td><td>64.564</td><td>-0.004</td><td>-0.004</td><td>173.45539205494788</td><td>53.125492767005916</td><td>726.3238</td><td>1e+20</td><td>20210224</td><td>77947</td><td>59270.36944863</td><td>80730</td><td>6917529027641081856</td><td>0</td><td>2305843009213693952</td><td>268435456</td><td>999999</td><td>999999</td><td>999999</td><td>999999</td></tr>\n",
       "</table>"
      ],
      "text/plain": [
       "<QTable length=14244>\n",
       "   PROGRAM           targetid      ...    SV2_MWS_TARGET   SV2_SCND_TARGET\n",
       "    str14             int64        ...        int64             int64     \n",
       "-------------- ------------------- ... ------------------- ---------------\n",
       "PV_BRIGHT_HIGH    1070066330238976 ...              999999          999999\n",
       "PV_BRIGHT_HIGH    1070066330238977 ...              999999          999999\n",
       "PV_BRIGHT_HIGH    1070066330238980 ...              999999          999999\n",
       "PV_BRIGHT_HIGH    1070072311316486 ...              999999          999999\n",
       "PV_BRIGHT_HIGH    1070077738745856 ...              999999          999999\n",
       "PV_BRIGHT_HIGH    1070077738745857 ...              999999          999999\n",
       "PV_BRIGHT_HIGH    1070077738745858 ...              999999          999999\n",
       "PV_BRIGHT_HIGH    1070077738745859 ...              999999          999999\n",
       "PV_BRIGHT_HIGH    1070077738745860 ...              999999          999999\n",
       "PV_BRIGHT_HIGH    1070077742940160 ...              999999          999999\n",
       "           ...                 ... ...                 ...             ...\n",
       "  PV_DARK_HIGH 2305843015454825028 ... 4611686018427387904               0\n",
       "  PV_DARK_HIGH 2305843015459012686 ... 4611686018427387904               0\n",
       "  PV_DARK_HIGH 2305843015459014979 ... 4611686018427387904               0\n",
       "  PV_DARK_HIGH 2305843015459015203 ... 4611686018427387904               0\n",
       "  PV_DARK_HIGH 2305843015459015216 ... 4611686018427387904               0\n",
       " PV_BRIGHT_LOW 2305843015479989956 ...              999999          999999\n",
       " PV_BRIGHT_LOW 2305843015479989956 ...              999999          999999\n",
       " PV_BRIGHT_LOW 2305843015479989956 ...              999999          999999\n",
       " PV_BRIGHT_LOW 2305843015479989956 ...              999999          999999\n",
       " PV_BRIGHT_LOW 2305843015479989956 ...              999999          999999"
      ]
     },
     "execution_count": 51,
     "metadata": {},
     "output_type": "execute_result"
    }
   ],
   "source": [
    "missing_targets"
   ]
  },
  {
   "cell_type": "code",
   "execution_count": null,
   "id": "35eeace3-6a31-4c53-9471-71e3ad626309",
   "metadata": {},
   "outputs": [],
   "source": []
  },
  {
   "cell_type": "code",
   "execution_count": null,
   "id": "77203cab-8ec9-41fc-afe0-4e0038ef0935",
   "metadata": {},
   "outputs": [],
   "source": []
  }
 ],
 "metadata": {
  "kernelspec": {
   "display_name": "DESI 21.3",
   "language": "python",
   "name": "desi-21.3"
  },
  "language_info": {
   "codemirror_mode": {
    "name": "ipython",
    "version": 3
   },
   "file_extension": ".py",
   "mimetype": "text/x-python",
   "name": "python",
   "nbconvert_exporter": "python",
   "pygments_lexer": "ipython3",
   "version": "3.8.3"
  }
 },
 "nbformat": 4,
 "nbformat_minor": 5
}
