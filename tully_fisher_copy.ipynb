{
 "cells": [
  {
   "cell_type": "markdown",
   "id": "8b4ea756-9648-40ff-ac72-b08bf662f52e",
   "metadata": {},
   "source": [
    "# Tully-Fisher Secondary Target Sample\n",
    "\n",
    "Demonstrate SQLite3 access to the TF targets in the secondary target database at NERSC."
   ]
  },
  {
   "cell_type": "code",
   "execution_count": 605,
   "id": "ebc854a2-5281-4cc2-baec-c68856f714a2",
   "metadata": {},
   "outputs": [],
   "source": [
    "import os\n",
    "import csv\n",
    "from astropy.io import ascii, fits\n",
    "from astropy.table import join, hstack, vstack, unique, Table, QTable\n",
    "from astropy import constants as const\n",
    "from astropy.coordinates import SkyCoord\n",
    "from astropy.coordinates import match_coordinates_sky\n",
    "from astropy import units as u\n",
    "from astropy import constants\n",
    "from desispec.spectra import stack as specstack\n",
    "from desispec.io import read_spectra, write_spectra\n",
    "\n",
    "import numpy as np\n",
    "import matplotlib as mpl\n",
    "import pandas as pd\n",
    "import matplotlib.pyplot as plt"
   ]
  },
  {
   "cell_type": "code",
   "execution_count": 606,
   "id": "043279f1-f451-46fa-9388-6e007bceb2bb",
   "metadata": {},
   "outputs": [],
   "source": [
    "mpl.rc('font', size=16)\n",
    "mpl.rc('axes', titlesize='small')"
   ]
  },
  {
   "cell_type": "code",
   "execution_count": 607,
   "id": "90cc985b-c2f2-4709-af40-b4cd87c2c284",
   "metadata": {},
   "outputs": [],
   "source": [
    "import sqlite3\n",
    "from contextlib import closing"
   ]
  },
  {
   "cell_type": "markdown",
   "id": "3c8f55fe-1556-4a41-841e-f47142678ea4",
   "metadata": {},
   "source": [
    "## SQLite3 Query\n",
    "\n",
    "See if we have a cached copy of the query results (in FITS format) before running this query.\n",
    "\n",
    "Use this query or the csv file to obtain the data."
   ]
  },
  {
   "cell_type": "code",
   "execution_count": 710,
   "id": "7d6a37c5-e445-44d8-8eed-3c811687631d",
   "metadata": {},
   "outputs": [
    {
     "data": {
      "text/plain": [
       "'\\n# Change use_cached = False if we want to redo the query at some point.\\nuse_cached = True\\n\\nif os.path.exists(\\'tf_targets.fits\\') and use_cached:\\n    tf_targets = Table.read(\\'tf_targets.fits\\')\\nelse:\\n    query = \"select distinct pv.BRICKID, pv.OBJID, ifnull(pv.SGA_ID, 0), pv.POINTINGID, fd.TARGETID, fd.TARGET_RA, fd.TARGET_DEC, pv.PVTYPE, zd.Z, zd.ZERR, zd.SPECTYPE, zd.DELTACHI2, zd.ZWARN             from (select distinct BRICKID, OBJID, PVTYPE, SGA_ID, POINTINGID from proposals_pv             where (PVTYPE like \\'TFT\\' or PVTYPE like \\'EXT\\' or PVTYPE like \\'SGA\\')) pv             inner join fibermap_daily fd             on (pv.BRICKID = fd.BRICKID) and (pv.OBJID = fd.BRICK_OBJID)             inner join zbest_daily zd             on zd.TARGETID=fd.TARGETID             group by pv.BRICKID, pv.OBJID, fd.TARGETID;\"\\n\\n    with closing(sqlite3.connect(\\'/global/cfs/cdirs/desi/science/td/db/desi.db\\')) as db:\\n        with closing(db.cursor()) as cursor:\\n            rows = cursor.execute(query).fetchall()\\n\\n    tf_targets = Table(list(map(list, zip(*rows))),\\n                        names=[\\'BRICKID\\', \\'FIBER_RA\\',\\'FIBER_DEC\\', \\'OBJID\\', \\'SGA_ID\\', \\'POINTINGID\\', \\'TARGETID\\', \\'TARGET_RA\\', \\'TARGET_DEC\\', \\'PVTYPE\\', \\'Z\\', \\'ZERR\\', \\'SPECTYPE\\', \\'DELTACHI2\\', \\'ZWARN\\'])\\n    \\n    # Cache output for later.\\n    tf_targets.write(\\'tf_targets.fits\\', overwrite=True)\\n'"
      ]
     },
     "execution_count": 710,
     "metadata": {},
     "output_type": "execute_result"
    }
   ],
   "source": [
    "'''\n",
    "# Change use_cached = False if we want to redo the query at some point.\n",
    "use_cached = True\n",
    "\n",
    "if os.path.exists('tf_targets.fits') and use_cached:\n",
    "    tf_targets = Table.read('tf_targets.fits')\n",
    "else:\n",
    "    query = \"select distinct pv.BRICKID, pv.OBJID, ifnull(pv.SGA_ID, 0), pv.POINTINGID, fd.TARGETID, fd.TARGET_RA, fd.TARGET_DEC, pv.PVTYPE, zd.Z, zd.ZERR, zd.SPECTYPE, zd.DELTACHI2, zd.ZWARN \\\n",
    "            from (select distinct BRICKID, OBJID, PVTYPE, SGA_ID, POINTINGID from proposals_pv \\\n",
    "            where (PVTYPE like 'TFT' or PVTYPE like 'EXT' or PVTYPE like 'SGA')) pv \\\n",
    "            inner join fibermap_daily fd \\\n",
    "            on (pv.BRICKID = fd.BRICKID) and (pv.OBJID = fd.BRICK_OBJID) \\\n",
    "            inner join zbest_daily zd \\\n",
    "            on zd.TARGETID=fd.TARGETID \\\n",
    "            group by pv.BRICKID, pv.OBJID, fd.TARGETID;\"\n",
    "\n",
    "    with closing(sqlite3.connect('/global/cfs/cdirs/desi/science/td/db/desi.db')) as db:\n",
    "        with closing(db.cursor()) as cursor:\n",
    "            rows = cursor.execute(query).fetchall()\n",
    "\n",
    "    tf_targets = Table(list(map(list, zip(*rows))),\n",
    "                        names=['BRICKID', 'FIBER_RA','FIBER_DEC', 'OBJID', 'SGA_ID', 'POINTINGID', 'TARGETID', 'TARGET_RA', 'TARGET_DEC', 'PVTYPE', 'Z', 'ZERR', 'SPECTYPE', 'DELTACHI2', 'ZWARN'])\n",
    "    \n",
    "    # Cache output for later.\n",
    "    tf_targets.write('tf_targets.fits', overwrite=True)\n",
    "'''"
   ]
  },
  {
   "cell_type": "code",
   "execution_count": 612,
   "id": "e4b50d56-b6d4-4177-a3ed-82b6c65ea273",
   "metadata": {},
   "outputs": [],
   "source": [
    "tf_targets = Table.read('/global/project/projectdirs/desi/science/td/pv/pv_tf_targets.csv', format='ascii.csv')"
   ]
  },
  {
   "cell_type": "code",
   "execution_count": 622,
   "id": "e551e340-1a91-48cf-8bee-44c5550f5c10",
   "metadata": {},
   "outputs": [],
   "source": [
    "tf_targets.write('tf_targets.fits', overwrite=True)"
   ]
  },
  {
   "cell_type": "code",
   "execution_count": 640,
   "id": "3cb791e2-a65d-4bdf-ba1a-1fb26bc59bf3",
   "metadata": {},
   "outputs": [
    {
     "data": {
      "text/plain": [
       "15405"
      ]
     },
     "execution_count": 640,
     "metadata": {},
     "output_type": "execute_result"
    }
   ],
   "source": [
    "len(tf_targets)"
   ]
  },
  {
   "cell_type": "code",
   "execution_count": 623,
   "id": "978c1545-fd91-4f81-9184-3653f74b68b7",
   "metadata": {},
   "outputs": [
    {
     "data": {
      "text/html": [
       "<i>Table length=10</i>\n",
       "<table id=\"table46913435393520\" class=\"table-striped table-bordered table-condensed\">\n",
       "<thead><tr><th>pvtype</th><th>sga_id</th><th>targetid</th><th>target_ra</th><th>target_dec</th><th>z</th><th>spectype</th><th>deltachi2</th><th>zwarn</th><th>expid</th><th>yyyymmdd</th></tr></thead>\n",
       "<thead><tr><th>str3</th><th>int64</th><th>int64</th><th>float64</th><th>float64</th><th>float64</th><th>str6</th><th>float64</th><th>int64</th><th>int64</th><th>int64</th></tr></thead>\n",
       "<tr><td>TFT</td><td>1285603</td><td>616088587867259427</td><td>150.085494347167</td><td>1.98540758430202</td><td>1.49757462439216</td><td>GALAXY</td><td>426.185304820538</td><td>0</td><td>68490</td><td>20201217</td></tr>\n",
       "<tr><td>SGA</td><td>227887</td><td>39628509848540752</td><td>34.8173069688145</td><td>31.3984950009448</td><td>0.0102383463580575</td><td>GALAXY</td><td>332559.754650116</td><td>0</td><td>69412</td><td>20201222</td></tr>\n",
       "<tr><td>SGA</td><td>249627</td><td>39628473387452348</td><td>36.6378025591632</td><td>29.8305673331864</td><td>0.0349532879812339</td><td>GALAXY</td><td>33952.1068879628</td><td>0</td><td>69412</td><td>20201222</td></tr>\n",
       "<tr><td>SGA</td><td>581116</td><td>39628499509579686</td><td>36.0846931600021</td><td>30.9513934451943</td><td>0.046449435766605</td><td>GALAXY</td><td>53137.0094233155</td><td>0</td><td>69412</td><td>20201222</td></tr>\n",
       "<tr><td>SGA</td><td>879849</td><td>39628478600971508</td><td>34.0579702049385</td><td>30.0920453747291</td><td>0.0445682338630569</td><td>GALAXY</td><td>33245.3577982187</td><td>0</td><td>69412</td><td>20201222</td></tr>\n",
       "<tr><td>SGA</td><td>1215253</td><td>39628494279282283</td><td>33.8598111259499</td><td>30.8583242268397</td><td>0.054035597680716</td><td>GALAXY</td><td>11625.5793859102</td><td>0</td><td>69213</td><td>20201222</td></tr>\n",
       "<tr><td>SGA</td><td>1329026</td><td>39628478600971529</td><td>34.0593021182507</td><td>30.1224101637649</td><td>0.0296421307118722</td><td>GALAXY</td><td>57099.7675513407</td><td>0</td><td>69412</td><td>20201222</td></tr>\n",
       "<tr><td>TFT</td><td>161400</td><td>39628462826195756</td><td>35.3790466101176</td><td>29.23051056593</td><td>0.0589073438874499</td><td>GALAXY</td><td>12976.2707899213</td><td>0</td><td>69412</td><td>20201222</td></tr>\n",
       "<tr><td>TFT</td><td>173880</td><td>39628457541371020</td><td>35.7235330211126</td><td>28.8880073711485</td><td>0.0339580769142768</td><td>GALAXY</td><td>4275.01541189849</td><td>0</td><td>69412</td><td>20201222</td></tr>\n",
       "<tr><td>TFT</td><td>269195</td><td>39628462834585206</td><td>35.9738797902803</td><td>29.3592905954632</td><td>-0.00199570145091582</td><td>STAR</td><td>1.94266889222573e+84</td><td>1570</td><td>69412</td><td>20201222</td></tr>\n",
       "</table>"
      ],
      "text/plain": [
       "<Table length=10>\n",
       "pvtype  sga_id      targetid         target_ra     ... zwarn expid yyyymmdd\n",
       " str3   int64        int64            float64      ... int64 int64  int64  \n",
       "------ ------- ------------------ ---------------- ... ----- ----- --------\n",
       "   TFT 1285603 616088587867259427 150.085494347167 ...     0 68490 20201217\n",
       "   SGA  227887  39628509848540752 34.8173069688145 ...     0 69412 20201222\n",
       "   SGA  249627  39628473387452348 36.6378025591632 ...     0 69412 20201222\n",
       "   SGA  581116  39628499509579686 36.0846931600021 ...     0 69412 20201222\n",
       "   SGA  879849  39628478600971508 34.0579702049385 ...     0 69412 20201222\n",
       "   SGA 1215253  39628494279282283 33.8598111259499 ...     0 69213 20201222\n",
       "   SGA 1329026  39628478600971529 34.0593021182507 ...     0 69412 20201222\n",
       "   TFT  161400  39628462826195756 35.3790466101176 ...     0 69412 20201222\n",
       "   TFT  173880  39628457541371020 35.7235330211126 ...     0 69412 20201222\n",
       "   TFT  269195  39628462834585206 35.9738797902803 ...  1570 69412 20201222"
      ]
     },
     "execution_count": 623,
     "metadata": {},
     "output_type": "execute_result"
    }
   ],
   "source": [
    "tf_targets[:10]"
   ]
  },
  {
   "cell_type": "code",
   "execution_count": 624,
   "id": "4456fec1-ea06-4eb7-adb5-a4dcfa4774d5",
   "metadata": {},
   "outputs": [
    {
     "data": {
      "text/plain": [
       "(<Column name='pvtype' dtype='str3' length=3>\n",
       " EXT\n",
       " SGA\n",
       " TFT,\n",
       " array([  97, 5692, 9616]))"
      ]
     },
     "execution_count": 624,
     "metadata": {},
     "output_type": "execute_result"
    }
   ],
   "source": [
    "np.unique(tf_targets['pvtype'], return_counts=True)"
   ]
  },
  {
   "cell_type": "markdown",
   "id": "445def90-1805-4773-b807-1085f2246fba",
   "metadata": {},
   "source": [
    "## Plot Target Coordinates"
   ]
  },
  {
   "cell_type": "markdown",
   "id": "0116411b-1520-4e69-ae87-4daeb40fdb6e",
   "metadata": {},
   "source": [
    "Constructs a map of the EXT, SGA, and TFT targets according to their RA and DEC coordinates."
   ]
  },
  {
   "cell_type": "code",
   "execution_count": 625,
   "id": "e32001ca-8d7d-4d95-ac6b-80b3ca335dc5",
   "metadata": {},
   "outputs": [],
   "source": [
    "def plot_radec(table):\n",
    "    fig, ax = plt.subplots(1,1, figsize=(8,4), subplot_kw={'projection': 'mollweide'})\n",
    "    class_names = np.unique(table['pvtype'])\n",
    "    for class_name in class_names:\n",
    "        select = table['pvtype'] == class_name\n",
    "        _ra = np.radians(180. - table[select]['target_ra'])\n",
    "        _dec = np.radians(table[select]['target_dec'])\n",
    "        ax.scatter(_ra, _dec, alpha=0.5, s=5, label=class_name)\n",
    "    ax.set(xticks=np.radians([-150, -120, -90, -60, -30, 0, 30, 60, 90, 120, 150]),\n",
    "           xticklabels=['22h', '20h', '18h', '16h', '14h', '12h', '10h', '8h', '6h', '4h', '2h'])\n",
    "    ax.tick_params(axis='x', labelsize=10)\n",
    "    ax.tick_params(axis='y', labelsize=10)\n",
    "    ax.grid(ls=':')\n",
    "    \n",
    "    ax.legend(fontsize=8, loc='lower right')\n",
    "    fig.tight_layout()\n",
    "\n",
    "    return fig;"
   ]
  },
  {
   "cell_type": "code",
   "execution_count": 626,
   "id": "792bc1c2-9231-4a40-9e7e-270847c29dde",
   "metadata": {},
   "outputs": [
    {
     "data": {
      "image/png": "[encoded data removed]",
      "text/plain": [
       "<Figure size 576x288 with 1 Axes>"
      ]
     },
     "metadata": {
      "needs_background": "light"
     },
     "output_type": "display_data"
    }
   ],
   "source": [
    "fig = plot_radec(tf_targets)"
   ]
  },
  {
   "cell_type": "markdown",
   "id": "e4bf6622-3f12-4d01-8cb6-d8364fd0789e",
   "metadata": {},
   "source": [
    "## Plot Target Redshifts\n",
    "\n",
    "Extract good redshifts and plot the distributions as a function of target type."
   ]
  },
  {
   "cell_type": "code",
   "execution_count": 627,
   "id": "4a52aaaa-c8af-4f95-a453-e0da9156d1de",
   "metadata": {},
   "outputs": [
    {
     "data": {
      "text/plain": [
       "14977"
      ]
     },
     "execution_count": 627,
     "metadata": {},
     "output_type": "execute_result"
    }
   ],
   "source": [
    "isgoodz = (tf_targets['deltachi2']>= 25) & (tf_targets['zwarn']==0)\n",
    "np.sum(isgoodz)"
   ]
  },
  {
   "cell_type": "code",
   "execution_count": 628,
   "id": "57e2871f-5235-479a-b5c1-485c00125bc8",
   "metadata": {},
   "outputs": [
    {
     "data": {
      "image/png": "[encoded data removed]",
      "text/plain": [
       "<Figure size 576x360 with 1 Axes>"
      ]
     },
     "metadata": {
      "needs_background": "light"
     },
     "output_type": "display_data"
    }
   ],
   "source": [
    "fig, ax = plt.subplots(1,1, figsize=(8,5), tight_layout=True)\n",
    "\n",
    "zdata = []\n",
    "pvtypes = np.unique(tf_targets['pvtype'])\n",
    "for pvtype in pvtypes:\n",
    "    ispvtype = tf_targets['pvtype'] == pvtype\n",
    "    zdata.append(list(tf_targets[isgoodz & ispvtype]['z']))\n",
    "\n",
    "zbins = np.linspace(0,0.6,31)\n",
    "ax.hist(zdata, bins=zbins, stacked=True, label=pvtypes)\n",
    "ax.set(#ylim=(0,15),\n",
    "       xlabel='redshift $z$',\n",
    "       ylabel='sample density')\n",
    "ax.grid(ls=':')\n",
    "\n",
    "ax.legend(fontsize=12);"
   ]
  },
  {
   "cell_type": "markdown",
   "id": "f3227e09-e99b-483b-b443-047dec35bdea",
   "metadata": {},
   "source": [
    "## Read in list of PV Targets\n",
    "PV targets from above desi query"
   ]
  },
  {
   "cell_type": "code",
   "execution_count": 629,
   "id": "d77053e9-8ccf-4068-bc9d-e537b7f34ed4",
   "metadata": {},
   "outputs": [],
   "source": [
    "PV_filename = 'tf_targets.fits'"
   ]
  },
  {
   "cell_type": "code",
   "execution_count": 630,
   "id": "e414c52d-4226-4948-9d77-64a3b8bd6563",
   "metadata": {},
   "outputs": [],
   "source": [
    "hdu = fits.open(PV_filename)\n",
    "PV_observed = QTable(hdu[1].data)\n",
    "hdu.close()"
   ]
  },
  {
   "cell_type": "code",
   "execution_count": 639,
   "id": "862c1f67-62bd-4772-8920-103376176230",
   "metadata": {},
   "outputs": [
    {
     "data": {
      "text/plain": [
       "15405"
      ]
     },
     "execution_count": 639,
     "metadata": {},
     "output_type": "execute_result"
    }
   ],
   "source": [
    "len(PV_observed)"
   ]
  },
  {
   "cell_type": "code",
   "execution_count": 631,
   "id": "ea7c8100-c7f1-4dfa-90b2-23ef243b1d4c",
   "metadata": {},
   "outputs": [
    {
     "data": {
      "text/html": [
       "<i>QTable length=20</i>\n",
       "<table id=\"table46913442507792\" class=\"table-striped table-bordered table-condensed\">\n",
       "<thead><tr><th>pvtype</th><th>sga_id</th><th>targetid</th><th>target_ra</th><th>target_dec</th><th>z</th><th>spectype</th><th>deltachi2</th><th>zwarn</th><th>expid</th><th>yyyymmdd</th></tr></thead>\n",
       "<thead><tr><th>str3</th><th>int64</th><th>int64</th><th>float64</th><th>float64</th><th>float64</th><th>str6</th><th>float64</th><th>int64</th><th>int64</th><th>int64</th></tr></thead>\n",
       "<tr><td>TFT</td><td>1285603</td><td>616088587867259427</td><td>150.085494347167</td><td>1.98540758430202</td><td>1.49757462439216</td><td>GALAXY</td><td>426.185304820538</td><td>0</td><td>68490</td><td>20201217</td></tr>\n",
       "<tr><td>SGA</td><td>227887</td><td>39628509848540752</td><td>34.8173069688145</td><td>31.3984950009448</td><td>0.0102383463580575</td><td>GALAXY</td><td>332559.754650116</td><td>0</td><td>69412</td><td>20201222</td></tr>\n",
       "<tr><td>SGA</td><td>249627</td><td>39628473387452348</td><td>36.6378025591632</td><td>29.8305673331864</td><td>0.0349532879812339</td><td>GALAXY</td><td>33952.1068879628</td><td>0</td><td>69412</td><td>20201222</td></tr>\n",
       "<tr><td>SGA</td><td>581116</td><td>39628499509579686</td><td>36.0846931600021</td><td>30.9513934451943</td><td>0.046449435766605</td><td>GALAXY</td><td>53137.0094233155</td><td>0</td><td>69412</td><td>20201222</td></tr>\n",
       "<tr><td>SGA</td><td>879849</td><td>39628478600971508</td><td>34.0579702049385</td><td>30.0920453747291</td><td>0.0445682338630569</td><td>GALAXY</td><td>33245.3577982187</td><td>0</td><td>69412</td><td>20201222</td></tr>\n",
       "<tr><td>SGA</td><td>1215253</td><td>39628494279282283</td><td>33.8598111259499</td><td>30.8583242268397</td><td>0.054035597680716</td><td>GALAXY</td><td>11625.5793859102</td><td>0</td><td>69213</td><td>20201222</td></tr>\n",
       "<tr><td>SGA</td><td>1329026</td><td>39628478600971529</td><td>34.0593021182507</td><td>30.1224101637649</td><td>0.0296421307118722</td><td>GALAXY</td><td>57099.7675513407</td><td>0</td><td>69412</td><td>20201222</td></tr>\n",
       "<tr><td>TFT</td><td>161400</td><td>39628462826195756</td><td>35.3790466101176</td><td>29.23051056593</td><td>0.0589073438874499</td><td>GALAXY</td><td>12976.2707899213</td><td>0</td><td>69412</td><td>20201222</td></tr>\n",
       "<tr><td>TFT</td><td>173880</td><td>39628457541371020</td><td>35.7235330211126</td><td>28.8880073711485</td><td>0.0339580769142768</td><td>GALAXY</td><td>4275.01541189849</td><td>0</td><td>69412</td><td>20201222</td></tr>\n",
       "<tr><td>TFT</td><td>269195</td><td>39628462834585206</td><td>35.9738797902803</td><td>29.3592905954632</td><td>-0.00199570145091582</td><td>STAR</td><td>1.94266889222573e+84</td><td>1570</td><td>69412</td><td>20201222</td></tr>\n",
       "<tr><td>TFT</td><td>356533</td><td>39628478613553751</td><td>34.884858293184</td><td>29.9153017059337</td><td>0.0350282773483738</td><td>GALAXY</td><td>10878.9513677359</td><td>0</td><td>69412</td><td>20201222</td></tr>\n",
       "<tr><td>TFT</td><td>445466</td><td>39628452235579168</td><td>35.5522478492159</td><td>28.7346685851974</td><td>0.0160799430669906</td><td>GALAXY</td><td>331455.818346739</td><td>0</td><td>69412</td><td>20201222</td></tr>\n",
       "<tr><td>TFT</td><td>799160</td><td>39628452227191629</td><td>35.0263848329572</td><td>28.8038374496768</td><td>0.0479322489133234</td><td>GALAXY</td><td>10475.2459472418</td><td>0</td><td>69412</td><td>20201222</td></tr>\n",
       "<tr><td>TFT</td><td>1215203</td><td>39628499484414780</td><td>34.3610945016603</td><td>31.1121388877847</td><td>0.141126134611318</td><td>GALAXY</td><td>351.349239055999</td><td>0</td><td>69412</td><td>20201222</td></tr>\n",
       "<tr><td>TFT</td><td>1314983</td><td>39628499522158973</td><td>36.7281375061762</td><td>30.9406944842827</td><td>-0.00199570145091582</td><td>STAR</td><td>1.94266889222573e+84</td><td>1570</td><td>69412</td><td>20201222</td></tr>\n",
       "<tr><td>SGA</td><td>85730</td><td>39628467507036489</td><td>354.583660454794</td><td>29.2951151813563</td><td>-0.00199570145091582</td><td>STAR</td><td>1.94266889222573e+84</td><td>1570</td><td>69398</td><td>20201223</td></tr>\n",
       "<tr><td>SGA</td><td>131324</td><td>39628446451633266</td><td>3.86684414674065</td><td>28.5254160818311</td><td>0.0941386400748344</td><td>GALAXY</td><td>23681.0561110266</td><td>0</td><td>69401</td><td>20201223</td></tr>\n",
       "<tr><td>SGA</td><td>151001</td><td>39628419717139991</td><td>6.12624782841679</td><td>27.3271999372896</td><td>0.083736828084536</td><td>GALAXY</td><td>26688.351510182</td><td>0</td><td>69588</td><td>20201223</td></tr>\n",
       "<tr><td>SGA</td><td>394569</td><td>39628451786788206</td><td>5.01239350940936</td><td>28.7495920433268</td><td>0.0994568475555636</td><td>GALAXY</td><td>52596.7699628919</td><td>0</td><td>69588</td><td>20201223</td></tr>\n",
       "<tr><td>SGA</td><td>424212</td><td>39628488528888363</td><td>356.842272823401</td><td>30.2678161714867</td><td>0.0319454111231294</td><td>GALAXY</td><td>175201.157210961</td><td>0</td><td>69580</td><td>20201223</td></tr>\n",
       "</table>"
      ],
      "text/plain": [
       "<QTable length=20>\n",
       "pvtype  sga_id      targetid         target_ra     ... zwarn expid yyyymmdd\n",
       " str3   int64        int64            float64      ... int64 int64  int64  \n",
       "------ ------- ------------------ ---------------- ... ----- ----- --------\n",
       "   TFT 1285603 616088587867259427 150.085494347167 ...     0 68490 20201217\n",
       "   SGA  227887  39628509848540752 34.8173069688145 ...     0 69412 20201222\n",
       "   SGA  249627  39628473387452348 36.6378025591632 ...     0 69412 20201222\n",
       "   SGA  581116  39628499509579686 36.0846931600021 ...     0 69412 20201222\n",
       "   SGA  879849  39628478600971508 34.0579702049385 ...     0 69412 20201222\n",
       "   SGA 1215253  39628494279282283 33.8598111259499 ...     0 69213 20201222\n",
       "   SGA 1329026  39628478600971529 34.0593021182507 ...     0 69412 20201222\n",
       "   TFT  161400  39628462826195756 35.3790466101176 ...     0 69412 20201222\n",
       "   TFT  173880  39628457541371020 35.7235330211126 ...     0 69412 20201222\n",
       "   TFT  269195  39628462834585206 35.9738797902803 ...  1570 69412 20201222\n",
       "   TFT  356533  39628478613553751  34.884858293184 ...     0 69412 20201222\n",
       "   TFT  445466  39628452235579168 35.5522478492159 ...     0 69412 20201222\n",
       "   TFT  799160  39628452227191629 35.0263848329572 ...     0 69412 20201222\n",
       "   TFT 1215203  39628499484414780 34.3610945016603 ...     0 69412 20201222\n",
       "   TFT 1314983  39628499522158973 36.7281375061762 ...  1570 69412 20201222\n",
       "   SGA   85730  39628467507036489 354.583660454794 ...  1570 69398 20201223\n",
       "   SGA  131324  39628446451633266 3.86684414674065 ...     0 69401 20201223\n",
       "   SGA  151001  39628419717139991 6.12624782841679 ...     0 69588 20201223\n",
       "   SGA  394569  39628451786788206 5.01239350940936 ...     0 69588 20201223\n",
       "   SGA  424212  39628488528888363 356.842272823401 ...     0 69580 20201223"
      ]
     },
     "execution_count": 631,
     "metadata": {},
     "output_type": "execute_result"
    }
   ],
   "source": [
    "PV_observed[:20]"
   ]
  },
  {
   "cell_type": "markdown",
   "id": "64c619f2-a9be-4dfe-9860-51dc2f0fab44",
   "metadata": {},
   "source": [
    "## Identify SGA Galaxies"
   ]
  },
  {
   "cell_type": "code",
   "execution_count": 632,
   "id": "4748b065-c12e-4ca4-aa67-ed5ff5cfce9a",
   "metadata": {},
   "outputs": [],
   "source": [
    "SGA_filename = '/global/cfs/cdirs/cosmo/data/sga/2020/SGA-2020.fits'\n",
    "\n",
    "hdu = fits.open(SGA_filename)\n",
    "SGA = QTable(hdu[1].data)\n",
    "hdu.close()"
   ]
  },
  {
   "cell_type": "code",
   "execution_count": 633,
   "id": "728c44a3-46d9-409b-90c1-a0859143ced9",
   "metadata": {},
   "outputs": [
    {
     "data": {
      "text/html": [
       "<i>QTable length=383620</i>\n",
       "<table id=\"table46913402011808\" class=\"table-striped table-bordered table-condensed\">\n",
       "<thead><tr><th>SGA_ID</th><th>SGA_GALAXY</th><th>GALAXY</th><th>PGC</th><th>RA_LEDA</th><th>DEC_LEDA</th><th>MORPHTYPE</th><th>PA_LEDA</th><th>D25_LEDA</th><th>BA_LEDA</th><th>Z_LEDA</th><th>SB_D25_LEDA</th><th>MAG_LEDA</th><th>BYHAND</th><th>REF</th><th>GROUP_ID</th><th>GROUP_NAME</th><th>GROUP_MULT</th><th>GROUP_PRIMARY</th><th>GROUP_RA</th><th>GROUP_DEC</th><th>GROUP_DIAMETER</th><th>BRICKNAME</th><th>RA</th><th>DEC</th><th>D26</th><th>D26_REF</th><th>PA</th><th>BA</th><th>RA_MOMENT</th><th>DEC_MOMENT</th><th>SMA_MOMENT</th><th>G_SMA50</th><th>R_SMA50</th><th>Z_SMA50</th><th>SMA_SB22</th><th>SMA_SB22.5</th><th>SMA_SB23</th><th>SMA_SB23.5</th><th>SMA_SB24</th><th>SMA_SB24.5</th><th>SMA_SB25</th><th>SMA_SB25.5</th><th>SMA_SB26</th><th>G_MAG_SB22</th><th>R_MAG_SB22</th><th>Z_MAG_SB22</th><th>G_MAG_SB22.5</th><th>R_MAG_SB22.5</th><th>Z_MAG_SB22.5</th><th>G_MAG_SB23</th><th>R_MAG_SB23</th><th>Z_MAG_SB23</th><th>G_MAG_SB23.5</th><th>R_MAG_SB23.5</th><th>Z_MAG_SB23.5</th><th>G_MAG_SB24</th><th>R_MAG_SB24</th><th>Z_MAG_SB24</th><th>G_MAG_SB24.5</th><th>R_MAG_SB24.5</th><th>Z_MAG_SB24.5</th><th>G_MAG_SB25</th><th>R_MAG_SB25</th><th>Z_MAG_SB25</th><th>G_MAG_SB25.5</th><th>R_MAG_SB25.5</th><th>Z_MAG_SB25.5</th><th>G_MAG_SB26</th><th>R_MAG_SB26</th><th>Z_MAG_SB26</th><th>SMA_SB22_ERR</th><th>SMA_SB22.5_ERR</th><th>SMA_SB23_ERR</th><th>SMA_SB23.5_ERR</th><th>SMA_SB24_ERR</th><th>SMA_SB24.5_ERR</th><th>SMA_SB25_ERR</th><th>SMA_SB25.5_ERR</th><th>SMA_SB26_ERR</th><th>G_MAG_SB22_ERR</th><th>R_MAG_SB22_ERR</th><th>Z_MAG_SB22_ERR</th><th>G_MAG_SB22.5_ERR</th><th>R_MAG_SB22.5_ERR</th><th>Z_MAG_SB22.5_ERR</th><th>G_MAG_SB23_ERR</th><th>R_MAG_SB23_ERR</th><th>Z_MAG_SB23_ERR</th><th>G_MAG_SB23.5_ERR</th><th>R_MAG_SB23.5_ERR</th><th>Z_MAG_SB23.5_ERR</th><th>G_MAG_SB24_ERR</th><th>R_MAG_SB24_ERR</th><th>Z_MAG_SB24_ERR</th><th>G_MAG_SB24.5_ERR</th><th>R_MAG_SB24.5_ERR</th><th>Z_MAG_SB24.5_ERR</th><th>G_MAG_SB25_ERR</th><th>R_MAG_SB25_ERR</th><th>Z_MAG_SB25_ERR</th><th>G_MAG_SB25.5_ERR</th><th>R_MAG_SB25.5_ERR</th><th>Z_MAG_SB25.5_ERR</th><th>G_MAG_SB26_ERR</th><th>R_MAG_SB26_ERR</th><th>Z_MAG_SB26_ERR</th><th>G_COG_PARAMS_MTOT</th><th>G_COG_PARAMS_M0</th><th>G_COG_PARAMS_ALPHA1</th><th>G_COG_PARAMS_ALPHA2</th><th>G_COG_PARAMS_CHI2</th><th>R_COG_PARAMS_MTOT</th><th>R_COG_PARAMS_M0</th><th>R_COG_PARAMS_ALPHA1</th><th>R_COG_PARAMS_ALPHA2</th><th>R_COG_PARAMS_CHI2</th><th>Z_COG_PARAMS_MTOT</th><th>Z_COG_PARAMS_M0</th><th>Z_COG_PARAMS_ALPHA1</th><th>Z_COG_PARAMS_ALPHA2</th><th>Z_COG_PARAMS_CHI2</th><th>ELLIPSEBIT</th></tr></thead>\n",
       "<thead><tr><th>int64</th><th>str16</th><th>str29</th><th>int64</th><th>float64</th><th>float64</th><th>str21</th><th>float32</th><th>float32</th><th>float32</th><th>float32</th><th>float32</th><th>float32</th><th>bool</th><th>str13</th><th>int64</th><th>str35</th><th>int16</th><th>bool</th><th>float64</th><th>float64</th><th>float32</th><th>str8</th><th>float64</th><th>float64</th><th>float32</th><th>str4</th><th>float32</th><th>float32</th><th>float64</th><th>float64</th><th>float32</th><th>float32</th><th>float32</th><th>float32</th><th>float32</th><th>float32</th><th>float32</th><th>float32</th><th>float32</th><th>float32</th><th>float32</th><th>float32</th><th>float32</th><th>float32</th><th>float32</th><th>float32</th><th>float32</th><th>float32</th><th>float32</th><th>float32</th><th>float32</th><th>float32</th><th>float32</th><th>float32</th><th>float32</th><th>float32</th><th>float32</th><th>float32</th><th>float32</th><th>float32</th><th>float32</th><th>float32</th><th>float32</th><th>float32</th><th>float32</th><th>float32</th><th>float32</th><th>float32</th><th>float32</th><th>float32</th><th>float32</th><th>float32</th><th>float32</th><th>float32</th><th>float32</th><th>float32</th><th>float32</th><th>float32</th><th>float32</th><th>float32</th><th>float32</th><th>float32</th><th>float32</th><th>float32</th><th>float32</th><th>float32</th><th>float32</th><th>float32</th><th>float32</th><th>float32</th><th>float32</th><th>float32</th><th>float32</th><th>float32</th><th>float32</th><th>float32</th><th>float32</th><th>float32</th><th>float32</th><th>float32</th><th>float32</th><th>float32</th><th>float32</th><th>float32</th><th>float32</th><th>float32</th><th>float32</th><th>float32</th><th>float32</th><th>float32</th><th>float32</th><th>float32</th><th>float32</th><th>float32</th><th>float32</th><th>float32</th><th>float32</th><th>float32</th><th>float32</th><th>float32</th><th>float32</th><th>int32</th></tr></thead>\n",
       "<tr><td>2</td><td>SGA-2020 2</td><td>PGC1283207</td><td>1283207</td><td>228.3770865</td><td>5.4232017</td><td>S?</td><td>152.2</td><td>0.36307806</td><td>0.724436</td><td>0.03463229</td><td>23.40448</td><td>16.976</td><td>False</td><td>LEDA-20181114</td><td>0</td><td>PGC1283207</td><td>1</td><td>True</td><td>228.3770865</td><td>5.4232017</td><td>0.36307806</td><td>2283p055</td><td>228.3770803831908</td><td>5.423191398593787</td><td>0.49470574</td><td>SB26</td><td>158.20142</td><td>0.545691</td><td>228.37700918822188</td><td>5.4232652570544015</td><td>10.897086</td><td>3.3509698</td><td>3.1147978</td><td>3.240862</td><td>5.902337</td><td>6.9126143</td><td>7.941369</td><td>8.997992</td><td>10.073601</td><td>11.199986</td><td>12.391357</td><td>13.561038</td><td>14.841172</td><td>16.966799</td><td>16.108246</td><td>15.486356</td><td>16.879545</td><td>16.024958</td><td>15.400715</td><td>16.818878</td><td>15.967034</td><td>15.341793</td><td>16.776297</td><td>15.925804</td><td>15.300776</td><td>16.746685</td><td>15.897334</td><td>15.272053</td><td>16.725166</td><td>15.876816</td><td>15.2521105</td><td>16.708357</td><td>15.862035</td><td>15.237181</td><td>16.696539</td><td>15.851936</td><td>15.226998</td><td>16.689613</td><td>15.844313</td><td>15.21976</td><td>0.013392451</td><td>0.02354</td><td>0.021872982</td><td>0.01736985</td><td>0.024445537</td><td>0.039866067</td><td>0.05026544</td><td>0.08455789</td><td>0.122911856</td><td>0.005682776</td><td>0.0054258136</td><td>0.0049038026</td><td>0.005588406</td><td>0.005323561</td><td>0.0047632363</td><td>0.00543534</td><td>0.005177031</td><td>0.0046343105</td><td>0.0053025587</td><td>0.005040888</td><td>0.0045181247</td><td>0.005206092</td><td>0.0049438984</td><td>0.0044374703</td><td>0.0051483097</td><td>0.0048758644</td><td>0.0043834248</td><td>0.0051032505</td><td>0.0048264163</td><td>0.004344248</td><td>0.0050705094</td><td>0.004792021</td><td>0.004319857</td><td>0.005054293</td><td>0.004765629</td><td>0.0043044444</td><td>16.65942</td><td>0.34037337</td><td>0.2978292</td><td>3.0239506</td><td>0.07928849</td><td>15.820566</td><td>0.2640441</td><td>0.34559453</td><td>3.3033552</td><td>0.003811298</td><td>15.195567</td><td>0.29826432</td><td>0.3001073</td><td>3.2333765</td><td>0.011723555</td><td>0</td></tr>\n",
       "<tr><td>3</td><td>SGA-2020 3</td><td>PGC1310416</td><td>1310416</td><td>202.54443750000002</td><td>6.9345944</td><td>Sc</td><td>159.26</td><td>0.4017908</td><td>0.7816278</td><td>0.073888786</td><td>23.498482</td><td>16.85</td><td>False</td><td>LEDA-20181114</td><td>1</td><td>PGC1310416</td><td>1</td><td>True</td><td>202.54443750000002</td><td>6.9345944</td><td>0.4017908</td><td>2025p070</td><td>202.5444619671207</td><td>6.9346244322326624</td><td>0.55350494</td><td>SB26</td><td>161.5937</td><td>0.7291764</td><td>202.54432739596137</td><td>6.934806737209989</td><td>15.746941</td><td>5.6416235</td><td>5.2647552</td><td>5.0895185</td><td>5.9838247</td><td>7.4356494</td><td>8.728868</td><td>10.087478</td><td>11.529764</td><td>12.818195</td><td>14.115497</td><td>15.319822</td><td>16.605148</td><td>16.963299</td><td>16.307854</td><td>15.806882</td><td>16.729511</td><td>16.097378</td><td>15.615527</td><td>16.606344</td><td>15.990707</td><td>15.518403</td><td>16.525967</td><td>15.917321</td><td>15.450624</td><td>16.462585</td><td>15.859485</td><td>15.397182</td><td>16.419558</td><td>15.820947</td><td>15.36243</td><td>16.390558</td><td>15.796369</td><td>15.338905</td><td>16.376112</td><td>15.782492</td><td>15.323709</td><td>16.364115</td><td>15.773462</td><td>15.313725</td><td>0.036992554</td><td>0.034982767</td><td>0.037769336</td><td>0.049429573</td><td>0.052699674</td><td>0.074114166</td><td>0.07914538</td><td>0.09781406</td><td>0.15534972</td><td>0.016095797</td><td>0.019181909</td><td>0.021539452</td><td>0.013955905</td><td>0.016594552</td><td>0.018640138</td><td>0.012786752</td><td>0.015244632</td><td>0.01715491</td><td>0.011973826</td><td>0.014366956</td><td>0.016208366</td><td>0.011358372</td><td>0.013676575</td><td>0.015474222</td><td>0.010944939</td><td>0.013225297</td><td>0.015011175</td><td>0.010691595</td><td>0.012931233</td><td>0.014687982</td><td>0.010546411</td><td>0.012796015</td><td>0.014518412</td><td>0.010457551</td><td>0.012685407</td><td>0.014379212</td><td>16.284733</td><td>1.0914493</td><td>0.24674739</td><td>2.4320207</td><td>0.68685365</td><td>15.704403</td><td>0.8764323</td><td>0.27360612</td><td>2.4995425</td><td>0.49343896</td><td>15.235263</td><td>1.3098688</td><td>0.17866786</td><td>2.1750498</td><td>0.20391206</td><td>0</td></tr>\n",
       "<tr><td>4</td><td>SGA-2020 4</td><td>SDSSJ145059.93+135143.0</td><td>4435547</td><td>222.749787</td><td>13.8619111</td><td>S?</td><td>44.57</td><td>0.33342642</td><td>0.6637431</td><td>0.07567602</td><td>24.457481</td><td>18.214</td><td>False</td><td>LEDA-20181114</td><td>2</td><td>SDSSJ145059.93+135143.0</td><td>1</td><td>True</td><td>222.749787</td><td>13.8619111</td><td>0.33342642</td><td>2228p137</td><td>222.7497050504303</td><td>13.861929561160224</td><td>0.37067476</td><td>SB26</td><td>45.28537</td><td>0.70922077</td><td>222.749650475464</td><td>13.862052070022896</td><td>8.877115</td><td>4.652771</td><td>4.4837785</td><td>4.4959745</td><td>2.01033</td><td>3.3967943</td><td>4.76257</td><td>6.043787</td><td>7.242806</td><td>8.250407</td><td>9.158723</td><td>10.083457</td><td>11.120243</td><td>19.97595</td><td>19.190666</td><td>18.649523</td><td>19.098536</td><td>18.397219</td><td>17.899643</td><td>18.624952</td><td>17.967802</td><td>17.50231</td><td>18.35278</td><td>17.718002</td><td>17.265854</td><td>18.192762</td><td>17.5654</td><td>17.115404</td><td>18.10496</td><td>17.480022</td><td>17.033989</td><td>18.053415</td><td>17.430794</td><td>16.982971</td><td>18.020155</td><td>17.399996</td><td>16.948252</td><td>17.994783</td><td>17.377092</td><td>16.924469</td><td>0.02113719</td><td>0.03639431</td><td>0.051901262</td><td>0.06539029</td><td>0.08552586</td><td>0.07008602</td><td>0.070394725</td><td>0.08394975</td><td>0.113649584</td><td>0.013428732</td><td>0.017600043</td><td>0.016373685</td><td>0.012251812</td><td>0.014566466</td><td>0.013732588</td><td>0.012644532</td><td>0.014030071</td><td>0.013153961</td><td>0.012747069</td><td>0.013512552</td><td>0.012818239</td><td>0.012865601</td><td>0.01324455</td><td>0.012532208</td><td>0.012762528</td><td>0.013058522</td><td>0.012420634</td><td>0.01252645</td><td>0.012827468</td><td>0.012283978</td><td>0.012320441</td><td>0.012607317</td><td>0.012104107</td><td>0.0121167945</td><td>0.01244376</td><td>0.011985352</td><td>17.896797</td><td>0.5557265</td><td>0.25455818</td><td>3.167909</td><td>1.0522435</td><td>17.28287</td><td>0.4885815</td><td>0.2782499</td><td>3.2144456</td><td>1.3733263</td><td>16.807674</td><td>0.5177045</td><td>0.32264626</td><td>2.900518</td><td>1.8054093</td><td>0</td></tr>\n",
       "<tr><td>7</td><td>SGA-2020 7</td><td>PGC1742504</td><td>1742504</td><td>182.0888085</td><td>25.6022764</td><td>Sbc</td><td>84.97</td><td>0.548277</td><td>0.25118864</td><td>0.10090814</td><td>24.91348</td><td>17.59</td><td>False</td><td>LEDA-20181114</td><td>3</td><td>PGC1742504</td><td>1</td><td>True</td><td>182.0888085</td><td>25.6022764</td><td>0.548277</td><td>1820p255</td><td>182.08882232629614</td><td>25.60226821438983</td><td>0.8883204</td><td>SB26</td><td>84.857475</td><td>0.19753796</td><td>182.08873760544392</td><td>25.602311195157757</td><td>19.779116</td><td>6.5958204</td><td>6.0386286</td><td>5.8089786</td><td>9.279068</td><td>10.949478</td><td>12.652142</td><td>14.446171</td><td>16.323679</td><td>18.392954</td><td>20.915508</td><td>23.566542</td><td>26.649612</td><td>17.390274</td><td>16.360935</td><td>15.531964</td><td>17.285898</td><td>16.262264</td><td>15.440768</td><td>17.2167</td><td>16.195492</td><td>15.380734</td><td>17.16217</td><td>16.144245</td><td>15.334935</td><td>17.130178</td><td>16.110302</td><td>15.304758</td><td>17.104496</td><td>16.084463</td><td>15.280803</td><td>17.081282</td><td>16.061373</td><td>15.2589855</td><td>17.063671</td><td>16.045204</td><td>15.243196</td><td>17.046705</td><td>16.031244</td><td>15.23268</td><td>0.04351465</td><td>0.055440858</td><td>0.052207235</td><td>0.07507412</td><td>0.0793679</td><td>0.10347854</td><td>0.13569456</td><td>0.13104819</td><td>0.17234002</td><td>0.03885276</td><td>0.03744209</td><td>0.03786608</td><td>0.035534665</td><td>0.03441038</td><td>0.03503794</td><td>0.033557214</td><td>0.032548346</td><td>0.033348277</td><td>0.031964395</td><td>0.03106612</td><td>0.031957533</td><td>0.031133845</td><td>0.030202182</td><td>0.031190341</td><td>0.030430589</td><td>0.029511228</td><td>0.030530946</td><td>0.02975241</td><td>0.028853998</td><td>0.029866546</td><td>0.02928568</td><td>0.0284345</td><td>0.029445464</td><td>0.028843498</td><td>0.028076617</td><td>0.029169334</td><td>16.995174</td><td>21.083004</td><td>0.0164273</td><td>1.9079465</td><td>0.029703742</td><td>15.991165</td><td>0.7657307</td><td>0.52285546</td><td>2.3045986</td><td>0.006013103</td><td>15.191324</td><td>1.0408205</td><td>0.32956335</td><td>2.1520333</td><td>0.004725194</td><td>0</td></tr>\n",
       "<tr><td>18</td><td>SGA-2020 18</td><td>2MASXJ12340801+4535444</td><td>3550748</td><td>188.5335525</td><td>45.5956434</td><td>E</td><td>168.65</td><td>0.53088444</td><td>0.6950243</td><td>0.07609531</td><td>23.97948</td><td>16.726</td><td>False</td><td>LEDA-20181114</td><td>4</td><td>2MASXJ12340801+4535444</td><td>1</td><td>True</td><td>188.5335525</td><td>45.5956434</td><td>0.53088444</td><td>1883p455</td><td>188.53364923054596</td><td>45.595620212931856</td><td>0.73435897</td><td>SB26</td><td>166.25127</td><td>0.70995796</td><td>188.53349052789085</td><td>45.59567446403057</td><td>15.694805</td><td>5.091253</td><td>4.670616</td><td>2.9429996</td><td>5.219665</td><td>6.6119533</td><td>8.228266</td><td>10.109745</td><td>12.170589</td><td>14.364073</td><td>16.722517</td><td>19.18709</td><td>22.03077</td><td>17.208511</td><td>16.224203</td><td>15.566424</td><td>17.050343</td><td>16.080097</td><td>15.443468</td><td>16.921791</td><td>15.962402</td><td>15.347263</td><td>16.814959</td><td>15.864242</td><td>15.27134</td><td>16.729906</td><td>15.787886</td><td>15.218466</td><td>16.664564</td><td>15.730083</td><td>15.182751</td><td>16.61991</td><td>15.686324</td><td>15.1601305</td><td>16.585676</td><td>15.654064</td><td>15.148039</td><td>16.558054</td><td>15.629669</td><td>15.141826</td><td>0.032001704</td><td>0.043849397</td><td>0.045203492</td><td>0.072918765</td><td>0.06263939</td><td>0.07675708</td><td>0.10399303</td><td>0.07780949</td><td>0.14017467</td><td>0.016467415</td><td>0.021250801</td><td>0.032092847</td><td>0.0149329165</td><td>0.019061867</td><td>0.028947951</td><td>0.01369758</td><td>0.01736746</td><td>0.026648495</td><td>0.012623343</td><td>0.015980754</td><td>0.024998168</td><td>0.011793644</td><td>0.014977396</td><td>0.023862366</td><td>0.011184664</td><td>0.014255281</td><td>0.023120966</td><td>0.010785815</td><td>0.013740733</td><td>0.022603082</td><td>0.010472503</td><td>0.013351409</td><td>0.022360764</td><td>0.010212836</td><td>0.013043255</td><td>0.022296576</td><td>16.471447</td><td>0.3236818</td><td>1.9206839</td><td>2.3249283</td><td>0.0973919</td><td>15.540598</td><td>0.3247282</td><td>1.7439244</td><td>2.1774826</td><td>0.023485765</td><td>15.124181</td><td>0.16547345</td><td>1.4694684</td><td>3.3948786</td><td>0.028653827</td><td>0</td></tr>\n",
       "<tr><td>20</td><td>SGA-2020 20</td><td>SDSSJ173412.71+572041.6</td><td>3331584</td><td>263.5529355</td><td>57.34490699999999</td><td>S?</td><td>152.58</td><td>0.4487454</td><td>0.5333349</td><td>0.08364453</td><td>24.92448</td><td>18.036</td><td>False</td><td>LEDA-20181114</td><td>5</td><td>SDSSJ173412.71+572041.6</td><td>1</td><td>True</td><td>263.5529355</td><td>57.34490699999999</td><td>0.4487454</td><td>2635p572</td><td>263.55294849855886</td><td>57.344862145664294</td><td>0.4460123</td><td>SB26</td><td>152.3756</td><td>0.5778338</td><td>263.5528114673963</td><td>57.34481025685253</td><td>10.459747</td><td>5.9780583</td><td>5.751067</td><td>4.821581</td><td>1.4858595</td><td>3.4448266</td><td>5.1149526</td><td>6.748707</td><td>8.426254</td><td>9.720271</td><td>11.022999</td><td>12.0887985</td><td>13.380368</td><td>20.656942</td><td>20.044735</td><td>19.40886</td><td>19.194794</td><td>18.66572</td><td>18.231262</td><td>18.599888</td><td>18.123905</td><td>17.745926</td><td>18.256256</td><td>17.807074</td><td>17.476473</td><td>18.040592</td><td>17.60353</td><td>17.319197</td><td>17.926336</td><td>17.500519</td><td>17.228865</td><td>17.85259</td><td>17.42695</td><td>17.180876</td><td>17.811844</td><td>17.39206</td><td>17.151228</td><td>17.783718</td><td>17.36542</td><td>17.143204</td><td>0.02069058</td><td>0.026094317</td><td>0.03480586</td><td>0.05076174</td><td>0.08751116</td><td>0.10309491</td><td>0.08337893</td><td>0.10982923</td><td>0.13734566</td><td>0.031223593</td><td>0.046367057</td><td>0.0777883</td><td>0.015935475</td><td>0.020728666</td><td>0.032657374</td><td>0.012760426</td><td>0.014699919</td><td>0.022893604</td><td>0.010505663</td><td>0.011998588</td><td>0.018923525</td><td>0.010358521</td><td>0.011374098</td><td>0.017719442</td><td>0.010557283</td><td>0.0112259</td><td>0.017149422</td><td>0.010553381</td><td>0.011049819</td><td>0.017135512</td><td>0.010413324</td><td>0.010993488</td><td>0.01699026</td><td>0.010291049</td><td>0.010862263</td><td>0.017057167</td><td>17.6411</td><td>0.6362121</td><td>0.53480667</td><td>2.8045392</td><td>1.7123051</td><td>17.22401</td><td>0.6144014</td><td>0.53440714</td><td>2.7180903</td><td>2.1161501</td><td>17.062769</td><td>0.44818503</td><td>0.43006793</td><td>3.1755726</td><td>0.97457016</td><td>0</td></tr>\n",
       "<tr><td>24</td><td>SGA-2020 24</td><td>PGC2162969</td><td>2162969</td><td>247.42443000000003</td><td>40.24824</td><td>S?</td><td>0.0</td><td>0.43451023</td><td>0.91201085</td><td>0.030465743</td><td>23.110481</td><td>16.292</td><td>False</td><td>LEDA-20181114</td><td>6</td><td>PGC200157_GROUP</td><td>2</td><td>False</td><td>247.41561265388845</td><td>40.24057507998105</td><td>1.0561523</td><td>2474p402</td><td>247.42445048371366</td><td>40.24820033835744</td><td>0.5431378</td><td>LEDA</td><td>101.95022</td><td>0.89250207</td><td>247.42434880302983</td><td>40.24826160366282</td><td>15.888059</td><td>-1.0</td><td>-1.0</td><td>-1.0</td><td>-1.0</td><td>-1.0</td><td>-1.0</td><td>-1.0</td><td>-1.0</td><td>-1.0</td><td>-1.0</td><td>-1.0</td><td>-1.0</td><td>-1.0</td><td>-1.0</td><td>-1.0</td><td>-1.0</td><td>-1.0</td><td>-1.0</td><td>-1.0</td><td>-1.0</td><td>-1.0</td><td>-1.0</td><td>-1.0</td><td>-1.0</td><td>-1.0</td><td>-1.0</td><td>-1.0</td><td>-1.0</td><td>-1.0</td><td>-1.0</td><td>-1.0</td><td>-1.0</td><td>-1.0</td><td>-1.0</td><td>-1.0</td><td>-1.0</td><td>-1.0</td><td>-1.0</td><td>-1.0</td><td>-1.0</td><td>-1.0</td><td>-1.0</td><td>-1.0</td><td>-1.0</td><td>-1.0</td><td>-1.0</td><td>-1.0</td><td>-1.0</td><td>-1.0</td><td>-1.0</td><td>-1.0</td><td>-1.0</td><td>-1.0</td><td>-1.0</td><td>-1.0</td><td>-1.0</td><td>-1.0</td><td>-1.0</td><td>-1.0</td><td>-1.0</td><td>-1.0</td><td>-1.0</td><td>-1.0</td><td>-1.0</td><td>-1.0</td><td>-1.0</td><td>-1.0</td><td>-1.0</td><td>-1.0</td><td>-1.0</td><td>-1.0</td><td>-1.0</td><td>-1.0</td><td>-1.0</td><td>-1.0</td><td>-1.0</td><td>-1.0</td><td>-1.0</td><td>-1.0</td><td>-1.0</td><td>-1.0</td><td>-1.0</td><td>-1.0</td><td>-1.0</td><td>-1.0</td><td>-1.0</td><td>-1.0</td><td>-1.0</td><td>-1.0</td><td>-1.0</td><td>0</td></tr>\n",
       "<tr><td>25</td><td>SGA-2020 25</td><td>PGC054121</td><td>54121</td><td>227.47036350000002</td><td>13.2562981</td><td>Sbc</td><td>70.64</td><td>0.8165824</td><td>0.86496794</td><td>0.022379482</td><td>23.42948</td><td>15.241</td><td>False</td><td>LEDA-20181114</td><td>7</td><td>PGC054121</td><td>1</td><td>True</td><td>227.47036350000002</td><td>13.2562981</td><td>0.8165824</td><td>2275p132</td><td>227.47031353123606</td><td>13.256402782093659</td><td>0.9032927</td><td>SB26</td><td>54.9372</td><td>0.9290268</td><td>227.4700429472929</td><td>13.256485984671057</td><td>23.756569</td><td>9.900074</td><td>9.4958725</td><td>9.147629</td><td>10.191483</td><td>12.735173</td><td>14.82731</td><td>16.736444</td><td>18.73402</td><td>20.828588</td><td>22.853401</td><td>24.907934</td><td>27.098782</td><td>15.6729</td><td>15.045083</td><td>14.593568</td><td>15.3769245</td><td>14.774321</td><td>14.341049</td><td>15.246051</td><td>14.654672</td><td>14.2298155</td><td>15.173311</td><td>14.588186</td><td>14.167052</td><td>15.122127</td><td>14.541565</td><td>14.123228</td><td>15.083035</td><td>14.505676</td><td>14.089516</td><td>15.057359</td><td>14.482468</td><td>14.068062</td><td>15.040025</td><td>14.467183</td><td>14.055928</td><td>15.028107</td><td>14.457384</td><td>14.047177</td><td>0.018359262</td><td>0.017375102</td><td>0.016255992</td><td>0.019816728</td><td>0.038647514</td><td>0.037284017</td><td>0.04342706</td><td>0.071717694</td><td>0.099439405</td><td>0.0058437292</td><td>0.0069466177</td><td>0.008048645</td><td>0.0045692935</td><td>0.005496873</td><td>0.006436989</td><td>0.004073469</td><td>0.0049413145</td><td>0.0058239037</td><td>0.003822102</td><td>0.0046530096</td><td>0.0054966044</td><td>0.0036556777</td><td>0.004464092</td><td>0.0052853883</td><td>0.0035357797</td><td>0.004325215</td><td>0.005129757</td><td>0.0034596229</td><td>0.00423875</td><td>0.005034937</td><td>0.0034086278</td><td>0.00418244</td><td>0.0049834424</td><td>0.0033738492</td><td>0.0041466616</td><td>0.0049476875</td><td>14.970135</td><td>2.6651645</td><td>0.3175275</td><td>2.7061899</td><td>0.84036297</td><td>14.407399</td><td>1.8774098</td><td>0.4264286</td><td>2.8085065</td><td>0.7415527</td><td>14.005723</td><td>1.1530024</td><td>0.7036117</td><td>3.0188198</td><td>0.7843209</td><td>0</td></tr>\n",
       "<tr><td>26</td><td>SGA-2020 26</td><td>PGC2468893</td><td>2468893</td><td>163.598436</td><td>54.4129738</td><td></td><td>64.51</td><td>0.35892195</td><td>0.53703177</td><td>0.17676328</td><td>24.926481</td><td>18.523</td><td>False</td><td>LEDA-20181114</td><td>8</td><td>PGC2468893</td><td>1</td><td>True</td><td>163.598436</td><td>54.4129738</td><td>0.35892195</td><td>1635p545</td><td>163.5984039051307</td><td>54.41298240323229</td><td>0.3833318</td><td>SB26</td><td>46.26398</td><td>0.8524061</td><td>163.5982638998639</td><td>54.41303380382761</td><td>8.821292</td><td>3.2359526</td><td>2.924398</td><td>2.021345</td><td>2.7333577</td><td>3.383293</td><td>4.131329</td><td>5.008367</td><td>6.0306945</td><td>7.188326</td><td>8.429446</td><td>9.863966</td><td>11.499954</td><td>18.91375</td><td>17.621288</td><td>16.865643</td><td>18.731339</td><td>17.469679</td><td>16.733221</td><td>18.59152</td><td>17.350786</td><td>16.62865</td><td>18.480558</td><td>17.254736</td><td>16.545355</td><td>18.388554</td><td>17.175478</td><td>16.476664</td><td>18.312742</td><td>17.111551</td><td>16.42716</td><td>18.256575</td><td>17.062248</td><td>16.38989</td><td>18.215641</td><td>17.022528</td><td>16.365273</td><td>18.179653</td><td>16.990267</td><td>16.35279</td><td>0.0023302117</td><td>0.005615393</td><td>0.008432587</td><td>0.009294833</td><td>0.0114881545</td><td>0.029902346</td><td>0.050029624</td><td>0.0698561</td><td>0.10298213</td><td>0.008917422</td><td>0.008953597</td><td>0.015666634</td><td>0.0076031582</td><td>0.007837551</td><td>0.013918447</td><td>0.006716909</td><td>0.0069769695</td><td>0.012487223</td><td>0.006135703</td><td>0.0064592385</td><td>0.011609407</td><td>0.0057196575</td><td>0.0060675964</td><td>0.010953607</td><td>0.005430515</td><td>0.005781204</td><td>0.010553227</td><td>0.005267251</td><td>0.0056759133</td><td>0.010439154</td><td>0.005154885</td><td>0.00546258</td><td>0.010156198</td><td>0.005106954</td><td>0.0054070675</td><td>0.010169683</td><td>18.01642</td><td>1.2385604</td><td>0.17051077</td><td>1.4091581</td><td>0.99601644</td><td>16.817999</td><td>1.4139539</td><td>0.1533624</td><td>1.2380737</td><td>0.13531691</td><td>16.309488</td><td>0.29089946</td><td>0.21375196</td><td>2.5342278</td><td>0.2944147</td><td>0</td></tr>\n",
       "<tr><td>29</td><td>SGA-2020 29</td><td>2MASXJ11122927+6014431</td><td>3382669</td><td>168.12193649999998</td><td>60.245229599999995</td><td></td><td>95.18</td><td>0.37153524</td><td>0.40550855</td><td>0.13134186</td><td>24.756481</td><td>18.278</td><td>False</td><td>LEDA-20181114</td><td>9</td><td>2MASXJ11122927+6014431</td><td>1</td><td>True</td><td>168.12193649999998</td><td>60.245229599999995</td><td>0.37153524</td><td>1682p602</td><td>168.12195030280432</td><td>60.24520943972748</td><td>0.5254904</td><td>SB26</td><td>93.27518</td><td>0.4504665</td><td>168.12174206037417</td><td>60.24526113391869</td><td>10.063886</td><td>4.9710255</td><td>4.2121243</td><td>2.955684</td><td>3.917081</td><td>5.031503</td><td>6.3397484</td><td>7.859549</td><td>9.5116625</td><td>11.106687</td><td>12.624502</td><td>14.035045</td><td>15.764712</td><td>18.788036</td><td>17.645203</td><td>16.76298</td><td>18.56597</td><td>17.444305</td><td>16.599722</td><td>18.396406</td><td>17.29114</td><td>16.477816</td><td>18.250896</td><td>17.16368</td><td>16.373098</td><td>18.136703</td><td>17.062458</td><td>16.293201</td><td>18.053637</td><td>16.990055</td><td>16.23756</td><td>17.998623</td><td>16.947845</td><td>16.209606</td><td>17.968748</td><td>16.91967</td><td>16.198694</td><td>17.937456</td><td>16.901102</td><td>16.190332</td><td>0.043608252</td><td>0.068593405</td><td>0.08251232</td><td>0.114085354</td><td>0.18821189</td><td>0.14581837</td><td>0.13098465</td><td>0.18873167</td><td>0.16190481</td><td>0.048937622</td><td>0.053202</td><td>0.070389636</td><td>0.043584738</td><td>0.047049206</td><td>0.0624863</td><td>0.039282635</td><td>0.042405277</td><td>0.056875147</td><td>0.035782997</td><td>0.038730845</td><td>0.05225435</td><td>0.033184648</td><td>0.03600609</td><td>0.049067486</td><td>0.03135153</td><td>0.034110624</td><td>0.046893198</td><td>0.030152028</td><td>0.033022434</td><td>0.045820117</td><td>0.029458879</td><td>0.032266933</td><td>0.045367915</td><td>0.028717741</td><td>0.03176078</td><td>0.045077246</td><td>17.832409</td><td>0.3196674</td><td>1.3563452</td><td>2.7893887</td><td>0.122701444</td><td>16.831856</td><td>0.25142962</td><td>1.251332</td><td>3.1430612</td><td>0.10823416</td><td>16.170433</td><td>0.12689392</td><td>1.2175424</td><td>4.702156</td><td>0.06635867</td><td>0</td></tr>\n",
       "<tr><td>...</td><td>...</td><td>...</td><td>...</td><td>...</td><td>...</td><td>...</td><td>...</td><td>...</td><td>...</td><td>...</td><td>...</td><td>...</td><td>...</td><td>...</td><td>...</td><td>...</td><td>...</td><td>...</td><td>...</td><td>...</td><td>...</td><td>...</td><td>...</td><td>...</td><td>...</td><td>...</td><td>...</td><td>...</td><td>...</td><td>...</td><td>...</td><td>...</td><td>...</td><td>...</td><td>...</td><td>...</td><td>...</td><td>...</td><td>...</td><td>...</td><td>...</td><td>...</td><td>...</td><td>...</td><td>...</td><td>...</td><td>...</td><td>...</td><td>...</td><td>...</td><td>...</td><td>...</td><td>...</td><td>...</td><td>...</td><td>...</td><td>...</td><td>...</td><td>...</td><td>...</td><td>...</td><td>...</td><td>...</td><td>...</td><td>...</td><td>...</td><td>...</td><td>...</td><td>...</td><td>...</td><td>...</td><td>...</td><td>...</td><td>...</td><td>...</td><td>...</td><td>...</td><td>...</td><td>...</td><td>...</td><td>...</td><td>...</td><td>...</td><td>...</td><td>...</td><td>...</td><td>...</td><td>...</td><td>...</td><td>...</td><td>...</td><td>...</td><td>...</td><td>...</td><td>...</td><td>...</td><td>...</td><td>...</td><td>...</td><td>...</td><td>...</td><td>...</td><td>...</td><td>...</td><td>...</td><td>...</td><td>...</td><td>...</td><td>...</td><td>...</td><td>...</td><td>...</td><td>...</td><td>...</td><td>...</td><td>...</td><td>...</td><td>...</td><td>...</td><td>...</td><td>...</td><td>...</td></tr>\n",
       "<tr><td>5005195</td><td>SGA-2020 5005195</td><td>DR8-1793p222-2771</td><td>-1</td><td>179.2945122945355</td><td>22.29616673952341</td><td>PSF</td><td>0.0</td><td>0.454</td><td>1.0</td><td>-1.0</td><td>23.489079</td><td>16.57532</td><td>True</td><td>DR8</td><td>531667</td><td>DR8-1793p222-2771</td><td>1</td><td>True</td><td>179.2945122945355</td><td>22.29616673952341</td><td>0.454</td><td>1793p222</td><td>179.29452573552422</td><td>22.296163107090134</td><td>0.5214359</td><td>SB26</td><td>127.51099</td><td>0.78787744</td><td>179.29444415024022</td><td>22.29623465794375</td><td>13.120567</td><td>2.7214403</td><td>2.8788998</td><td>2.9398167</td><td>4.8742156</td><td>5.801377</td><td>6.8204255</td><td>8.000418</td><td>9.449444</td><td>11.111418</td><td>12.836514</td><td>14.157148</td><td>15.643078</td><td>16.650414</td><td>15.89828</td><td>15.354585</td><td>16.580677</td><td>15.822675</td><td>15.278564</td><td>16.525764</td><td>15.764598</td><td>15.220373</td><td>16.482847</td><td>15.719043</td><td>15.173113</td><td>16.446579</td><td>15.680529</td><td>15.132261</td><td>16.41512</td><td>15.647504</td><td>15.098009</td><td>16.388647</td><td>15.620344</td><td>15.070625</td><td>16.374023</td><td>15.605029</td><td>15.054689</td><td>16.36363</td><td>15.594609</td><td>15.042309</td><td>0.0067810663</td><td>0.015470861</td><td>0.018868009</td><td>0.0351804</td><td>0.076819085</td><td>0.07189938</td><td>0.120865904</td><td>0.10774231</td><td>0.103403516</td><td>0.0147291105</td><td>0.01178085</td><td>0.013183858</td><td>0.013833475</td><td>0.011010024</td><td>0.012317104</td><td>0.013170283</td><td>0.010456909</td><td>0.01169949</td><td>0.012684415</td><td>0.010054476</td><td>0.01124069</td><td>0.012298655</td><td>0.009740337</td><td>0.010866755</td><td>0.011978752</td><td>0.009489733</td><td>0.010574576</td><td>0.011722459</td><td>0.009297767</td><td>0.010351114</td><td>0.011582096</td><td>0.009186632</td><td>0.010223667</td><td>0.011238392</td><td>0.009114673</td><td>0.010145772</td><td>16.250698</td><td>2708.8188</td><td>6.736398e-05</td><td>1.0888201</td><td>0.09743817</td><td>15.483401</td><td>4893.218</td><td>3.7431706e-05</td><td>1.1349467</td><td>0.15635559</td><td>14.918242</td><td>5183.1113</td><td>3.8652575e-05</td><td>1.0811251</td><td>0.046546273</td><td>0</td></tr>\n",
       "<tr><td>5005198</td><td>SGA-2020 5005198</td><td>DR8-0256p000-5752</td><td>-1</td><td>25.66029589306415</td><td>0.08743418519336531</td><td>PSF</td><td>0.0</td><td>0.309</td><td>1.0</td><td>-1.0</td><td>23.935808</td><td>17.857534</td><td>True</td><td>DR8</td><td>531668</td><td>DR8-0256p000-5752</td><td>1</td><td>True</td><td>25.66029589306415</td><td>0.08743418519336531</td><td>0.309</td><td>0256p000</td><td>25.660288526922393</td><td>0.08741395667094204</td><td>0.3246461</td><td>SB26</td><td>160.40857</td><td>0.85456085</td><td>25.660240751556803</td><td>0.08748824034356358</td><td>8.672835</td><td>1.9243348</td><td>2.555829</td><td>2.5514677</td><td>2.9639468</td><td>3.8987544</td><td>4.880886</td><td>5.855751</td><td>6.773247</td><td>7.6435313</td><td>8.407569</td><td>9.137488</td><td>9.739383</td><td>17.689413</td><td>17.376947</td><td>16.915255</td><td>17.534771</td><td>17.178392</td><td>16.713324</td><td>17.418633</td><td>17.03344</td><td>16.567991</td><td>17.337229</td><td>16.934195</td><td>16.47001</td><td>17.282885</td><td>16.866545</td><td>16.405144</td><td>17.247772</td><td>16.8236</td><td>16.364075</td><td>17.22954</td><td>16.799465</td><td>16.339987</td><td>17.21656</td><td>16.783209</td><td>16.325134</td><td>17.208654</td><td>16.772375</td><td>16.31503</td><td>0.011542733</td><td>0.016534021</td><td>0.019527653</td><td>0.024528828</td><td>0.03779441</td><td>0.048323542</td><td>0.04859576</td><td>0.05760323</td><td>0.07877746</td><td>0.023304751</td><td>0.025683159</td><td>0.032197252</td><td>0.020571876</td><td>0.022260716</td><td>0.027982213</td><td>0.018585382</td><td>0.019629896</td><td>0.024599757</td><td>0.017328093</td><td>0.018026909</td><td>0.022563023</td><td>0.016312363</td><td>0.016467035</td><td>0.020473186</td><td>0.015828367</td><td>0.015871944</td><td>0.019749861</td><td>0.015790295</td><td>0.016050369</td><td>0.020129</td><td>0.015616682</td><td>0.015829667</td><td>0.019871147</td><td>0.015310911</td><td>0.015198509</td><td>0.018939396</td><td>17.183558</td><td>0.12294183</td><td>0.19957551</td><td>4.690979</td><td>0.015809352</td><td>16.732452</td><td>0.18256688</td><td>0.21783169</td><td>4.126847</td><td>0.034576368</td><td>16.275085</td><td>0.19656372</td><td>0.20016503</td><td>3.9645846</td><td>0.018176466</td><td>0</td></tr>\n",
       "<tr><td>5005201</td><td>SGA-2020 5005201</td><td>DR8-2520p150-1872</td><td>-1</td><td>252.09096973935718</td><td>14.954508758448847</td><td>PSF</td><td>0.0</td><td>0.967</td><td>1.0</td><td>-1.0</td><td>24.163757</td><td>15.608146</td><td>True</td><td>DR8</td><td>531669</td><td>DR8-2520p150-1872</td><td>1</td><td>True</td><td>252.09096973935718</td><td>14.954508758448847</td><td>0.967</td><td>2520p150</td><td>252.0909699562764</td><td>14.954490607770563</td><td>1.0171216</td><td>SB26</td><td>112.36276</td><td>0.61695623</td><td>252.09092494608447</td><td>14.954535770121065</td><td>20.834295</td><td>12.39982</td><td>7.332598</td><td>6.8353333</td><td>7.0953846</td><td>8.452131</td><td>10.091814</td><td>12.392418</td><td>15.340454</td><td>19.13829</td><td>23.344776</td><td>27.21821</td><td>30.513645</td><td>15.844413</td><td>15.052782</td><td>14.536271</td><td>15.789438</td><td>14.995881</td><td>14.477499</td><td>15.742477</td><td>14.9468355</td><td>14.427818</td><td>15.6968775</td><td>14.900328</td><td>14.379317</td><td>15.654422</td><td>14.85738</td><td>14.334618</td><td>15.606853</td><td>14.809873</td><td>14.284192</td><td>15.563575</td><td>14.767267</td><td>14.240876</td><td>15.533223</td><td>14.739131</td><td>14.213739</td><td>15.516148</td><td>14.722022</td><td>14.1978445</td><td>0.03697918</td><td>0.06280282</td><td>0.04608013</td><td>0.07195521</td><td>0.1295921</td><td>0.13037108</td><td>0.18624833</td><td>0.15069625</td><td>0.17974436</td><td>0.03642822</td><td>0.03608817</td><td>0.040244225</td><td>0.03466639</td><td>0.034279592</td><td>0.03820263</td><td>0.033226386</td><td>0.032795798</td><td>0.03652344</td><td>0.031890143</td><td>0.031462073</td><td>0.034934707</td><td>0.030661047</td><td>0.030226108</td><td>0.033543944</td><td>0.02937417</td><td>0.028967626</td><td>0.032026157</td><td>0.028236996</td><td>0.02786266</td><td>0.030784043</td><td>0.027463831</td><td>0.027154623</td><td>0.030030306</td><td>0.027024347</td><td>0.026709788</td><td>0.029604135</td><td>14.945451</td><td>2005.111</td><td>0.00040117942</td><td>0.30879036</td><td>0.091645196</td><td>14.286089</td><td>2944.6145</td><td>0.00022691571</td><td>0.38378695</td><td>0.08670762</td><td>13.791493</td><td>1679.2966</td><td>0.00038279407</td><td>0.4148775</td><td>0.067777455</td><td>0</td></tr>\n",
       "<tr><td>5005221</td><td>SGA-2020 5005221</td><td>DR8-0412p207-1198</td><td>-1</td><td>41.18047671803841</td><td>20.694042548652554</td><td>PSF</td><td>0.0</td><td>0.471</td><td>1.0</td><td>-1.0</td><td>24.246716</td><td>17.25313</td><td>True</td><td>DR8</td><td>531670</td><td>DR8-0412p207-1198</td><td>1</td><td>True</td><td>41.18047671803841</td><td>20.694042548652554</td><td>0.471</td><td>0412p207</td><td>41.18048574648146</td><td>20.69404158299538</td><td>0.47098938</td><td>SB26</td><td>24.310091</td><td>0.7885375</td><td>41.180405404117785</td><td>20.694120216548455</td><td>10.360117</td><td>2.8015852</td><td>2.7884948</td><td>2.6935434</td><td>3.6186233</td><td>4.4927197</td><td>5.522982</td><td>6.6685233</td><td>7.905727</td><td>9.264321</td><td>10.691406</td><td>12.297847</td><td>14.129682</td><td>17.711948</td><td>16.890347</td><td>16.294775</td><td>17.585072</td><td>16.764051</td><td>16.17261</td><td>17.480307</td><td>16.658499</td><td>16.068928</td><td>17.394457</td><td>16.572569</td><td>15.983902</td><td>17.33007</td><td>16.506886</td><td>15.919504</td><td>17.280218</td><td>16.457634</td><td>15.867954</td><td>17.245039</td><td>16.42228</td><td>15.832606</td><td>17.216467</td><td>16.392227</td><td>15.803128</td><td>17.192717</td><td>16.370075</td><td>15.781465</td><td>0.006780971</td><td>0.010371835</td><td>0.011661904</td><td>0.014844196</td><td>0.021120988</td><td>0.038650826</td><td>0.05184053</td><td>0.07415352</td><td>0.14769338</td><td>0.008487011</td><td>0.008379533</td><td>0.010376132</td><td>0.0076383264</td><td>0.00754701</td><td>0.009338417</td><td>0.0069949273</td><td>0.0069124824</td><td>0.008536573</td><td>0.0065273605</td><td>0.0064387866</td><td>0.007945147</td><td>0.00619924</td><td>0.006105768</td><td>0.0075339405</td><td>0.005975615</td><td>0.005874753</td><td>0.007227205</td><td>0.005815386</td><td>0.005709461</td><td>0.007027677</td><td>0.0057047377</td><td>0.0055858823</td><td>0.006874229</td><td>0.005629476</td><td>0.005510496</td><td>0.006785888</td><td>17.120892</td><td>0.3279772</td><td>0.5309596</td><td>2.2173948</td><td>0.09612841</td><td>16.301027</td><td>0.3084072</td><td>0.55606824</td><td>2.2989004</td><td>0.085739866</td><td>15.718236</td><td>0.26173127</td><td>0.64325035</td><td>2.4841642</td><td>0.042753268</td><td>0</td></tr>\n",
       "<tr><td>5005223</td><td>SGA-2020 5005223</td><td>DR8-2276m017-4087</td><td>-1</td><td>227.64094321975787</td><td>-1.6981529262567927</td><td>PSF</td><td>0.0</td><td>0.607</td><td>1.0</td><td>-1.0</td><td>24.982948</td><td>17.438524</td><td>True</td><td>DR8</td><td>531671</td><td>DR8-2276m017-4087</td><td>1</td><td>True</td><td>227.64094321975787</td><td>-1.6981529262567927</td><td>0.607</td><td>2276m017</td><td>227.64087801284978</td><td>-1.69817359815747</td><td>0.6267315</td><td>SB26</td><td>88.710266</td><td>0.41053277</td><td>227.64060153036226</td><td>-1.698142220551913</td><td>13.871249</td><td>4.8801594</td><td>4.561895</td><td>4.4663424</td><td>4.637326</td><td>5.8509827</td><td>7.062148</td><td>8.3112545</td><td>9.802893</td><td>11.619408</td><td>13.734685</td><td>16.200775</td><td>18.801945</td><td>18.138233</td><td>17.271214</td><td>16.475805</td><td>17.985514</td><td>17.081915</td><td>16.29826</td><td>17.878677</td><td>16.971369</td><td>16.185461</td><td>17.806702</td><td>16.894045</td><td>16.103714</td><td>17.742344</td><td>16.827522</td><td>16.0391</td><td>17.681814</td><td>16.768332</td><td>15.988243</td><td>17.63443</td><td>16.726484</td><td>15.948485</td><td>17.59487</td><td>16.694088</td><td>15.911636</td><td>17.561165</td><td>16.661354</td><td>15.881864</td><td>0.074944876</td><td>0.078999035</td><td>0.0779275</td><td>0.1000401</td><td>0.11301166</td><td>0.1259314</td><td>0.1631884</td><td>0.17922209</td><td>0.17365636</td><td>0.13491407</td><td>0.10655037</td><td>0.07736688</td><td>0.119502485</td><td>0.092207536</td><td>0.067632765</td><td>0.10865148</td><td>0.08376383</td><td>0.061735567</td><td>0.10058281</td><td>0.07734296</td><td>0.057560686</td><td>0.09488179</td><td>0.07289161</td><td>0.054465514</td><td>0.09090397</td><td>0.069909394</td><td>0.052149493</td><td>0.087058425</td><td>0.0673016</td><td>0.050325148</td><td>0.08294334</td><td>0.064598925</td><td>0.048608597</td><td>0.0804247</td><td>0.06269838</td><td>0.04731585</td><td>17.348944</td><td>2215.7397</td><td>0.00017354474</td><td>0.9362168</td><td>0.0016087268</td><td>16.531103</td><td>11765.006</td><td>2.4469497e-05</td><td>1.2244116</td><td>0.0093818195</td><td>15.758231</td><td>4405.8867</td><td>6.278418e-05</td><td>1.2418394</td><td>0.015200222</td><td>0</td></tr>\n",
       "<tr><td>5005230</td><td>SGA-2020 5005230</td><td>DR8-0774m270-618</td><td>-1</td><td>77.3975106136412</td><td>-27.106348434308803</td><td>PSF</td><td>0.0</td><td>0.332</td><td>1.0</td><td>-1.0</td><td>23.547586</td><td>17.313416</td><td>True</td><td>DR8</td><td>531672</td><td>DR8-0774m270-618</td><td>1</td><td>True</td><td>77.3975106136412</td><td>-27.106348434308803</td><td>0.332</td><td>0774m270</td><td>77.3975059709664</td><td>-27.106359637272558</td><td>0.35891744</td><td>SB26</td><td>111.56699</td><td>0.75475377</td><td>77.39739623804046</td><td>-27.106283004349642</td><td>8.411317</td><td>1.5404403</td><td>2.1904042</td><td>2.2546275</td><td>3.380961</td><td>4.237079</td><td>5.1402497</td><td>6.015476</td><td>6.929567</td><td>7.8893332</td><td>8.840655</td><td>9.867512</td><td>10.767524</td><td>17.413584</td><td>16.993366</td><td>16.49279</td><td>17.313818</td><td>16.864426</td><td>16.35793</td><td>17.234362</td><td>16.76295</td><td>16.253544</td><td>17.179771</td><td>16.696907</td><td>16.187393</td><td>17.142206</td><td>16.651445</td><td>16.141762</td><td>17.115921</td><td>16.620028</td><td>16.109167</td><td>17.097752</td><td>16.595303</td><td>16.084223</td><td>17.083128</td><td>16.578005</td><td>16.067503</td><td>17.075493</td><td>16.567142</td><td>16.058277</td><td>0.02643086</td><td>0.031345174</td><td>0.035310734</td><td>0.04256188</td><td>0.04243312</td><td>0.08359334</td><td>0.06686159</td><td>0.08592497</td><td>0.0841673</td><td>0.04186574</td><td>0.040063415</td><td>0.044546094</td><td>0.03840889</td><td>0.035972457</td><td>0.03978237</td><td>0.035699315</td><td>0.03274588</td><td>0.03573635</td><td>0.034136016</td><td>0.031140357</td><td>0.03432494</td><td>0.03301214</td><td>0.029928898</td><td>0.03298083</td><td>0.032247484</td><td>0.029115444</td><td>0.032043472</td><td>0.03161836</td><td>0.02829384</td><td>0.030819874</td><td>0.031205405</td><td>0.027862772</td><td>0.030369842</td><td>0.030991472</td><td>0.027592061</td><td>0.030123282</td><td>17.052347</td><td>0.1408417</td><td>0.23734568</td><td>3.6229866</td><td>0.006182706</td><td>16.530476</td><td>0.23168655</td><td>0.21942548</td><td>3.1118705</td><td>0.01690107</td><td>16.022186</td><td>0.24194787</td><td>0.20102008</td><td>3.1345527</td><td>0.011277596</td><td>0</td></tr>\n",
       "<tr><td>5005238</td><td>SGA-2020 5005238</td><td>DR8-3541p242-2263</td><td>-1</td><td>354.0254056671457</td><td>24.266276344902867</td><td>PSF</td><td>0.0</td><td>0.553</td><td>1.0</td><td>-1.0</td><td>23.834211</td><td>16.492105</td><td>True</td><td>DR8</td><td>531673</td><td>DR8-3541p242-2263</td><td>1</td><td>True</td><td>354.0254056671457</td><td>24.266276344902867</td><td>0.553</td><td>3541p242</td><td>354.02541432263376</td><td>24.266268718736388</td><td>0.49792165</td><td>SB26</td><td>176.78943</td><td>0.80814004</td><td>354.0253076392978</td><td>24.2663371152309</td><td>12.073684</td><td>2.3774166</td><td>2.3172183</td><td>2.1728494</td><td>4.87311</td><td>5.8856797</td><td>6.899788</td><td>7.8992434</td><td>8.894083</td><td>10.047215</td><td>11.390644</td><td>13.084164</td><td>14.93765</td><td>16.594566</td><td>15.884674</td><td>15.318247</td><td>16.507622</td><td>15.800316</td><td>15.236118</td><td>16.44361</td><td>15.739594</td><td>15.178294</td><td>16.399588</td><td>15.697594</td><td>15.139128</td><td>16.370625</td><td>15.668677</td><td>15.11076</td><td>16.348858</td><td>15.647803</td><td>15.090749</td><td>16.331417</td><td>15.63063</td><td>15.073454</td><td>16.316664</td><td>15.615721</td><td>15.059018</td><td>16.303864</td><td>15.603283</td><td>15.049853</td><td>0.010577562</td><td>0.022966072</td><td>0.021998236</td><td>0.019190194</td><td>0.02975555</td><td>0.050584648</td><td>0.051846568</td><td>0.08969881</td><td>0.16201551</td><td>0.010917041</td><td>0.016026055</td><td>0.010949657</td><td>0.010120528</td><td>0.014857519</td><td>0.010206339</td><td>0.009596533</td><td>0.014086385</td><td>0.009730353</td><td>0.00926139</td><td>0.013581817</td><td>0.009423394</td><td>0.0089795785</td><td>0.013141614</td><td>0.009135103</td><td>0.008878088</td><td>0.012995436</td><td>0.0090526445</td><td>0.008682937</td><td>0.012702772</td><td>0.008857431</td><td>0.008571938</td><td>0.012533876</td><td>0.008756143</td><td>0.008475702</td><td>0.012394868</td><td>0.008699074</td><td>16.284523</td><td>0.23109037</td><td>0.321907</td><td>3.0286288</td><td>0.1996051</td><td>15.582087</td><td>0.24166907</td><td>0.31360328</td><td>2.8916779</td><td>0.06815668</td><td>15.030018</td><td>0.21598968</td><td>0.32428586</td><td>2.999769</td><td>0.03202154</td><td>0</td></tr>\n",
       "<tr><td>5005241</td><td>SGA-2020 5005241</td><td>DR8-3598p237-618</td><td>-1</td><td>359.77852409632925</td><td>23.672069316241558</td><td>PSF</td><td>0.0</td><td>0.647</td><td>1.0</td><td>-1.0</td><td>25.045397</td><td>17.362394</td><td>True</td><td>DR8</td><td>531674</td><td>DR8-3598p237-618</td><td>1</td><td>True</td><td>359.77852409632925</td><td>23.672069316241558</td><td>0.647</td><td>3598p237</td><td>359.778505813862</td><td>23.672055843828268</td><td>0.52567357</td><td>SB26</td><td>43.59699</td><td>0.3849364</td><td>359.77844356539794</td><td>23.67212226911349</td><td>14.239333</td><td>2.7190483</td><td>2.5388463</td><td>3.4868765</td><td>5.064195</td><td>6.143888</td><td>7.345775</td><td>8.588504</td><td>9.922591</td><td>11.140817</td><td>12.440238</td><td>13.989121</td><td>15.770206</td><td>17.490839</td><td>16.795784</td><td>16.202568</td><td>17.390589</td><td>16.696184</td><td>16.077631</td><td>17.31184</td><td>16.618877</td><td>15.981386</td><td>17.254414</td><td>16.560314</td><td>15.908254</td><td>17.211702</td><td>16.51628</td><td>15.852895</td><td>17.18435</td><td>16.488472</td><td>15.819614</td><td>17.163921</td><td>16.466606</td><td>15.792798</td><td>17.146704</td><td>16.45154</td><td>15.770247</td><td>17.136053</td><td>16.44288</td><td>15.755591</td><td>0.03923253</td><td>0.060786158</td><td>0.075307116</td><td>0.07167815</td><td>0.10213532</td><td>0.118702866</td><td>0.109218694</td><td>0.17001276</td><td>0.30682173</td><td>0.06043335</td><td>0.06313121</td><td>0.049299486</td><td>0.055580575</td><td>0.05806445</td><td>0.044674117</td><td>0.05192368</td><td>0.05431531</td><td>0.04128313</td><td>0.04938822</td><td>0.051617604</td><td>0.038845673</td><td>0.04756912</td><td>0.049662363</td><td>0.037100296</td><td>0.04641092</td><td>0.04843731</td><td>0.03603239</td><td>0.045583606</td><td>0.047508307</td><td>0.035224166</td><td>0.04488352</td><td>0.0468671</td><td>0.03452928</td><td>0.04443932</td><td>0.046488073</td><td>0.034055505</td><td>17.105066</td><td>0.20155075</td><td>0.6774843</td><td>3.1475794</td><td>0.0012115352</td><td>16.41944</td><td>0.15052226</td><td>0.86735916</td><td>3.7459996</td><td>0.0050168973</td><td>15.713827</td><td>0.25167242</td><td>0.72501904</td><td>3.094475</td><td>0.004562201</td><td>0</td></tr>\n",
       "<tr><td>5005244</td><td>SGA-2020 5005244</td><td>DR8-1933p245-3598</td><td>-1</td><td>193.43358024178627</td><td>24.573038628154837</td><td>PSF</td><td>0.0</td><td>0.508</td><td>1.0</td><td>-1.0</td><td>24.127928</td><td>16.970129</td><td>True</td><td>DR8</td><td>531675</td><td>DR8-1933p245-3598</td><td>1</td><td>True</td><td>193.43358024178627</td><td>24.573038628154837</td><td>0.508</td><td>1933p245</td><td>193.43361884886178</td><td>24.573017822491643</td><td>0.53991914</td><td>SB26</td><td>160.01337</td><td>0.84648865</td><td>193.4335470099531</td><td>24.573120358078633</td><td>12.787097</td><td>2.6927412</td><td>3.120592</td><td>3.2718627</td><td>3.4533505</td><td>4.2570386</td><td>5.133758</td><td>6.1663985</td><td>7.42829</td><td>9.149172</td><td>11.350036</td><td>13.795546</td><td>16.197575</td><td>16.94666</td><td>16.586605</td><td>16.36889</td><td>16.861969</td><td>16.492382</td><td>16.262115</td><td>16.791409</td><td>16.415943</td><td>16.173903</td><td>16.734713</td><td>16.35735</td><td>16.109213</td><td>16.688421</td><td>16.309566</td><td>16.055555</td><td>16.640509</td><td>16.258156</td><td>15.998193</td><td>16.594383</td><td>16.207026</td><td>15.942949</td><td>16.557802</td><td>16.166492</td><td>15.901134</td><td>16.529823</td><td>16.13316</td><td>15.869967</td><td>0.021029804</td><td>0.032481723</td><td>0.030171089</td><td>0.03087946</td><td>0.04853705</td><td>0.057573788</td><td>0.083974585</td><td>0.14294735</td><td>0.13371769</td><td>0.04259182</td><td>0.044959683</td><td>0.036545504</td><td>0.0398303</td><td>0.042167664</td><td>0.033850912</td><td>0.037131604</td><td>0.03866477</td><td>0.030868268</td><td>0.035289127</td><td>0.036671363</td><td>0.02913518</td><td>0.034093525</td><td>0.035771117</td><td>0.028184779</td><td>0.03262886</td><td>0.034125715</td><td>0.026756087</td><td>0.031034768</td><td>0.031958297</td><td>0.025058959</td><td>0.03024934</td><td>0.03138346</td><td>0.024512257</td><td>0.029254926</td><td>0.02987554</td><td>0.02347292</td><td>16.309258</td><td>6206.177</td><td>4.9772905e-05</td><td>0.6787563</td><td>0.039588377</td><td>15.876677</td><td>8809.709</td><td>4.0338142e-05</td><td>0.6443549</td><td>0.11273734</td><td>15.642013</td><td>9365.627</td><td>3.5140136e-05</td><td>0.7403613</td><td>0.1392315</td><td>0</td></tr>\n",
       "<tr><td>5005247</td><td>SGA-2020 5005247</td><td>DR8-2208p192-2734</td><td>-1</td><td>220.7266310748538</td><td>19.28717944405682</td><td>PSF</td><td>0.0</td><td>0.413</td><td>1.0</td><td>-1.0</td><td>23.6957</td><td>16.987469</td><td>True</td><td>DR8</td><td>531676</td><td>DR8-2208p192-2734</td><td>1</td><td>True</td><td>220.7266310748538</td><td>19.28717944405682</td><td>0.413</td><td>2208p192</td><td>220.72663283312835</td><td>19.28717319595711</td><td>0.4214595</td><td>SB26</td><td>46.15227</td><td>0.951637</td><td>220.7265690159664</td><td>19.287246237710338</td><td>11.1560335</td><td>1.7477361</td><td>1.7075597</td><td>2.1156445</td><td>3.262774</td><td>4.0869102</td><td>5.1091228</td><td>6.3436913</td><td>7.7602787</td><td>9.086886</td><td>10.342417</td><td>11.58312</td><td>12.6437845</td><td>17.41811</td><td>16.605528</td><td>16.10175</td><td>17.31933</td><td>16.505455</td><td>15.987479</td><td>17.236889</td><td>16.421755</td><td>15.89216</td><td>17.15656</td><td>16.337141</td><td>15.799027</td><td>17.08641</td><td>16.26287</td><td>15.717607</td><td>17.041885</td><td>16.217678</td><td>15.668846</td><td>17.009306</td><td>16.184057</td><td>15.632661</td><td>16.986383</td><td>16.16401</td><td>15.609863</td><td>16.973982</td><td>16.151237</td><td>15.5966015</td><td>0.010865588</td><td>0.016143147</td><td>0.015274725</td><td>0.018334098</td><td>0.026965143</td><td>0.036046986</td><td>0.0410594</td><td>0.08184487</td><td>0.10371635</td><td>0.012916043</td><td>0.01948388</td><td>0.010131742</td><td>0.011561066</td><td>0.017431566</td><td>0.009162709</td><td>0.010774649</td><td>0.016174529</td><td>0.008470013</td><td>0.010339528</td><td>0.015345446</td><td>0.007933513</td><td>0.009432234</td><td>0.014002881</td><td>0.007277823</td><td>0.009343426</td><td>0.013771767</td><td>0.0070921364</td><td>0.008820328</td><td>0.013042888</td><td>0.0067780362</td><td>0.008909435</td><td>0.013126014</td><td>0.006761116</td><td>0.008822591</td><td>0.012979464</td><td>0.0066987765</td><td>16.92055</td><td>0.11899936</td><td>1.2582198</td><td>3.492993</td><td>0.27475503</td><td>16.11808</td><td>0.092085116</td><td>1.2426668</td><td>4.5006905</td><td>0.1382566</td><td>15.551954</td><td>0.12238101</td><td>1.0828819</td><td>3.9065025</td><td>0.63464415</td><td>0</td></tr>\n",
       "</table>"
      ],
      "text/plain": [
       "<QTable length=383620>\n",
       " SGA_ID    SGA_GALAXY    ... Z_COG_PARAMS_CHI2 ELLIPSEBIT\n",
       " int64       str16       ...      float32        int32   \n",
       "------- ---------------- ... ----------------- ----------\n",
       "      2       SGA-2020 2 ...       0.011723555          0\n",
       "      3       SGA-2020 3 ...        0.20391206          0\n",
       "      4       SGA-2020 4 ...         1.8054093          0\n",
       "      7       SGA-2020 7 ...       0.004725194          0\n",
       "     18      SGA-2020 18 ...       0.028653827          0\n",
       "     20      SGA-2020 20 ...        0.97457016          0\n",
       "     24      SGA-2020 24 ...              -1.0          0\n",
       "     25      SGA-2020 25 ...         0.7843209          0\n",
       "     26      SGA-2020 26 ...         0.2944147          0\n",
       "     29      SGA-2020 29 ...        0.06635867          0\n",
       "    ...              ... ...               ...        ...\n",
       "5005195 SGA-2020 5005195 ...       0.046546273          0\n",
       "5005198 SGA-2020 5005198 ...       0.018176466          0\n",
       "5005201 SGA-2020 5005201 ...       0.067777455          0\n",
       "5005221 SGA-2020 5005221 ...       0.042753268          0\n",
       "5005223 SGA-2020 5005223 ...       0.015200222          0\n",
       "5005230 SGA-2020 5005230 ...       0.011277596          0\n",
       "5005238 SGA-2020 5005238 ...        0.03202154          0\n",
       "5005241 SGA-2020 5005241 ...       0.004562201          0\n",
       "5005244 SGA-2020 5005244 ...         0.1392315          0\n",
       "5005247 SGA-2020 5005247 ...        0.63464415          0"
      ]
     },
     "execution_count": 633,
     "metadata": {},
     "output_type": "execute_result"
    }
   ],
   "source": [
    "SGA"
   ]
  },
  {
   "cell_type": "markdown",
   "id": "f4defd73-faf3-436d-b830-97b19b1efa3f",
   "metadata": {},
   "source": [
    "## Match DESI targets to SGA catalog"
   ]
  },
  {
   "cell_type": "code",
   "execution_count": 636,
   "id": "151e6f0d-0b1b-4872-bd68-bfbc2273d277",
   "metadata": {},
   "outputs": [],
   "source": [
    "SGA_coords = SkyCoord(ra=SGA['RA']*u.degree, dec=SGA['DEC']*u.degree)\n",
    "PV_coords = SkyCoord(ra=PV_observed['target_ra']*u.degree, dec=PV_observed['target_dec']*u.degree)\n",
    "\n",
    "idx, sep2d, dist3d = match_coordinates_sky(PV_coords, SGA_coords, nthneighbor=1)\n",
    "\n",
    "PV_observed['IDX_SGA'] = idx\n",
    "PV_observed['SKY_TARGET_DIST_SGA'] = sep2d"
   ]
  },
  {
   "cell_type": "markdown",
   "id": "9d441324-532f-40c5-b44f-720cd11554a5",
   "metadata": {},
   "source": [
    "### Stack the PV and SGA Tables\n",
    "\n",
    "Make an `hstack` of the `PV_observed` and `SGA` tables using rows that matched PV coordinates to SGA centers. This will put all the relevant information into a single table that we'll call `PV_matched`."
   ]
  },
  {
   "cell_type": "code",
   "execution_count": 637,
   "id": "85673cca-f82b-42b8-9104-9e81cd0059d8",
   "metadata": {},
   "outputs": [],
   "source": [
    "PV_matched = hstack([PV_observed, SGA[idx]])"
   ]
  },
  {
   "cell_type": "code",
   "execution_count": 638,
   "id": "bd5ee17e-ca19-424d-b280-71eb4a3837eb",
   "metadata": {},
   "outputs": [
    {
     "data": {
      "text/html": [
       "<i>QTable length=15405</i>\n",
       "<table id=\"table46913391171952\" class=\"table-striped table-bordered table-condensed\">\n",
       "<thead><tr><th>pvtype</th><th>sga_id</th><th>targetid</th><th>target_ra</th><th>target_dec</th><th>z</th><th>spectype</th><th>deltachi2</th><th>zwarn</th><th>expid</th><th>yyyymmdd</th><th>IDX_SGA</th><th>SKY_TARGET_DIST_SGA</th><th>SGA_ID</th><th>SGA_GALAXY</th><th>GALAXY</th><th>PGC</th><th>RA_LEDA</th><th>DEC_LEDA</th><th>MORPHTYPE</th><th>PA_LEDA</th><th>D25_LEDA</th><th>BA_LEDA</th><th>Z_LEDA</th><th>SB_D25_LEDA</th><th>MAG_LEDA</th><th>BYHAND</th><th>REF</th><th>GROUP_ID</th><th>GROUP_NAME</th><th>GROUP_MULT</th><th>GROUP_PRIMARY</th><th>GROUP_RA</th><th>GROUP_DEC</th><th>GROUP_DIAMETER</th><th>BRICKNAME</th><th>RA</th><th>DEC</th><th>D26</th><th>D26_REF</th><th>PA</th><th>BA</th><th>RA_MOMENT</th><th>DEC_MOMENT</th><th>SMA_MOMENT</th><th>G_SMA50</th><th>R_SMA50</th><th>Z_SMA50</th><th>SMA_SB22</th><th>SMA_SB22.5</th><th>SMA_SB23</th><th>SMA_SB23.5</th><th>SMA_SB24</th><th>SMA_SB24.5</th><th>SMA_SB25</th><th>SMA_SB25.5</th><th>SMA_SB26</th><th>G_MAG_SB22</th><th>R_MAG_SB22</th><th>Z_MAG_SB22</th><th>G_MAG_SB22.5</th><th>R_MAG_SB22.5</th><th>Z_MAG_SB22.5</th><th>G_MAG_SB23</th><th>R_MAG_SB23</th><th>Z_MAG_SB23</th><th>G_MAG_SB23.5</th><th>R_MAG_SB23.5</th><th>Z_MAG_SB23.5</th><th>G_MAG_SB24</th><th>R_MAG_SB24</th><th>Z_MAG_SB24</th><th>G_MAG_SB24.5</th><th>R_MAG_SB24.5</th><th>Z_MAG_SB24.5</th><th>G_MAG_SB25</th><th>R_MAG_SB25</th><th>Z_MAG_SB25</th><th>G_MAG_SB25.5</th><th>R_MAG_SB25.5</th><th>Z_MAG_SB25.5</th><th>G_MAG_SB26</th><th>R_MAG_SB26</th><th>Z_MAG_SB26</th><th>SMA_SB22_ERR</th><th>SMA_SB22.5_ERR</th><th>SMA_SB23_ERR</th><th>SMA_SB23.5_ERR</th><th>SMA_SB24_ERR</th><th>SMA_SB24.5_ERR</th><th>SMA_SB25_ERR</th><th>SMA_SB25.5_ERR</th><th>SMA_SB26_ERR</th><th>G_MAG_SB22_ERR</th><th>R_MAG_SB22_ERR</th><th>Z_MAG_SB22_ERR</th><th>G_MAG_SB22.5_ERR</th><th>R_MAG_SB22.5_ERR</th><th>Z_MAG_SB22.5_ERR</th><th>G_MAG_SB23_ERR</th><th>R_MAG_SB23_ERR</th><th>Z_MAG_SB23_ERR</th><th>G_MAG_SB23.5_ERR</th><th>R_MAG_SB23.5_ERR</th><th>Z_MAG_SB23.5_ERR</th><th>G_MAG_SB24_ERR</th><th>R_MAG_SB24_ERR</th><th>Z_MAG_SB24_ERR</th><th>G_MAG_SB24.5_ERR</th><th>R_MAG_SB24.5_ERR</th><th>Z_MAG_SB24.5_ERR</th><th>G_MAG_SB25_ERR</th><th>R_MAG_SB25_ERR</th><th>Z_MAG_SB25_ERR</th><th>G_MAG_SB25.5_ERR</th><th>R_MAG_SB25.5_ERR</th><th>Z_MAG_SB25.5_ERR</th><th>G_MAG_SB26_ERR</th><th>R_MAG_SB26_ERR</th><th>Z_MAG_SB26_ERR</th><th>G_COG_PARAMS_MTOT</th><th>G_COG_PARAMS_M0</th><th>G_COG_PARAMS_ALPHA1</th><th>G_COG_PARAMS_ALPHA2</th><th>G_COG_PARAMS_CHI2</th><th>R_COG_PARAMS_MTOT</th><th>R_COG_PARAMS_M0</th><th>R_COG_PARAMS_ALPHA1</th><th>R_COG_PARAMS_ALPHA2</th><th>R_COG_PARAMS_CHI2</th><th>Z_COG_PARAMS_MTOT</th><th>Z_COG_PARAMS_M0</th><th>Z_COG_PARAMS_ALPHA1</th><th>Z_COG_PARAMS_ALPHA2</th><th>Z_COG_PARAMS_CHI2</th><th>ELLIPSEBIT</th></tr></thead>\n",
       "<thead><tr><th></th><th></th><th></th><th></th><th></th><th></th><th></th><th></th><th></th><th></th><th></th><th></th><th>deg</th><th></th><th></th><th></th><th></th><th></th><th></th><th></th><th></th><th></th><th></th><th></th><th></th><th></th><th></th><th></th><th></th><th></th><th></th><th></th><th></th><th></th><th></th><th></th><th></th><th></th><th></th><th></th><th></th><th></th><th></th><th></th><th></th><th></th><th></th><th></th><th></th><th></th><th></th><th></th><th></th><th></th><th></th><th></th><th></th><th></th><th></th><th></th><th></th><th></th><th></th><th></th><th></th><th></th><th></th><th></th><th></th><th></th><th></th><th></th><th></th><th></th><th></th><th></th><th></th><th></th><th></th><th></th><th></th><th></th><th></th><th></th><th></th><th></th><th></th><th></th><th></th><th></th><th></th><th></th><th></th><th></th><th></th><th></th><th></th><th></th><th></th><th></th><th></th><th></th><th></th><th></th><th></th><th></th><th></th><th></th><th></th><th></th><th></th><th></th><th></th><th></th><th></th><th></th><th></th><th></th><th></th><th></th><th></th><th></th><th></th><th></th><th></th><th></th><th></th><th></th><th></th><th></th><th></th><th></th><th></th><th></th><th></th><th></th></tr></thead>\n",
       "<thead><tr><th>str3</th><th>int64</th><th>int64</th><th>float64</th><th>float64</th><th>float64</th><th>str6</th><th>float64</th><th>int64</th><th>int64</th><th>int64</th><th>int64</th><th>float64</th><th>int64</th><th>str16</th><th>str29</th><th>int64</th><th>float64</th><th>float64</th><th>str21</th><th>float32</th><th>float32</th><th>float32</th><th>float32</th><th>float32</th><th>float32</th><th>bool</th><th>str13</th><th>int64</th><th>str35</th><th>int16</th><th>bool</th><th>float64</th><th>float64</th><th>float32</th><th>str8</th><th>float64</th><th>float64</th><th>float32</th><th>str4</th><th>float32</th><th>float32</th><th>float64</th><th>float64</th><th>float32</th><th>float32</th><th>float32</th><th>float32</th><th>float32</th><th>float32</th><th>float32</th><th>float32</th><th>float32</th><th>float32</th><th>float32</th><th>float32</th><th>float32</th><th>float32</th><th>float32</th><th>float32</th><th>float32</th><th>float32</th><th>float32</th><th>float32</th><th>float32</th><th>float32</th><th>float32</th><th>float32</th><th>float32</th><th>float32</th><th>float32</th><th>float32</th><th>float32</th><th>float32</th><th>float32</th><th>float32</th><th>float32</th><th>float32</th><th>float32</th><th>float32</th><th>float32</th><th>float32</th><th>float32</th><th>float32</th><th>float32</th><th>float32</th><th>float32</th><th>float32</th><th>float32</th><th>float32</th><th>float32</th><th>float32</th><th>float32</th><th>float32</th><th>float32</th><th>float32</th><th>float32</th><th>float32</th><th>float32</th><th>float32</th><th>float32</th><th>float32</th><th>float32</th><th>float32</th><th>float32</th><th>float32</th><th>float32</th><th>float32</th><th>float32</th><th>float32</th><th>float32</th><th>float32</th><th>float32</th><th>float32</th><th>float32</th><th>float32</th><th>float32</th><th>float32</th><th>float32</th><th>float32</th><th>float32</th><th>float32</th><th>float32</th><th>float32</th><th>float32</th><th>float32</th><th>float32</th><th>float32</th><th>float32</th><th>float32</th><th>float32</th><th>float32</th><th>float32</th><th>float32</th><th>float32</th><th>int32</th></tr></thead>\n",
       "<tr><td>TFT</td><td>1285603</td><td>616088587867259427</td><td>150.085494347167</td><td>1.98540758430202</td><td>1.49757462439216</td><td>GALAXY</td><td>426.185304820538</td><td>0</td><td>68490</td><td>20201217</td><td>155617</td><td>0.03418493296074958</td><td>586473</td><td>SGA-2020 586473</td><td>PGC1212737</td><td>1212737</td><td>150.0544275</td><td>1.9996804</td><td>Sm</td><td>8.62</td><td>0.40364543</td><td>0.35892195</td><td>0.07842992</td><td>24.296482</td><td>17.638</td><td>False</td><td>LEDA-20181114</td><td>212551</td><td>PGC1212737</td><td>1</td><td>True</td><td>150.0544275</td><td>1.9996804</td><td>0.40364543</td><td>1501p020</td><td>150.05439129726653</td><td>1.9996335960144143</td><td>0.67049366</td><td>SB26</td><td>10.36681</td><td>0.28705108</td><td>150.05430178911885</td><td>1.999716561114591</td><td>12.422118</td><td>5.050954</td><td>5.047632</td><td>5.4049172</td><td>8.3039665</td><td>9.606885</td><td>10.852014</td><td>11.968115</td><td>12.912382</td><td>14.227189</td><td>16.03915</td><td>18.16351</td><td>20.114809</td><td>17.201572</td><td>16.16524</td><td>15.398829</td><td>17.099644</td><td>16.077265</td><td>15.312557</td><td>17.023075</td><td>16.0078</td><td>15.244353</td><td>16.97123</td><td>15.978369</td><td>15.218419</td><td>16.935139</td><td>15.9605465</td><td>15.204625</td><td>16.910652</td><td>15.945327</td><td>15.188659</td><td>16.891752</td><td>15.93023</td><td>15.1755295</td><td>16.87439</td><td>15.918931</td><td>15.163785</td><td>16.861664</td><td>15.911847</td><td>15.155255</td><td>0.11472259</td><td>0.12143157</td><td>0.091529936</td><td>0.13053448</td><td>0.12436708</td><td>0.14294966</td><td>0.1715582</td><td>0.24258737</td><td>0.21266633</td><td>0.048004877</td><td>0.05472816</td><td>0.05768016</td><td>0.044963147</td><td>0.051532526</td><td>0.054303557</td><td>0.04270379</td><td>0.04903814</td><td>0.051707167</td><td>0.041212562</td><td>0.04791116</td><td>0.050638866</td><td>0.040177908</td><td>0.04721353</td><td>0.05005141</td><td>0.039422147</td><td>0.046618827</td><td>0.049374927</td><td>0.038748946</td><td>0.045991812</td><td>0.048794135</td><td>0.038166564</td><td>0.04552691</td><td>0.04828561</td><td>0.037779193</td><td>0.04524359</td><td>0.047925778</td><td>16.856726</td><td>0.14991231</td><td>3.1745448</td><td>5.6489987</td><td>0.055197634</td><td>15.906107</td><td>0.26993135</td><td>0.7051069</td><td>4.4962196</td><td>0.0368429</td><td>15.148464</td><td>0.48745978</td><td>0.32494003</td><td>3.9457998</td><td>0.049506165</td><td>0</td></tr>\n",
       "<tr><td>SGA</td><td>227887</td><td>39628509848540752</td><td>34.8173069688145</td><td>31.3984950009448</td><td>0.0102383463580575</td><td>GALAXY</td><td>332559.754650116</td><td>0</td><td>69412</td><td>20201222</td><td>60758</td><td>4.493890748991992e-14</td><td>227887</td><td>SGA-2020 227887</td><td>PGC008852</td><td>8852</td><td>34.817458499999994</td><td>31.3985278</td><td>Sc</td><td>47.0</td><td>0.64565426</td><td>0.50699073</td><td>0.010257095</td><td>23.34948</td><td>15.671</td><td>False</td><td>LEDA-20181114</td><td>80819</td><td>PGC008852</td><td>1</td><td>True</td><td>34.817458499999994</td><td>31.3985278</td><td>0.64565426</td><td>0346p315</td><td>34.817306968814506</td><td>31.398495000944845</td><td>1.2628791</td><td>SB26</td><td>46.69509</td><td>0.44351774</td><td>34.817144987779656</td><td>31.39853435338646</td><td>27.821953</td><td>7.5643625</td><td>7.751205</td><td>8.018863</td><td>11.525722</td><td>14.140119</td><td>17.078676</td><td>20.250322</td><td>23.686016</td><td>27.286552</td><td>30.939543</td><td>34.54722</td><td>37.886375</td><td>15.656424</td><td>14.952178</td><td>14.416003</td><td>15.541749</td><td>14.834224</td><td>14.296817</td><td>15.452583</td><td>14.743252</td><td>14.206147</td><td>15.386299</td><td>14.674229</td><td>14.137649</td><td>15.334078</td><td>14.620995</td><td>14.084178</td><td>15.295982</td><td>14.582026</td><td>14.045881</td><td>15.268926</td><td>14.553481</td><td>14.018</td><td>15.249975</td><td>14.534507</td><td>13.997845</td><td>15.23794</td><td>14.522351</td><td>13.984281</td><td>0.037277393</td><td>0.061759222</td><td>0.063091725</td><td>0.10513751</td><td>0.068378456</td><td>0.08847286</td><td>0.11017215</td><td>0.1338445</td><td>0.14169279</td><td>0.013537007</td><td>0.01256346</td><td>0.011847482</td><td>0.012311069</td><td>0.011419123</td><td>0.010781854</td><td>0.011420003</td><td>0.010592375</td><td>0.010021184</td><td>0.010789593</td><td>0.009995378</td><td>0.009472868</td><td>0.010305492</td><td>0.009542425</td><td>0.009043296</td><td>0.009962468</td><td>0.009220267</td><td>0.008747978</td><td>0.009723591</td><td>0.00898864</td><td>0.008536672</td><td>0.009562214</td><td>0.0088409325</td><td>0.0083939945</td><td>0.009455562</td><td>0.008740836</td><td>0.008286787</td><td>15.174497</td><td>0.33196753</td><td>4.533237</td><td>2.3149405</td><td>0.042795654</td><td>14.458597</td><td>0.3292352</td><td>4.8471136</td><td>2.3561754</td><td>0.060645</td><td>13.909542</td><td>0.42334005</td><td>3.0998147</td><td>2.0889223</td><td>0.03310028</td><td>0</td></tr>\n",
       "<tr><td>SGA</td><td>249627</td><td>39628473387452348</td><td>36.6378025591632</td><td>29.8305673331864</td><td>0.0349532879812339</td><td>GALAXY</td><td>33952.1068879628</td><td>0</td><td>69412</td><td>20201222</td><td>66332</td><td>4.180414146836405e-14</td><td>249627</td><td>SGA-2020 249627</td><td>UGC01903</td><td>9286</td><td>36.63761699999999</td><td>29.8306886</td><td>SABb</td><td>74.75</td><td>1.1271975</td><td>0.20701413</td><td>0.0349355</td><td>24.527481</td><td>15.639</td><td>False</td><td>LEDA-20181114</td><td>90403</td><td>UGC01903</td><td>1</td><td>True</td><td>36.63761699999999</td><td>29.8306886</td><td>1.1271975</td><td>0366p297</td><td>36.637802559163205</td><td>29.830567333186355</td><td>2.0154</td><td>SB26</td><td>73.69912</td><td>0.20811063</td><td>36.637614713603384</td><td>29.830624327417627</td><td>39.71472</td><td>18.459566</td><td>15.894213</td><td>15.464314</td><td>22.580238</td><td>26.383305</td><td>30.796055</td><td>34.723305</td><td>39.74078</td><td>44.593624</td><td>49.255867</td><td>54.815823</td><td>60.461998</td><td>15.435341</td><td>14.418517</td><td>13.576337</td><td>15.298835</td><td>14.30672</td><td>13.461613</td><td>15.205365</td><td>14.24215</td><td>13.4115</td><td>15.156233</td><td>14.204546</td><td>13.377312</td><td>15.104122</td><td>14.164709</td><td>13.343121</td><td>15.058125</td><td>14.136047</td><td>13.318259</td><td>15.031913</td><td>14.113577</td><td>13.303595</td><td>15.014407</td><td>14.100645</td><td>13.292462</td><td>15.001245</td><td>14.093693</td><td>13.284567</td><td>0.16789526</td><td>0.19915031</td><td>0.31620976</td><td>0.3071703</td><td>0.24520358</td><td>0.3690512</td><td>0.28080633</td><td>0.36711508</td><td>0.36422694</td><td>0.023853498</td><td>0.025702067</td><td>0.026394201</td><td>0.022089047</td><td>0.023966009</td><td>0.02450541</td><td>0.02079718</td><td>0.022846961</td><td>0.023560781</td><td>0.02006506</td><td>0.022179758</td><td>0.022928162</td><td>0.019272951</td><td>0.021477534</td><td>0.02227722</td><td>0.018605893</td><td>0.020970525</td><td>0.021828428</td><td>0.018206228</td><td>0.02057745</td><td>0.021538362</td><td>0.0179393</td><td>0.020346312</td><td>0.021328282</td><td>0.017741907</td><td>0.02021515</td><td>0.021191534</td><td>14.9103775</td><td>3623.65</td><td>0.0006310831</td><td>1.8129188</td><td>0.47991797</td><td>14.036099</td><td>6216.614</td><td>0.00029992405</td><td>1.9578168</td><td>0.3139769</td><td>13.2507515</td><td>9516.363</td><td>0.00021222723</td><td>2.2643197</td><td>0.4841751</td><td>0</td></tr>\n",
       "<tr><td>SGA</td><td>581116</td><td>39628499509579686</td><td>36.0846931600021</td><td>30.9513934451943</td><td>0.046449435766605</td><td>GALAXY</td><td>53137.0094233155</td><td>0</td><td>69412</td><td>20201222</td><td>154261</td><td>3.063376994371314e-14</td><td>581116</td><td>SGA-2020 581116</td><td>PGC1925122</td><td>1925122</td><td>36.0845415</td><td>30.951388899999998</td><td></td><td>104.0</td><td>0.4365158</td><td>0.38904515</td><td>-99.0</td><td>23.988482</td><td>17.16</td><td>False</td><td>LEDA-20181114</td><td>210213</td><td>PGC1925122</td><td>1</td><td>True</td><td>36.0845415</td><td>30.951388899999998</td><td>0.4365158</td><td>0359p310</td><td>36.08469316000213</td><td>30.951393445194295</td><td>1.1142534</td><td>SB26</td><td>105.92478</td><td>0.39040238</td><td>36.08457184466423</td><td>30.951478119559912</td><td>19.96518</td><td>10.39661</td><td>10.188027</td><td>9.175853</td><td>8.357429</td><td>10.614475</td><td>13.027295</td><td>15.8777895</td><td>18.721878</td><td>22.120554</td><td>26.127184</td><td>30.371841</td><td>33.4276</td><td>17.08463</td><td>16.142862</td><td>15.439649</td><td>16.8634</td><td>15.941626</td><td>15.248137</td><td>16.694616</td><td>15.785261</td><td>15.098101</td><td>16.563372</td><td>15.689782</td><td>15.000622</td><td>16.484594</td><td>15.621796</td><td>14.939558</td><td>16.409296</td><td>15.559123</td><td>14.877472</td><td>16.347609</td><td>15.494113</td><td>14.828316</td><td>16.301975</td><td>15.454205</td><td>14.792311</td><td>16.281769</td><td>15.435076</td><td>14.772943</td><td>0.12997533</td><td>0.12433272</td><td>0.16338037</td><td>0.19967407</td><td>0.26121473</td><td>0.25177068</td><td>0.2513934</td><td>0.22113411</td><td>0.2663521</td><td>0.03436164</td><td>0.04100928</td><td>0.041381232</td><td>0.030702285</td><td>0.0362866</td><td>0.036703013</td><td>0.02819163</td><td>0.032882042</td><td>0.033253014</td><td>0.025948951</td><td>0.030614173</td><td>0.03088922</td><td>0.0244392</td><td>0.028965818</td><td>0.029362198</td><td>0.023008518</td><td>0.027435387</td><td>0.027844796</td><td>0.02186638</td><td>0.025980085</td><td>0.026691766</td><td>0.021032674</td><td>0.025087923</td><td>0.02586276</td><td>0.020666348</td><td>0.024666877</td><td>0.025425777</td><td>16.124033</td><td>1.2134331</td><td>0.91332835</td><td>1.5675838</td><td>0.11997884</td><td>15.216014</td><td>14016.68</td><td>5.4744865e-05</td><td>1.041656</td><td>0.34670213</td><td>14.603585</td><td>957.04736</td><td>0.0007123867</td><td>1.1530718</td><td>0.15311071</td><td>0</td></tr>\n",
       "<tr><td>SGA</td><td>879849</td><td>39628478600971508</td><td>34.0579702049385</td><td>30.0920453747291</td><td>0.0445682338630569</td><td>GALAXY</td><td>33245.3577982187</td><td>0</td><td>69412</td><td>20201222</td><td>233054</td><td>2.479589094261607e-14</td><td>879849</td><td>SGA-2020 879849</td><td>PGC1889941</td><td>1889941</td><td>34.057917</td><td>30.0920278</td><td></td><td>74.0</td><td>0.5011872</td><td>0.67608297</td><td>-99.0</td><td>23.808481</td><td>16.68</td><td>False</td><td>LEDA-20181114</td><td>322531</td><td>PGC1889941</td><td>1</td><td>True</td><td>34.057917</td><td>30.0920278</td><td>0.5011872</td><td>0341p300</td><td>34.05797020493853</td><td>30.092045374729096</td><td>0.6100243</td><td>SB26</td><td>71.66348</td><td>0.7986246</td><td>34.05775333631393</td><td>30.09217613590016</td><td>15.387338</td><td>5.976684</td><td>5.797715</td><td>5.777591</td><td>5.799027</td><td>7.6336207</td><td>9.498986</td><td>11.296248</td><td>12.815193</td><td>14.117011</td><td>15.336266</td><td>16.633135</td><td>18.300728</td><td>17.171942</td><td>16.343346</td><td>15.717138</td><td>16.879988</td><td>16.06385</td><td>15.447549</td><td>16.705853</td><td>15.8941555</td><td>15.278</td><td>16.588625</td><td>15.776125</td><td>15.162615</td><td>16.518248</td><td>15.705863</td><td>15.094894</td><td>16.47781</td><td>15.666295</td><td>15.055149</td><td>16.452383</td><td>15.643094</td><td>15.029789</td><td>16.43641</td><td>15.628623</td><td>15.013322</td><td>16.42456</td><td>15.616768</td><td>15.000935</td><td>0.011348523</td><td>0.016421767</td><td>0.022007838</td><td>0.034005526</td><td>0.030842144</td><td>0.034625705</td><td>0.05440476</td><td>0.09680807</td><td>0.13313515</td><td>0.015224855</td><td>0.017227402</td><td>0.015694179</td><td>0.011816893</td><td>0.013452887</td><td>0.012321403</td><td>0.0101435585</td><td>0.011558937</td><td>0.010610436</td><td>0.009140686</td><td>0.01042164</td><td>0.009595323</td><td>0.008608868</td><td>0.009789276</td><td>0.009045858</td><td>0.008292269</td><td>0.009451777</td><td>0.008721108</td><td>0.0081228</td><td>0.009257656</td><td>0.008536508</td><td>0.007997767</td><td>0.009143292</td><td>0.00840418</td><td>0.007917462</td><td>0.009050803</td><td>0.008315154</td><td>16.382519</td><td>0.2706682</td><td>1.8169632</td><td>4.117292</td><td>2.0340507</td><td>15.58516</td><td>0.21714453</td><td>2.4018252</td><td>4.6921725</td><td>1.5013297</td><td>14.963962</td><td>0.22879267</td><td>2.302482</td><td>4.4064174</td><td>1.0173686</td><td>0</td></tr>\n",
       "<tr><td>SGA</td><td>1215253</td><td>39628494279282283</td><td>33.8598111259499</td><td>30.8583242268397</td><td>0.054035597680716</td><td>GALAXY</td><td>11625.5793859102</td><td>0</td><td>69213</td><td>20201222</td><td>322429</td><td>4.2696992795719315e-14</td><td>1215253</td><td>SGA-2020 1215253</td><td>PGC1921030</td><td>1921030</td><td>33.8596245</td><td>30.8582222</td><td></td><td>129.5</td><td>0.58884364</td><td>0.4466836</td><td>-99.0</td><td>24.308481</td><td>16.83</td><td>False</td><td>LEDA-20181114</td><td>444343</td><td>PGC1921030</td><td>1</td><td>True</td><td>33.8596245</td><td>30.8582222</td><td>0.58884364</td><td>0338p307</td><td>33.859811125949854</td><td>30.858324226839702</td><td>0.9728663</td><td>SB26</td><td>128.78351</td><td>0.4891438</td><td>33.85968182413239</td><td>30.858408843947522</td><td>22.027914</td><td>8.506503</td><td>7.265577</td><td>6.761458</td><td>7.289067</td><td>9.092775</td><td>11.128105</td><td>13.379043</td><td>15.835748</td><td>18.80586</td><td>21.915518</td><td>25.509615</td><td>29.18599</td><td>17.156244</td><td>16.094114</td><td>15.309796</td><td>16.981838</td><td>15.932376</td><td>15.159514</td><td>16.849232</td><td>15.810258</td><td>15.045954</td><td>16.748676</td><td>15.718914</td><td>14.958348</td><td>16.67097</td><td>15.645802</td><td>14.88956</td><td>16.605131</td><td>15.587874</td><td>14.835343</td><td>16.552149</td><td>15.545281</td><td>14.796503</td><td>16.509386</td><td>15.507962</td><td>14.761386</td><td>16.478739</td><td>15.481011</td><td>14.735141</td><td>0.044407565</td><td>0.05426274</td><td>0.08497285</td><td>0.08248171</td><td>0.109320834</td><td>0.12145112</td><td>0.12941156</td><td>0.14189713</td><td>0.16434702</td><td>0.019606369</td><td>0.020157315</td><td>0.02183751</td><td>0.01758488</td><td>0.018100252</td><td>0.019623913</td><td>0.016040348</td><td>0.016570037</td><td>0.01801691</td><td>0.014891138</td><td>0.015455697</td><td>0.016834686</td><td>0.013999526</td><td>0.014580798</td><td>0.015904825</td><td>0.013270778</td><td>0.013895114</td><td>0.015193963</td><td>0.012685245</td><td>0.013391977</td><td>0.014684434</td><td>0.0122275045</td><td>0.012962516</td><td>0.014238747</td><td>0.01191086</td><td>0.012660369</td><td>0.013913533</td><td>16.278444</td><td>2.401637</td><td>0.30437988</td><td>1.1736403</td><td>0.031140067</td><td>15.344091</td><td>1.2766639</td><td>0.5122193</td><td>1.4077172</td><td>0.024471447</td><td>14.614423</td><td>0.98475236</td><td>0.64247954</td><td>1.4817109</td><td>0.04159405</td><td>0</td></tr>\n",
       "<tr><td>SGA</td><td>1329026</td><td>39628478600971529</td><td>34.0593021182507</td><td>30.1224101637649</td><td>0.0296421307118722</td><td>GALAXY</td><td>57099.7675513407</td><td>0</td><td>69412</td><td>20201222</td><td>352378</td><td>1.1349676143232235e-14</td><td>1329026</td><td>SGA-2020 1329026</td><td>PGC1891135</td><td>1891135</td><td>34.0592085</td><td>30.122305600000004</td><td></td><td>55.5</td><td>0.40738028</td><td>0.7943282</td><td>-99.0</td><td>23.55848</td><td>16.88</td><td>False</td><td>LEDA-20181114</td><td>487912</td><td>PGC1891135</td><td>1</td><td>True</td><td>34.0592085</td><td>30.122305600000004</td><td>0.40738028</td><td>0341p300</td><td>34.05930211825069</td><td>30.12241016376491</td><td>0.6485387</td><td>SB26</td><td>46.508175</td><td>0.75625324</td><td>34.05923416493063</td><td>30.122495654126638</td><td>18.621662</td><td>5.509475</td><td>5.0126085</td><td>4.6212378</td><td>5.5334053</td><td>7.474253</td><td>9.783051</td><td>12.227747</td><td>14.215493</td><td>15.79486</td><td>17.10835</td><td>18.28648</td><td>19.456161</td><td>17.004326</td><td>16.079952</td><td>15.376163</td><td>16.804955</td><td>15.893381</td><td>15.199718</td><td>16.608578</td><td>15.715784</td><td>15.035614</td><td>16.44819</td><td>15.572028</td><td>14.902599</td><td>16.361935</td><td>15.494582</td><td>14.830095</td><td>16.31597</td><td>15.451809</td><td>14.791045</td><td>16.292246</td><td>15.42963</td><td>14.769763</td><td>16.279177</td><td>15.41651</td><td>14.757008</td><td>16.271477</td><td>15.40818</td><td>14.748868</td><td>0.008562117</td><td>0.011253227</td><td>0.016833989</td><td>0.020771116</td><td>0.029823383</td><td>0.031743757</td><td>0.05268097</td><td>0.07152624</td><td>0.09657285</td><td>0.012317168</td><td>0.012298843</td><td>0.013040128</td><td>0.010268982</td><td>0.010361868</td><td>0.011093034</td><td>0.008602187</td><td>0.008837238</td><td>0.009560594</td><td>0.0074366583</td><td>0.007743903</td><td>0.008460983</td><td>0.0068806303</td><td>0.0072200713</td><td>0.007921002</td><td>0.006601829</td><td>0.0069477013</td><td>0.0076452945</td><td>0.0064706514</td><td>0.0068266257</td><td>0.0075085945</td><td>0.006397981</td><td>0.0067496626</td><td>0.007423755</td><td>0.00635086</td><td>0.0066884593</td><td>0.0073627736</td><td>16.262327</td><td>0.0750701</td><td>78.28818</td><td>9.502388</td><td>1.3633296</td><td>15.396305</td><td>0.07620403</td><td>52.893303</td><td>8.553744</td><td>0.5802836</td><td>14.736215</td><td>0.07431541</td><td>45.155277</td><td>8.182975</td><td>0.27428445</td><td>0</td></tr>\n",
       "<tr><td>TFT</td><td>161400</td><td>39628462826195756</td><td>35.3790466101176</td><td>29.23051056593</td><td>0.0589073438874499</td><td>GALAXY</td><td>12976.2707899213</td><td>0</td><td>69412</td><td>20201222</td><td>42801</td><td>3.1519050718306134e-14</td><td>161400</td><td>SGA-2020 161400</td><td>PGC1859795</td><td>1859795</td><td>35.379024173792466</td><td>29.230497252099855</td><td></td><td>99.0</td><td>0.58884364</td><td>0.29512095</td><td>-99.0</td><td>24.228481</td><td>16.75</td><td>True</td><td>LEDA-20181114</td><td>57950</td><td>PGC1859795</td><td>1</td><td>True</td><td>35.379024173792466</td><td>29.230497252099855</td><td>0.58884364</td><td>0353p292</td><td>35.37904661011758</td><td>29.230510565930025</td><td>1.1193099</td><td>SB26</td><td>98.88826</td><td>0.24518043</td><td>35.378896750048156</td><td>29.230566986475228</td><td>20.80035</td><td>11.291476</td><td>10.551578</td><td>10.672568</td><td>13.529998</td><td>16.57397</td><td>19.092297</td><td>21.106201</td><td>23.08965</td><td>25.290466</td><td>27.559881</td><td>30.345148</td><td>33.579296</td><td>16.858793</td><td>15.760464</td><td>14.909785</td><td>16.654991</td><td>15.560669</td><td>14.707482</td><td>16.526762</td><td>15.450021</td><td>14.599624</td><td>16.44369</td><td>15.386115</td><td>14.54585</td><td>16.368418</td><td>15.353137</td><td>14.511536</td><td>16.331879</td><td>15.334038</td><td>14.491137</td><td>16.311619</td><td>15.3160305</td><td>14.480323</td><td>16.295599</td><td>15.303606</td><td>14.467872</td><td>16.285048</td><td>15.294462</td><td>14.452511</td><td>0.1642446</td><td>0.20325178</td><td>0.2354467</td><td>0.16516869</td><td>0.27279028</td><td>0.15694171</td><td>0.22463627</td><td>0.22157656</td><td>0.2616988</td><td>0.032572266</td><td>0.035544243</td><td>0.03473238</td><td>0.029644841</td><td>0.032185063</td><td>0.031534243</td><td>0.027786573</td><td>0.030277941</td><td>0.029760899</td><td>0.026607864</td><td>0.029147405</td><td>0.028796688</td><td>0.025560834</td><td>0.028480753</td><td>0.028136846</td><td>0.024966395</td><td>0.02806323</td><td>0.027692946</td><td>0.024599768</td><td>0.027668947</td><td>0.027397877</td><td>0.024288101</td><td>0.027382871</td><td>0.027113393</td><td>0.024077095</td><td>0.0271538</td><td>0.026804846</td><td>16.284893</td><td>0.09849507</td><td>7087.088</td><td>10.091737</td><td>0.19597286</td><td>15.289298</td><td>0.1948869</td><td>64.51055</td><td>6.0809636</td><td>0.08021788</td><td>14.447716</td><td>0.25241405</td><td>26.523111</td><td>5.3548183</td><td>0.10133553</td><td>0</td></tr>\n",
       "<tr><td>TFT</td><td>173880</td><td>39628457541371020</td><td>35.7235330211126</td><td>28.8880073711485</td><td>0.0339580769142768</td><td>GALAXY</td><td>4275.01541189849</td><td>0</td><td>69412</td><td>20201222</td><td>46001</td><td>1.90833280887811e-14</td><td>173880</td><td>SGA-2020 173880</td><td>PGC1849092</td><td>1849092</td><td>35.7234165</td><td>28.887833299999997</td><td></td><td>124.5</td><td>0.44668356</td><td>0.4786301</td><td>-99.0</td><td>24.248482</td><td>17.37</td><td>False</td><td>LEDA-20181114</td><td>63471</td><td>PGC1849092</td><td>1</td><td>True</td><td>35.7234165</td><td>28.887833299999997</td><td>0.44668356</td><td>0358p290</td><td>35.7235330211126</td><td>28.88800737114852</td><td>0.81688493</td><td>SB26</td><td>127.1298</td><td>0.474963</td><td>35.723449350072755</td><td>28.888050913700795</td><td>16.451612</td><td>8.812365</td><td>8.390758</td><td>8.074167</td><td>5.4345064</td><td>7.826225</td><td>10.181852</td><td>12.516059</td><td>14.747046</td><td>16.921144</td><td>19.360098</td><td>21.91576</td><td>24.506548</td><td>18.19922</td><td>17.345997</td><td>16.710226</td><td>17.691296</td><td>16.866438</td><td>16.246683</td><td>17.383986</td><td>16.574528</td><td>15.968726</td><td>17.191374</td><td>16.395716</td><td>15.8036175</td><td>17.073355</td><td>16.286068</td><td>15.700473</td><td>16.994848</td><td>16.213982</td><td>15.641384</td><td>16.93577</td><td>16.158472</td><td>15.594112</td><td>16.89788</td><td>16.12927</td><td>15.554631</td><td>16.872396</td><td>16.099524</td><td>15.528699</td><td>0.066731766</td><td>0.08330154</td><td>0.1246482</td><td>0.12509887</td><td>0.18140522</td><td>0.13910656</td><td>0.16352464</td><td>0.1567391</td><td>0.18408823</td><td>0.011713688</td><td>0.013753128</td><td>0.015204892</td><td>0.013810528</td><td>0.01488796</td><td>0.016070392</td><td>0.014439163</td><td>0.015167735</td><td>0.016010936</td><td>0.014330633</td><td>0.014831408</td><td>0.015563134</td><td>0.013876827</td><td>0.014316456</td><td>0.014968805</td><td>0.013403427</td><td>0.013818654</td><td>0.014496313</td><td>0.0129849855</td><td>0.013352789</td><td>0.014070322</td><td>0.012649743</td><td>0.013080995</td><td>0.01368461</td><td>0.01240633</td><td>0.012784031</td><td>0.013418478</td><td>16.792818</td><td>0.55612475</td><td>1.9946101</td><td>2.8779364</td><td>0.05221824</td><td>16.030823</td><td>0.5247933</td><td>1.9214823</td><td>2.8992376</td><td>0.16581914</td><td>15.455474</td><td>0.5995545</td><td>1.4280334</td><td>2.633919</td><td>0.287603</td><td>0</td></tr>\n",
       "<tr><td>...</td><td>...</td><td>...</td><td>...</td><td>...</td><td>...</td><td>...</td><td>...</td><td>...</td><td>...</td><td>...</td><td>...</td><td>...</td><td>...</td><td>...</td><td>...</td><td>...</td><td>...</td><td>...</td><td>...</td><td>...</td><td>...</td><td>...</td><td>...</td><td>...</td><td>...</td><td>...</td><td>...</td><td>...</td><td>...</td><td>...</td><td>...</td><td>...</td><td>...</td><td>...</td><td>...</td><td>...</td><td>...</td><td>...</td><td>...</td><td>...</td><td>...</td><td>...</td><td>...</td><td>...</td><td>...</td><td>...</td><td>...</td><td>...</td><td>...</td><td>...</td><td>...</td><td>...</td><td>...</td><td>...</td><td>...</td><td>...</td><td>...</td><td>...</td><td>...</td><td>...</td><td>...</td><td>...</td><td>...</td><td>...</td><td>...</td><td>...</td><td>...</td><td>...</td><td>...</td><td>...</td><td>...</td><td>...</td><td>...</td><td>...</td><td>...</td><td>...</td><td>...</td><td>...</td><td>...</td><td>...</td><td>...</td><td>...</td><td>...</td><td>...</td><td>...</td><td>...</td><td>...</td><td>...</td><td>...</td><td>...</td><td>...</td><td>...</td><td>...</td><td>...</td><td>...</td><td>...</td><td>...</td><td>...</td><td>...</td><td>...</td><td>...</td><td>...</td><td>...</td><td>...</td><td>...</td><td>...</td><td>...</td><td>...</td><td>...</td><td>...</td><td>...</td><td>...</td><td>...</td><td>...</td><td>...</td><td>...</td><td>...</td><td>...</td><td>...</td><td>...</td><td>...</td><td>...</td><td>...</td><td>...</td><td>...</td><td>...</td><td>...</td><td>...</td><td>...</td><td>...</td><td>...</td><td>...</td><td>...</td><td>...</td><td>...</td></tr>\n",
       "<tr><td>TFT</td><td>1178025</td><td>39633087096687294</td><td>254.945933537215</td><td>40.4638682834801</td><td>0.0682303802637427</td><td>GALAXY</td><td>5427.08299072832</td><td>0</td><td>97428</td><td>20210704</td><td>312364</td><td>3.043976170934846e-13</td><td>1178025</td><td>SGA-2020 1178025</td><td>PGC3129805</td><td>3129805</td><td>254.9459895</td><td>40.4639514</td><td>E?</td><td>170.15</td><td>0.56234133</td><td>0.23933157</td><td>0.06821052</td><td>25.505482</td><td>18.127</td><td>False</td><td>LEDA-20181114</td><td>432953</td><td>PGC3129805</td><td>1</td><td>True</td><td>254.9459895</td><td>40.4639514</td><td>0.56234133</td><td>2549p405</td><td>254.9459335372154</td><td>40.46386828348007</td><td>0.63871866</td><td>SB26</td><td>168.44681</td><td>0.31116498</td><td>254.94579891002138</td><td>40.46397582379918</td><td>12.88122</td><td>6.0396457</td><td>5.269583</td><td>4.175208</td><td>5.758135</td><td>7.2033186</td><td>8.642753</td><td>10.099082</td><td>11.633898</td><td>12.982886</td><td>14.869583</td><td>17.25666</td><td>19.16156</td><td>18.388319</td><td>17.377687</td><td>16.587345</td><td>18.145088</td><td>17.166136</td><td>16.41327</td><td>17.98621</td><td>17.028439</td><td>16.304426</td><td>17.875751</td><td>16.934216</td><td>16.234102</td><td>17.79034</td><td>16.869177</td><td>16.186588</td><td>17.73727</td><td>16.827139</td><td>16.155827</td><td>17.689331</td><td>16.79459</td><td>16.134588</td><td>17.65204</td><td>16.765972</td><td>16.12486</td><td>17.637333</td><td>16.753489</td><td>16.121223</td><td>0.06399803</td><td>0.10155545</td><td>0.09189364</td><td>0.107785426</td><td>0.16484547</td><td>0.12025392</td><td>0.20535529</td><td>0.21506242</td><td>0.1629485</td><td>0.034917098</td><td>0.038636424</td><td>0.044668656</td><td>0.03261974</td><td>0.035780028</td><td>0.04083197</td><td>0.03068853</td><td>0.03359952</td><td>0.038347192</td><td>0.02909481</td><td>0.031805392</td><td>0.036648754</td><td>0.027651733</td><td>0.030464705</td><td>0.035409767</td><td>0.026724333</td><td>0.02957103</td><td>0.034576457</td><td>0.025816638</td><td>0.02883056</td><td>0.033991322</td><td>0.025095565</td><td>0.028183544</td><td>0.03373304</td><td>0.024802292</td><td>0.027898295</td><td>0.03364425</td><td>17.580679</td><td>0.43575412</td><td>0.97910035</td><td>3.0787058</td><td>0.06571153</td><td>16.71676</td><td>0.39326817</td><td>0.7589104</td><td>3.1685553</td><td>0.01123747</td><td>16.107443</td><td>0.21799278</td><td>0.795032</td><td>4.1783757</td><td>0.045548737</td><td>0</td></tr>\n",
       "<tr><td>TFT</td><td>1190951</td><td>39633105362878783</td><td>254.221820168065</td><td>41.6165629231802</td><td>0.0281622482448826</td><td>GALAXY</td><td>1585.90172587597</td><td>0</td><td>97428</td><td>20210704</td><td>315867</td><td>2.1777252427848798e-13</td><td>1190951</td><td>SGA-2020 1190951</td><td>PGC2183935</td><td>2183935</td><td>254.22177150000005</td><td>41.61647979999999</td><td>Sc</td><td>23.52</td><td>0.63095737</td><td>0.5000345</td><td>0.028197508</td><td>23.881481</td><td>16.253</td><td>False</td><td>LEDA-20181114</td><td>436478</td><td>PGC2183935</td><td>1</td><td>True</td><td>254.22177150000005</td><td>41.61647979999999</td><td>0.63095737</td><td>2543p415</td><td>254.2218201680647</td><td>41.61656292318025</td><td>1.01454</td><td>SB26</td><td>22.470905</td><td>0.5090355</td><td>254.221730324917</td><td>41.61675402729754</td><td>21.32925</td><td>11.798193</td><td>11.01465</td><td>9.787167</td><td>6.667511</td><td>9.635122</td><td>12.392714</td><td>15.117613</td><td>18.135681</td><td>20.971758</td><td>24.184498</td><td>27.15073</td><td>30.436197</td><td>17.419523</td><td>16.822544</td><td>16.405811</td><td>16.889994</td><td>16.320078</td><td>15.950342</td><td>16.61684</td><td>16.059994</td><td>15.72109</td><td>16.446903</td><td>15.895394</td><td>15.575401</td><td>16.319435</td><td>15.777141</td><td>15.470719</td><td>16.239</td><td>15.700661</td><td>15.402881</td><td>16.169159</td><td>15.635316</td><td>15.354034</td><td>16.12852</td><td>15.599879</td><td>15.320973</td><td>16.09603</td><td>15.57072</td><td>15.298562</td><td>0.066157416</td><td>0.113191895</td><td>0.12586015</td><td>0.18070278</td><td>0.17926422</td><td>0.14936599</td><td>0.17524639</td><td>0.2051526</td><td>0.23625848</td><td>0.011306248</td><td>0.013529275</td><td>0.01877551</td><td>0.011631299</td><td>0.012837197</td><td>0.016217526</td><td>0.012264049</td><td>0.012896103</td><td>0.015512748</td><td>0.012180434</td><td>0.012579755</td><td>0.01489053</td><td>0.011769005</td><td>0.012042814</td><td>0.014183026</td><td>0.01134111</td><td>0.011581247</td><td>0.013640767</td><td>0.0108851</td><td>0.0111339735</td><td>0.01322111</td><td>0.010585548</td><td>0.010859296</td><td>0.012917818</td><td>0.010336932</td><td>0.010620237</td><td>0.012731114</td><td>15.911983</td><td>1.4921675</td><td>0.87101626</td><td>1.7152637</td><td>0.3208344</td><td>15.421409</td><td>1.1460743</td><td>1.114075</td><td>1.8873104</td><td>0.34992832</td><td>15.185202</td><td>0.94354045</td><td>1.1685165</td><td>2.0126553</td><td>0.2352046</td><td>0</td></tr>\n",
       "<tr><td>TFT</td><td>1270480</td><td>39633073188373812</td><td>252.754716101871</td><td>39.8420106506486</td><td>0.0697450973852925</td><td>GALAXY</td><td>3544.5401754193</td><td>0</td><td>97428</td><td>20210704</td><td>336798</td><td>9.404058275190737e-14</td><td>1270480</td><td>SGA-2020 1270480</td><td>PGC3129602</td><td>3129602</td><td>252.7547565</td><td>39.842066100000004</td><td>E?</td><td>143.99</td><td>0.38815036</td><td>0.25763214</td><td>0.06973124</td><td>24.92048</td><td>18.347</td><td>False</td><td>LEDA-20181114</td><td>466546</td><td>PGC3129602</td><td>1</td><td>True</td><td>252.7547565</td><td>39.842066100000004</td><td>0.38815036</td><td>2528p397</td><td>252.7547161018711</td><td>39.84201065064863</td><td>0.54930395</td><td>SB26</td><td>144.75925</td><td>0.26437765</td><td>252.75461962915082</td><td>39.84206893953908</td><td>11.501226</td><td>4.96599</td><td>4.265457</td><td>4.1963997</td><td>6.3986998</td><td>7.778864</td><td>8.812336</td><td>9.778206</td><td>10.693171</td><td>11.55829</td><td>12.7892885</td><td>14.6303425</td><td>16.479118</td><td>18.16329</td><td>17.102182</td><td>16.347286</td><td>17.986294</td><td>16.951164</td><td>16.204088</td><td>17.890354</td><td>16.870039</td><td>16.127636</td><td>17.822014</td><td>16.812105</td><td>16.08374</td><td>17.770636</td><td>16.788797</td><td>16.061907</td><td>17.728586</td><td>16.771223</td><td>16.047873</td><td>17.692205</td><td>16.755985</td><td>16.03401</td><td>17.671698</td><td>16.73844</td><td>16.020475</td><td>17.655188</td><td>16.731348</td><td>16.011148</td><td>0.09015718</td><td>0.12936984</td><td>0.1255986</td><td>0.07717299</td><td>0.1120217</td><td>0.14977519</td><td>0.15927847</td><td>0.22893305</td><td>0.22012925</td><td>0.056254573</td><td>0.06636556</td><td>0.065976605</td><td>0.051228352</td><td>0.06068867</td><td>0.060560435</td><td>0.048512</td><td>0.057634447</td><td>0.05770523</td><td>0.046528887</td><td>0.055432323</td><td>0.055924814</td><td>0.04505161</td><td>0.054459784</td><td>0.05500905</td><td>0.043791946</td><td>0.053664234</td><td>0.054362915</td><td>0.042649448</td><td>0.05296427</td><td>0.053712647</td><td>0.041891184</td><td>0.052122105</td><td>0.052997716</td><td>0.041356865</td><td>0.051824335</td><td>0.05264009</td><td>17.641907</td><td>0.15567492</td><td>1.8471737</td><td>6.018283</td><td>0.037675828</td><td>16.72759</td><td>0.16945325</td><td>0.6314508</td><td>5.738115</td><td>0.03088586</td><td>16.00757</td><td>0.20904714</td><td>0.41704398</td><td>5.121027</td><td>0.020969555</td><td>0</td></tr>\n",
       "<tr><td>TFT</td><td>1279181</td><td>39633091689449724</td><td>254.854227690295</td><td>40.8064375064587</td><td>0.0301339708583911</td><td>GALAXY</td><td>11544.5260883868</td><td>0</td><td>97428</td><td>20210704</td><td>339106</td><td>1.942690518992685e-13</td><td>1279181</td><td>SGA-2020 1279181</td><td>PGC3129904</td><td>3129904</td><td>254.854242</td><td>40.8063957</td><td>SBd</td><td>120.28</td><td>0.45498806</td><td>0.27352685</td><td>0.03011183</td><td>24.685482</td><td>17.767</td><td>False</td><td>LEDA-20181114</td><td>468859</td><td>PGC3129904</td><td>1</td><td>True</td><td>254.854242</td><td>40.8063957</td><td>0.45498806</td><td>2548p407</td><td>254.85422769029526</td><td>40.80643750645868</td><td>0.61056733</td><td>SB26</td><td>121.085724</td><td>0.28622246</td><td>254.8541272232332</td><td>40.806503460934834</td><td>12.525934</td><td>6.704011</td><td>6.314685</td><td>6.050511</td><td>7.346606</td><td>9.454888</td><td>10.859085</td><td>12.222189</td><td>13.259973</td><td>14.049206</td><td>15.054363</td><td>16.625956</td><td>18.31702</td><td>17.7019</td><td>17.02361</td><td>16.52882</td><td>17.421486</td><td>16.747366</td><td>16.264332</td><td>17.289854</td><td>16.62239</td><td>16.16691</td><td>17.204756</td><td>16.540016</td><td>16.116085</td><td>17.160324</td><td>16.50779</td><td>16.087818</td><td>17.129099</td><td>16.489595</td><td>16.070433</td><td>17.105473</td><td>16.474318</td><td>16.05935</td><td>17.086756</td><td>16.46138</td><td>16.048292</td><td>17.07407</td><td>16.452852</td><td>16.043655</td><td>0.10531929</td><td>0.1509453</td><td>0.16080114</td><td>0.13562225</td><td>0.1363622</td><td>0.14442293</td><td>0.14632533</td><td>0.21162446</td><td>0.18030551</td><td>0.056236587</td><td>0.059515312</td><td>0.0671088</td><td>0.049615186</td><td>0.052540276</td><td>0.058660734</td><td>0.0464812</td><td>0.049216695</td><td>0.055360645</td><td>0.044246186</td><td>0.04687538</td><td>0.053402532</td><td>0.042979207</td><td>0.045818888</td><td>0.052225396</td><td>0.042082965</td><td>0.045183767</td><td>0.051505007</td><td>0.041358225</td><td>0.0446437</td><td>0.051029693</td><td>0.04073553</td><td>0.044161417</td><td>0.05055319</td><td>0.04029823</td><td>0.04383964</td><td>0.05036201</td><td>17.056343</td><td>0.19312671</td><td>3.9746916</td><td>6.2427144</td><td>0.018474014</td><td>16.447973</td><td>0.15972525</td><td>3.622357</td><td>7.429793</td><td>0.0077928295</td><td>16.030394</td><td>0.28384364</td><td>0.9582051</td><td>5.2163157</td><td>0.0101332</td><td>0</td></tr>\n",
       "<tr><td>TFT</td><td>1283964</td><td>39633073192571327</td><td>253.283311767386</td><td>39.6600443795779</td><td>0.118006948445633</td><td>GALAXY</td><td>1983.05823399872</td><td>0</td><td>97428</td><td>20210704</td><td>340439</td><td>1.5368960911984442e-13</td><td>1283964</td><td>SGA-2020 1283964</td><td>PGC2153630</td><td>2153630</td><td>253.28344199999998</td><td>39.660175</td><td></td><td>44.39</td><td>0.41591063</td><td>0.374973</td><td>0.11795827</td><td>25.06348</td><td>18.34</td><td>False</td><td>LEDA-20181114</td><td>470199</td><td>PGC2153630</td><td>1</td><td>True</td><td>253.28344199999998</td><td>39.660175</td><td>0.41591063</td><td>2531p397</td><td>253.2833117673858</td><td>39.660044379577904</td><td>0.47847968</td><td>SB26</td><td>42.016266</td><td>0.41236758</td><td>253.28310458996785</td><td>39.65999151404507</td><td>9.262528</td><td>5.0261354</td><td>4.575747</td><td>3.8560798</td><td>4.776951</td><td>6.1246037</td><td>7.554269</td><td>9.020291</td><td>10.283834</td><td>11.216397</td><td>12.013153</td><td>13.034778</td><td>14.35439</td><td>18.4075</td><td>17.499256</td><td>16.769276</td><td>18.143826</td><td>17.254213</td><td>16.548304</td><td>17.96037</td><td>17.088861</td><td>16.404202</td><td>17.83311</td><td>16.976149</td><td>16.306944</td><td>17.75519</td><td>16.90544</td><td>16.251417</td><td>17.709665</td><td>16.864065</td><td>16.233969</td><td>17.687735</td><td>16.839056</td><td>16.22439</td><td>17.658657</td><td>16.826565</td><td>16.216965</td><td>17.651154</td><td>16.820507</td><td>16.213202</td><td>0.07431734</td><td>0.1034617</td><td>0.1126762</td><td>0.13398696</td><td>0.180122</td><td>0.14019878</td><td>0.08164964</td><td>0.24304877</td><td>0.204383</td><td>0.052067716</td><td>0.058079664</td><td>0.067400254</td><td>0.047494873</td><td>0.051821075</td><td>0.05978015</td><td>0.043500587</td><td>0.047101405</td><td>0.054422688</td><td>0.04042671</td><td>0.043855432</td><td>0.050799526</td><td>0.0385439</td><td>0.041821364</td><td>0.048775773</td><td>0.037401892</td><td>0.040611304</td><td>0.048094638</td><td>0.036834277</td><td>0.039883003</td><td>0.04771334</td><td>0.03605846</td><td>0.03946931</td><td>0.047419216</td><td>0.035800956</td><td>0.03923115</td><td>0.047266915</td><td>17.598314</td><td>0.2589801</td><td>0.916537</td><td>4.2690444</td><td>0.12839928</td><td>16.783169</td><td>0.20628984</td><td>0.8846888</td><td>4.7892127</td><td>0.17911267</td><td>16.201658</td><td>0.14853597</td><td>0.521451</td><td>5.993525</td><td>0.047856208</td><td>0</td></tr>\n",
       "<tr><td>TFT</td><td>1353609</td><td>39633091660088132</td><td>252.454746252201</td><td>40.7781415537625</td><td>0.0834676698268431</td><td>GALAXY</td><td>1601.55572145479</td><td>0</td><td>97428</td><td>20210704</td><td>358925</td><td>2.7995095341145943e-13</td><td>1353609</td><td>SGA-2020 1353609</td><td>PGC2170790</td><td>2170790</td><td>252.45476999999997</td><td>40.7780677</td><td>Sb</td><td>75.13</td><td>0.3741106</td><td>0.5571857</td><td>0.083442725</td><td>24.03648</td><td>17.543</td><td>False</td><td>LEDA-20181114</td><td>497758</td><td>PGC2170790</td><td>1</td><td>True</td><td>252.45476999999997</td><td>40.7780677</td><td>0.3741106</td><td>2525p407</td><td>252.45474625220064</td><td>40.77814155376251</td><td>0.4899495</td><td>SB26</td><td>76.63858</td><td>0.64863193</td><td>252.45460612397108</td><td>40.778227276290394</td><td>11.091373</td><td>5.321589</td><td>4.852682</td><td>4.251465</td><td>3.8548722</td><td>5.206841</td><td>6.6378684</td><td>8.049012</td><td>9.355901</td><td>10.525534</td><td>11.766735</td><td>13.18808</td><td>14.698484</td><td>18.35676</td><td>17.642668</td><td>17.104134</td><td>17.967445</td><td>17.292303</td><td>16.793312</td><td>17.714605</td><td>17.065348</td><td>16.592285</td><td>17.549435</td><td>16.91621</td><td>16.464315</td><td>17.442812</td><td>16.818943</td><td>16.384186</td><td>17.373114</td><td>16.757996</td><td>16.333937</td><td>17.327967</td><td>16.72092</td><td>16.307737</td><td>17.29784</td><td>16.694632</td><td>16.291151</td><td>17.271297</td><td>16.67653</td><td>16.278227</td><td>0.034087975</td><td>0.048515473</td><td>0.06412768</td><td>0.09984341</td><td>0.093463264</td><td>0.087236635</td><td>0.10263098</td><td>0.12083847</td><td>0.14779158</td><td>0.017671982</td><td>0.01967327</td><td>0.025799261</td><td>0.016460894</td><td>0.018058987</td><td>0.022461327</td><td>0.015843272</td><td>0.017034197</td><td>0.020707963</td><td>0.015662335</td><td>0.01654211</td><td>0.01977409</td><td>0.015252291</td><td>0.016004167</td><td>0.019130426</td><td>0.01486243</td><td>0.015543597</td><td>0.018583292</td><td>0.014505562</td><td>0.015196991</td><td>0.01830145</td><td>0.0142027885</td><td>0.014896731</td><td>0.018117761</td><td>0.013926808</td><td>0.014694744</td><td>0.01799115</td><td>17.196018</td><td>0.46690693</td><td>0.56250125</td><td>3.1144667</td><td>0.6560312</td><td>16.623837</td><td>0.35708335</td><td>0.57368964</td><td>3.5040975</td><td>0.6337811</td><td>16.24744</td><td>0.27806053</td><td>0.48448724</td><td>3.9307752</td><td>0.37959534</td><td>0</td></tr>\n",
       "<tr><td>TFT</td><td>1371293</td><td>39633082461982541</td><td>253.122355838986</td><td>40.2204289298774</td><td>0.0341072153373491</td><td>GALAXY</td><td>1653.7302832742</td><td>0</td><td>97428</td><td>20210704</td><td>363581</td><td>9.756148901690222e-14</td><td>1371293</td><td>SGA-2020 1371293</td><td>PGC2162525</td><td>2162525</td><td>253.12228349999995</td><td>40.2204761</td><td>E?</td><td>0.0</td><td>0.3404082</td><td>0.94406086</td><td>0.03410326</td><td>23.266481</td><td>16.978</td><td>False</td><td>LEDA-20181114</td><td>502428</td><td>PGC2162525</td><td>1</td><td>True</td><td>253.12228349999995</td><td>40.2204761</td><td>0.3404082</td><td>2530p402</td><td>253.12235583898612</td><td>40.22042892987736</td><td>0.5315681</td><td>SB26</td><td>179.84946</td><td>0.84964985</td><td>253.1222669966324</td><td>40.22046776957567</td><td>13.764931</td><td>4.7721996</td><td>4.4883013</td><td>4.158202</td><td>4.9924903</td><td>6.173525</td><td>7.4362154</td><td>8.873604</td><td>10.43271</td><td>11.929261</td><td>13.400782</td><td>14.601684</td><td>15.947043</td><td>17.260122</td><td>16.444725</td><td>15.930076</td><td>17.076214</td><td>16.27397</td><td>15.766114</td><td>16.948313</td><td>16.154312</td><td>15.654155</td><td>16.845726</td><td>16.059278</td><td>15.569726</td><td>16.765453</td><td>15.987761</td><td>15.506489</td><td>16.712233</td><td>15.937773</td><td>15.4636755</td><td>16.67525</td><td>15.90388</td><td>15.434891</td><td>16.653355</td><td>15.885201</td><td>15.419179</td><td>16.639675</td><td>15.870831</td><td>15.409243</td><td>0.01299746</td><td>0.013784082</td><td>0.0151307145</td><td>0.022964042</td><td>0.044207968</td><td>0.042605307</td><td>0.063028686</td><td>0.090625025</td><td>0.18660948</td><td>0.0046868506</td><td>0.005246949</td><td>0.0055496236</td><td>0.0044597206</td><td>0.004926125</td><td>0.005251293</td><td>0.0041848267</td><td>0.0046100905</td><td>0.0049442</td><td>0.0039250096</td><td>0.0043041063</td><td>0.004677258</td><td>0.0037253958</td><td>0.0040806727</td><td>0.0044843424</td><td>0.003607219</td><td>0.0039404216</td><td>0.0043600686</td><td>0.0035382404</td><td>0.0038564943</td><td>0.0042846613</td><td>0.0034979642</td><td>0.0038181117</td><td>0.0042572</td><td>0.0034849166</td><td>0.0037949213</td><td>0.004249963</td><td>16.546398</td><td>0.46980858</td><td>0.6559815</td><td>2.431075</td><td>3.917138</td><td>15.782754</td><td>0.47759086</td><td>0.5864892</td><td>2.343789</td><td>1.9567292</td><td>15.336648</td><td>0.5235938</td><td>0.41896135</td><td>2.3202999</td><td>1.8717593</td><td>0</td></tr>\n",
       "<tr><td>TFT</td><td>1372399</td><td>39633082461978990</td><td>252.873914667376</td><td>40.2933769039592</td><td>0.0360078381403841</td><td>GALAXY</td><td>15855.5634890795</td><td>0</td><td>97428</td><td>20210704</td><td>363862</td><td>1.7368998364986422e-13</td><td>1372399</td><td>SGA-2020 1372399</td><td>PGC3129744</td><td>3129744</td><td>252.87390150000004</td><td>40.2933118</td><td>S?</td><td>26.77</td><td>0.3411929</td><td>0.38725764</td><td>0.0360446</td><td>23.957481</td><td>17.664</td><td>False</td><td>LEDA-20181114</td><td>502711</td><td>PGC3129744</td><td>1</td><td>True</td><td>252.87390150000004</td><td>40.2933118</td><td>0.3411929</td><td>2530p402</td><td>252.87391466737577</td><td>40.29337690395921</td><td>0.4401008</td><td>SB26</td><td>33.95841</td><td>0.3464756</td><td>252.8737871093418</td><td>40.29348264852677</td><td>7.948805</td><td>4.1292257</td><td>3.7799587</td><td>3.7117584</td><td>5.280554</td><td>6.25019</td><td>7.111623</td><td>7.8703218</td><td>8.789657</td><td>9.702798</td><td>10.7449</td><td>11.935722</td><td>13.203024</td><td>17.567804</td><td>17.163445</td><td>16.936855</td><td>17.406246</td><td>17.037704</td><td>16.808847</td><td>17.306612</td><td>16.969967</td><td>16.743448</td><td>17.249765</td><td>16.92457</td><td>16.709017</td><td>17.206081</td><td>16.891865</td><td>16.681055</td><td>17.180872</td><td>16.871254</td><td>16.659405</td><td>17.160799</td><td>16.853365</td><td>16.643179</td><td>17.14561</td><td>16.839712</td><td>16.635382</td><td>17.134672</td><td>16.827524</td><td>16.634789</td><td>0.059153784</td><td>0.10301273</td><td>0.055793133</td><td>0.075077005</td><td>0.078702465</td><td>0.07933193</td><td>0.11335876</td><td>0.11679206</td><td>0.16320692</td><td>0.04768915</td><td>0.05907535</td><td>0.05441114</td><td>0.0450201</td><td>0.054991312</td><td>0.05118418</td><td>0.04290679</td><td>0.052402925</td><td>0.04909189</td><td>0.04144573</td><td>0.050698932</td><td>0.04776278</td><td>0.040108845</td><td>0.04920768</td><td>0.04679655</td><td>0.03927969</td><td>0.048340745</td><td>0.045949157</td><td>0.038606204</td><td>0.04758352</td><td>0.04530762</td><td>0.038095422</td><td>0.04700474</td><td>0.045010064</td><td>0.037726074</td><td>0.04662182</td><td>0.044914845</td><td>17.120317</td><td>0.3474747</td><td>0.16114771</td><td>4.3748107</td><td>0.014604652</td><td>16.801823</td><td>0.7359806</td><td>0.08860413</td><td>3.0840034</td><td>0.006694939</td><td>16.617043</td><td>0.55077827</td><td>0.07290228</td><td>3.7238314</td><td>0.021320576</td><td>0</td></tr>\n",
       "<tr><td>TFT</td><td>1394030</td><td>39627844279599382</td><td>309.50494772652</td><td>2.19217633463707</td><td>0.0746237413581107</td><td>GALAXY</td><td>2753.78543201787</td><td>0</td><td>97432</td><td>20210704</td><td>369739</td><td>2.272243150548117e-13</td><td>1394030</td><td>SGA-2020 1394030</td><td>PGC1218991</td><td>1218991</td><td>309.5050005</td><td>2.1923333</td><td></td><td>44.0</td><td>0.47863013</td><td>0.64565426</td><td>-99.0</td><td>24.35848</td><td>17.33</td><td>False</td><td>LEDA-20181114</td><td>509944</td><td>PGC1218991</td><td>1</td><td>True</td><td>309.5050005</td><td>2.1923333</td><td>0.47863013</td><td>3096p022</td><td>309.50494772652024</td><td>2.1921763346370726</td><td>0.6165329</td><td>SB26</td><td>40.304916</td><td>0.5819266</td><td>309.50491352288554</td><td>2.192272806284587</td><td>15.41812</td><td>6.0246835</td><td>5.637275</td><td>5.1612444</td><td>7.453882</td><td>8.942612</td><td>10.308336</td><td>11.645038</td><td>12.981052</td><td>14.318225</td><td>15.702903</td><td>17.086735</td><td>18.495987</td><td>16.824108</td><td>16.031233</td><td>15.388829</td><td>16.649647</td><td>15.874557</td><td>15.255931</td><td>16.546005</td><td>15.780211</td><td>15.175707</td><td>16.482254</td><td>15.719157</td><td>15.124998</td><td>16.44071</td><td>15.680467</td><td>15.0902</td><td>16.41221</td><td>15.652327</td><td>15.067327</td><td>16.392324</td><td>15.633338</td><td>15.049267</td><td>16.37854</td><td>15.621203</td><td>15.038326</td><td>16.367752</td><td>15.611275</td><td>15.028711</td><td>0.038511086</td><td>0.038442317</td><td>0.040189385</td><td>0.04686088</td><td>0.05965595</td><td>0.06570971</td><td>0.08458005</td><td>0.10250659</td><td>0.13402669</td><td>0.0081090685</td><td>0.0069501493</td><td>0.00852533</td><td>0.00810905</td><td>0.006788355</td><td>0.008114183</td><td>0.007826789</td><td>0.0065993415</td><td>0.0078084087</td><td>0.0075697657</td><td>0.0064174114</td><td>0.0075593144</td><td>0.007354667</td><td>0.0062776</td><td>0.0073954132</td><td>0.00722168</td><td>0.0061719175</td><td>0.0072839176</td><td>0.0071185604</td><td>0.0061023436</td><td>0.007206998</td><td>0.0070496253</td><td>0.0060524927</td><td>0.007156555</td><td>0.007000289</td><td>0.0060074837</td><td>0.0071048094</td><td>16.33681</td><td>0.49075392</td><td>0.595863</td><td>3.5684195</td><td>0.04928798</td><td>15.583527</td><td>0.3633359</td><td>0.80588347</td><td>3.7551756</td><td>0.04442672</td><td>14.99951</td><td>0.38003257</td><td>0.65677625</td><td>3.4051158</td><td>0.029474236</td><td>0</td></tr>\n",
       "<tr><td>TFT</td><td>1399927</td><td>39627838243999649</td><td>309.84204868489</td><td>2.08572178552614</td><td>0.0130565865119583</td><td>GALAXY</td><td>50189.3785737157</td><td>0</td><td>97432</td><td>20210704</td><td>371216</td><td>2.840466062641378e-13</td><td>1399927</td><td>SGA-2020 1399927</td><td>PGC065141</td><td>65141</td><td>309.8420775</td><td>2.0857343999999998</td><td></td><td>12.0</td><td>0.7396053</td><td>0.4130475</td><td>0.012995657</td><td>23.475481</td><td>15.502</td><td>False</td><td>LEDA-20181114</td><td>512517</td><td>PGC065141</td><td>1</td><td>True</td><td>309.8420775</td><td>2.0857343999999998</td><td>0.7396053</td><td>3098p020</td><td>309.84204868488973</td><td>2.085721785526137</td><td>1.110216</td><td>SB26</td><td>12.627816</td><td>0.37597913</td><td>309.84198628438446</td><td>2.085758341727526</td><td>23.718214</td><td>6.51208</td><td>6.278527</td><td>6.4573035</td><td>12.995719</td><td>14.831102</td><td>16.196589</td><td>17.987484</td><td>19.776342</td><td>21.66869</td><td>24.317827</td><td>28.693815</td><td>33.30648</td><td>15.488459</td><td>14.826747</td><td>14.315469</td><td>15.432901</td><td>14.768567</td><td>14.256457</td><td>15.40293</td><td>14.732553</td><td>14.224971</td><td>15.374025</td><td>14.698246</td><td>14.194131</td><td>15.354614</td><td>14.676198</td><td>14.176515</td><td>15.341368</td><td>14.662759</td><td>14.160391</td><td>15.330658</td><td>14.652262</td><td>14.147699</td><td>15.318579</td><td>14.636546</td><td>14.138596</td><td>15.308547</td><td>14.6260805</td><td>14.1280365</td><td>0.0824256</td><td>0.13792971</td><td>0.14723812</td><td>0.13902156</td><td>0.17548245</td><td>0.23215662</td><td>0.2147064</td><td>0.29376495</td><td>0.24449493</td><td>0.035858404</td><td>0.032289773</td><td>0.034170542</td><td>0.034409057</td><td>0.030995946</td><td>0.032758426</td><td>0.03360725</td><td>0.03019627</td><td>0.031953413</td><td>0.032823466</td><td>0.029390387</td><td>0.03119188</td><td>0.03227921</td><td>0.028873095</td><td>0.03069269</td><td>0.03191797</td><td>0.02852619</td><td>0.030300036</td><td>0.03161452</td><td>0.028261436</td><td>0.029963525</td><td>0.03125987</td><td>0.027879309</td><td>0.029681405</td><td>0.03097554</td><td>0.027615026</td><td>0.029398512</td><td>15.299834</td><td>0.36393282</td><td>1.6398706</td><td>3.3527596</td><td>0.012927797</td><td>14.619277</td><td>0.2409113</td><td>3.7210555</td><td>3.7917664</td><td>0.05546957</td><td>14.120692</td><td>0.2957122</td><td>2.4113786</td><td>3.6194072</td><td>0.015113052</td><td>0</td></tr>\n",
       "</table>"
      ],
      "text/plain": [
       "<QTable length=15405>\n",
       "pvtype  sga_id      targetid      ... Z_COG_PARAMS_CHI2 ELLIPSEBIT\n",
       "                                  ...                             \n",
       " str3   int64        int64        ...      float32        int32   \n",
       "------ ------- ------------------ ... ----------------- ----------\n",
       "   TFT 1285603 616088587867259427 ...       0.049506165          0\n",
       "   SGA  227887  39628509848540752 ...        0.03310028          0\n",
       "   SGA  249627  39628473387452348 ...         0.4841751          0\n",
       "   SGA  581116  39628499509579686 ...        0.15311071          0\n",
       "   SGA  879849  39628478600971508 ...         1.0173686          0\n",
       "   SGA 1215253  39628494279282283 ...        0.04159405          0\n",
       "   SGA 1329026  39628478600971529 ...        0.27428445          0\n",
       "   TFT  161400  39628462826195756 ...        0.10133553          0\n",
       "   TFT  173880  39628457541371020 ...          0.287603          0\n",
       "   ...     ...                ... ...               ...        ...\n",
       "   TFT 1178025  39633087096687294 ...       0.045548737          0\n",
       "   TFT 1190951  39633105362878783 ...         0.2352046          0\n",
       "   TFT 1270480  39633073188373812 ...       0.020969555          0\n",
       "   TFT 1279181  39633091689449724 ...         0.0101332          0\n",
       "   TFT 1283964  39633073192571327 ...       0.047856208          0\n",
       "   TFT 1353609  39633091660088132 ...        0.37959534          0\n",
       "   TFT 1371293  39633082461982541 ...         1.8717593          0\n",
       "   TFT 1372399  39633082461978990 ...       0.021320576          0\n",
       "   TFT 1394030  39627844279599382 ...       0.029474236          0\n",
       "   TFT 1399927  39627838243999649 ...       0.015113052          0"
      ]
     },
     "execution_count": 638,
     "metadata": {},
     "output_type": "execute_result"
    }
   ],
   "source": [
    "# Print the table to demonstrate that we've matched across the rows between PV_observed and SGA.\n",
    "PV_matched"
   ]
  },
  {
   "cell_type": "markdown",
   "id": "a5e6281a-f60f-4cd9-af40-82ceafe4336b",
   "metadata": {},
   "source": [
    "#### Sanity Check: Matching SGA IDs?\n",
    "\n",
    "Making the `hstack` of the `PV_observed` and `SGA` tables changes some of the columns in the merged table. After the stack:\n",
    "- `SGA_ID` in `PV_observed` becomes `SGA_ID_1`. This corresponds to the SGA ID returned by the database query of TF targets at NERSC.\n",
    "- `SGA_ID` in `SGA` becomes `SGA_ID_2` in the merged table. This is the SGA ID of the galaxy that is the nearest neighbor of the DESI target in each row of the merged table.\n",
    "\n",
    "Note that many if not most of the `SGA_ID_1` values will be zero b/c that's what is returned by the current query (as of end of June 2021). Here we check that when `SGA_ID_1` is nonzero, then it matches `SGA_ID_2`. For cases that don't match, it may be due to the fact that the correct SGA ID is *not* the nearest neighbor of that particular DESI target. "
   ]
  },
  {
   "cell_type": "code",
   "execution_count": 652,
   "id": "b009ad68-c674-46bd-a840-7b709ab9fe2b",
   "metadata": {},
   "outputs": [
    {
     "data": {
      "text/html": [
       "<i>QTable length=15405</i>\n",
       "<table id=\"table46913399006832\" class=\"table-striped table-bordered table-condensed\">\n",
       "<thead><tr><th>sga_id</th><th>SGA_ID</th></tr></thead>\n",
       "<thead><tr><th>int64</th><th>int64</th></tr></thead>\n",
       "<tr><td>1285603</td><td>586473</td></tr>\n",
       "<tr><td>227887</td><td>227887</td></tr>\n",
       "<tr><td>249627</td><td>249627</td></tr>\n",
       "<tr><td>581116</td><td>581116</td></tr>\n",
       "<tr><td>879849</td><td>879849</td></tr>\n",
       "<tr><td>1215253</td><td>1215253</td></tr>\n",
       "<tr><td>1329026</td><td>1329026</td></tr>\n",
       "<tr><td>161400</td><td>161400</td></tr>\n",
       "<tr><td>173880</td><td>173880</td></tr>\n",
       "<tr><td>269195</td><td>269195</td></tr>\n",
       "<tr><td>...</td><td>...</td></tr>\n",
       "<tr><td>1178025</td><td>1178025</td></tr>\n",
       "<tr><td>1190951</td><td>1190951</td></tr>\n",
       "<tr><td>1270480</td><td>1270480</td></tr>\n",
       "<tr><td>1279181</td><td>1279181</td></tr>\n",
       "<tr><td>1283964</td><td>1283964</td></tr>\n",
       "<tr><td>1353609</td><td>1353609</td></tr>\n",
       "<tr><td>1371293</td><td>1371293</td></tr>\n",
       "<tr><td>1372399</td><td>1372399</td></tr>\n",
       "<tr><td>1394030</td><td>1394030</td></tr>\n",
       "<tr><td>1399927</td><td>1399927</td></tr>\n",
       "</table>"
      ],
      "text/plain": [
       "<QTable length=15405>\n",
       " sga_id  SGA_ID\n",
       " int64   int64 \n",
       "------- -------\n",
       "1285603  586473\n",
       " 227887  227887\n",
       " 249627  249627\n",
       " 581116  581116\n",
       " 879849  879849\n",
       "1215253 1215253\n",
       "1329026 1329026\n",
       " 161400  161400\n",
       " 173880  173880\n",
       " 269195  269195\n",
       "    ...     ...\n",
       "1178025 1178025\n",
       "1190951 1190951\n",
       "1270480 1270480\n",
       "1279181 1279181\n",
       "1283964 1283964\n",
       "1353609 1353609\n",
       "1371293 1371293\n",
       "1372399 1372399\n",
       "1394030 1394030\n",
       "1399927 1399927"
      ]
     },
     "execution_count": 652,
     "metadata": {},
     "output_type": "execute_result"
    }
   ],
   "source": [
    "# Grab a boolean array where the sga_id is nonzero.\n",
    "is_nonzero_id = PV_matched['sga_id'] != 0\n",
    "\n",
    "# For all rows where sga_id is nonzero, print sga_id and SGA_ID.\n",
    "PV_matched[is_nonzero_id]['sga_id', 'SGA_ID']"
   ]
  },
  {
   "cell_type": "code",
   "execution_count": 646,
   "id": "e7c0dff7-91c8-451b-b73f-aa2c91bd858a",
   "metadata": {},
   "outputs": [
    {
     "name": "stdout",
     "output_type": "stream",
     "text": [
      "[1 1 1 ... 1 1 1]\n"
     ]
    }
   ],
   "source": [
    "# Returns a list of unique SGA_ID (the SGA_ID from the SGA table) and the number of times that ID is in our table.\n",
    "unique_ids, id_counts = np.unique(PV_matched['SGA_ID'], return_counts=True)\n",
    "\n",
    "print(id_counts)"
   ]
  },
  {
   "cell_type": "code",
   "execution_count": 653,
   "id": "b3bb63aa-a9d8-4186-9e2e-245384a29cdd",
   "metadata": {},
   "outputs": [
    {
     "name": "stdout",
     "output_type": "stream",
     "text": [
      "pvtype  sga_id      targetid      ... Z_COG_PARAMS_CHI2 ELLIPSEBIT\n",
      "                                  ...                             \n",
      "------ ------- ------------------ ... ----------------- ----------\n",
      "   TFT     146  39633358845643204 ...       0.007930444          0\n",
      "   SGA 1016335 616094114374484114 ...       0.007930444          0\n",
      "pvtype sga_id      targetid      ... Z_COG_PARAMS_CHI2 ELLIPSEBIT\n",
      "                                 ...                             \n",
      "------ ------ ------------------ ... ----------------- ----------\n",
      "   TFT 901112 616088552098234624 ...       0.022002598          0\n",
      "   SGA   1563  39627793759208260 ...       0.022002598          0\n",
      "pvtype sga_id      targetid      ... Z_COG_PARAMS_CHI2 ELLIPSEBIT\n",
      "                                 ...                             \n",
      "------ ------ ------------------ ... ----------------- ----------\n",
      "   SGA 106747 616093704121221370 ...         1.0723646          0\n",
      "   SGA   8158  39632951817801333 ...         1.0723646          0\n",
      "pvtype sga_id      targetid      ... Z_COG_PARAMS_CHI2 ELLIPSEBIT\n",
      "                                 ...                             \n",
      "------ ------ ------------------ ... ----------------- ----------\n",
      "   SGA  10959 616094174218814228 ...         0.3492109          0\n",
      "   SGA  10959  39633421915390740 ...         0.3492109          0\n",
      "pvtype sga_id      targetid      ... Z_COG_PARAMS_CHI2 ELLIPSEBIT\n",
      "                                 ...                             \n",
      "------ ------ ------------------ ... ----------------- ----------\n",
      "   TFT  34473  39627902945329950 ...         0.7942048          0\n",
      "   TFT  34473 616088655248753438 ...         0.7942048          0\n",
      "pvtype sga_id      targetid     ... Z_COG_PARAMS_CHI2 ELLIPSEBIT\n",
      "                                ...                             \n",
      "------ ------ ----------------- ... ----------------- ----------\n",
      "   EXT  81410 39627806795109984 ...         4.6505795          0\n",
      "   TFT  81410 39627806795109984 ...         4.6505795          0\n",
      "pvtype sga_id      targetid     ... Z_COG_PARAMS_CHI2 ELLIPSEBIT\n",
      "                                ...                             \n",
      "------ ------ ----------------- ... ----------------- ----------\n",
      "   TFT  83216 39627782271011486 ...       0.009281994          0\n",
      "   TFT  83216 39627782271011486 ...       0.009281994          0\n",
      "pvtype sga_id      targetid      ... Z_COG_PARAMS_CHI2 ELLIPSEBIT\n",
      "                                 ...                             \n",
      "------ ------ ------------------ ... ----------------- ----------\n",
      "   TFT 101184  39633421902807318 ...        0.09360756          0\n",
      "   TFT 101184 616094174206230806 ...        0.09360756          0\n",
      "pvtype sga_id      targetid      ... Z_COG_PARAMS_CHI2 ELLIPSEBIT\n",
      "                                 ...                             \n",
      "------ ------ ------------------ ... ----------------- ----------\n",
      "   SGA 103266 616089180233007797 ...         22.485048          0\n",
      "   SGA 103266  39628427929584309 ...         22.485048          0\n",
      "pvtype sga_id      targetid      ... Z_COG_PARAMS_CHI2 ELLIPSEBIT\n",
      "                                 ...                             \n",
      "------ ------ ------------------ ... ----------------- ----------\n",
      "   TFT 653059 616089185576551365 ...        0.29491198          0\n",
      "   SGA 114729  39628433273128172 ...        0.29491198          0\n",
      "pvtype sga_id      targetid     ... Z_COG_PARAMS_CHI2 ELLIPSEBIT\n",
      "                                ...                             \n",
      "------ ------ ----------------- ... ----------------- ----------\n",
      "   EXT 136307 39627776327685463 ...        0.21265364          0\n",
      "   TFT 136307 39627776327685463 ...        0.21265364          0\n",
      "pvtype sga_id      targetid     ... Z_COG_PARAMS_CHI2 ELLIPSEBIT\n",
      "                                ...                             \n",
      "------ ------ ----------------- ... ----------------- ----------\n",
      "   EXT 137131 39627673151998425 ...         1.7288322          0\n",
      "   TFT 137131 39627673151998425 ...         1.7288322          0\n",
      "pvtype sga_id      targetid     ... Z_COG_PARAMS_CHI2 ELLIPSEBIT\n",
      "                                ...                             \n",
      "------ ------ ----------------- ... ----------------- ----------\n",
      "   EXT 170653 39627935996449117 ...         1.1666278          0\n",
      "   TFT 170653 39627935996449117 ...         1.1666278          0\n",
      "pvtype sga_id      targetid     ... Z_COG_PARAMS_CHI2 ELLIPSEBIT\n",
      "                                ...                             \n",
      "------ ------ ----------------- ... ----------------- ----------\n",
      "   EXT 260166 39633274812763409 ...          6.891464          0\n",
      "   TFT 260166 39633274812763409 ...          6.891464          0\n",
      "pvtype sga_id      targetid      ... Z_COG_PARAMS_CHI2 ELLIPSEBIT\n",
      "                                 ...                             \n",
      "------ ------ ------------------ ... ----------------- ----------\n",
      "   TFT 296242  39627787778130684 ...         2.3209493          0\n",
      "   TFT 296242 616088540081554172 ...         2.3209493          0\n",
      "pvtype sga_id      targetid      ... Z_COG_PARAMS_CHI2 ELLIPSEBIT\n",
      "                                 ...                             \n",
      "------ ------ ------------------ ... ----------------- ----------\n",
      "   SGA 297608  39628439564583106 ...       0.019948272          0\n",
      "   SGA 297608 616089191868006594 ...       0.019948272          0\n",
      "pvtype  sga_id      targetid      ... Z_COG_PARAMS_CHI2 ELLIPSEBIT\n",
      "                                  ...                             \n",
      "------ ------- ------------------ ... ----------------- ----------\n",
      "   TFT  300311  39633270979166746 ...        0.28623718          0\n",
      "   TFT 1376524 616094023282590848 ...        0.28623718          0\n",
      "pvtype sga_id      targetid      ... Z_COG_PARAMS_CHI2 ELLIPSEBIT\n",
      "                                 ...                             \n",
      "------ ------ ------------------ ... ----------------- ----------\n",
      "   SGA 300634  39632960835551989 ...        0.20270225          0\n",
      "   SGA 830765 616093713138975690 ...        0.20270225          0\n",
      "pvtype  sga_id      targetid      ... Z_COG_PARAMS_CHI2 ELLIPSEBIT\n",
      "                                  ...                             \n",
      "------ ------- ------------------ ... ----------------- ----------\n",
      "   TFT  301600  39633402030196648 ...          0.809378          0\n",
      "   TFT 1201434 616094154333618681 ...          0.809378          0\n",
      "pvtype sga_id      targetid     ... Z_COG_PARAMS_CHI2 ELLIPSEBIT\n",
      "                                ...                             \n",
      "------ ------ ----------------- ... ----------------- ----------\n",
      "   EXT 320783 39632995899935135 ...         3.4437222          0\n",
      "   TFT 320783 39632995899935135 ...         3.4437222          0\n",
      "pvtype sga_id      targetid     ... Z_COG_PARAMS_CHI2 ELLIPSEBIT\n",
      "                                ...                             \n",
      "------ ------ ----------------- ... ----------------- ----------\n",
      "   EXT 336324 39633338952058456 ...         4.5706396          0\n",
      "   TFT 336324 39633338952058456 ...         4.5706396          0\n",
      "pvtype sga_id      targetid     ... Z_COG_PARAMS_CHI2 ELLIPSEBIT\n",
      "                                ...                             \n",
      "------ ------ ----------------- ... ----------------- ----------\n",
      "   EXT 340978 39633001826485121 ...         1.6539754          0\n",
      "   TFT 340978 39633001826485121 ...         1.6539754          0\n",
      "pvtype sga_id      targetid      ... Z_COG_PARAMS_CHI2 ELLIPSEBIT\n",
      "                                 ...                             \n",
      "------ ------ ------------------ ... ----------------- ----------\n",
      "   TFT 351817  39627799807397929 ...        0.37080556          0\n",
      "   TFT  46327 616088552110818266 ...        0.37080556          0\n",
      "pvtype sga_id      targetid     ... Z_COG_PARAMS_CHI2 ELLIPSEBIT\n",
      "                                ...                             \n",
      "------ ------ ----------------- ... ----------------- ----------\n",
      "   EXT 443297 39633308073593875 ...          94.92743          0\n",
      "   TFT 443297 39633308073593875 ...          94.92743          0\n",
      "pvtype sga_id      targetid     ... Z_COG_PARAMS_CHI2 ELLIPSEBIT\n",
      "                                ...                             \n",
      "------ ------ ----------------- ... ----------------- ----------\n",
      "   EXT 450487 39633365283899707 ...      0.0032946758          0\n",
      "   TFT 450487 39633365283899707 ...      0.0032946758          0\n",
      "pvtype sga_id      targetid      ... Z_COG_PARAMS_CHI2 ELLIPSEBIT\n",
      "                                 ...                             \n",
      "------ ------ ------------------ ... ----------------- ----------\n",
      "   TFT 452270 616093871079686592 ...         0.5990928          0\n",
      "   TFT 452270  39633118776263104 ...         0.5990928          0\n",
      "pvtype sga_id      targetid     ... Z_COG_PARAMS_CHI2 ELLIPSEBIT\n",
      "                                ...                             \n",
      "------ ------ ----------------- ... ----------------- ----------\n",
      "   EXT 460206 39633321835105135 ...         121.90093          0\n",
      "   TFT 460206 39633321835105135 ...         121.90093          0\n",
      "pvtype sga_id      targetid     ... Z_COG_PARAMS_CHI2 ELLIPSEBIT\n",
      "                                ...                             \n",
      "------ ------ ----------------- ... ----------------- ----------\n",
      "   EXT 464427 39633296988045668 ...         6.9253693          0\n",
      "   TFT 464427 39633296988045668 ...         6.9253693          0\n",
      "pvtype sga_id      targetid      ... Z_COG_PARAMS_CHI2 ELLIPSEBIT\n",
      "                                 ...                             \n",
      "------ ------ ------------------ ... ----------------- ----------\n",
      "   TFT 489408  39627757465895871 ...        0.12789692          0\n",
      "   TFT 489408 616088509769319359 ...        0.12789692          0\n",
      "pvtype sga_id      targetid     ... Z_COG_PARAMS_CHI2 ELLIPSEBIT\n",
      "                                ...                             \n",
      "------ ------ ----------------- ... ----------------- ----------\n",
      "   EXT 505238 39627747772860508 ...         0.0227708          0\n",
      "   TFT 505238 39627747772860508 ...         0.0227708          0\n",
      "pvtype sga_id      targetid     ... Z_COG_PARAMS_CHI2 ELLIPSEBIT\n",
      "                                ...                             \n",
      "------ ------ ----------------- ... ----------------- ----------\n",
      "   EXT 520440 39633145020025930 ...         1.5200987          0\n",
      "   TFT 520440 39633145020025930 ...         1.5200987          0\n",
      "pvtype sga_id      targetid      ... Z_COG_PARAMS_CHI2 ELLIPSEBIT\n",
      "                                 ...                             \n",
      "------ ------ ------------------ ... ----------------- ----------\n",
      "   TFT 866411 616094203671217346 ...        0.23287186          0\n",
      "   TFT 529705  39633453846627552 ...        0.23287186          0\n",
      "pvtype sga_id      targetid     ... Z_COG_PARAMS_CHI2 ELLIPSEBIT\n",
      "                                ...                             \n",
      "------ ------ ----------------- ... ----------------- ----------\n",
      "   EXT 541095 39633335584034202 ...          3.148021          0\n",
      "   TFT 541095 39633335584034202 ...          3.148021          0\n",
      "pvtype sga_id      targetid     ... Z_COG_PARAMS_CHI2 ELLIPSEBIT\n",
      "                                ...                             \n",
      "------ ------ ----------------- ... ----------------- ----------\n",
      "   EXT 547778 39627914962013611 ...         17.724102          0\n",
      "   TFT 547778 39627914962013611 ...         17.724102          0\n",
      "pvtype  sga_id      targetid      ... Z_COG_PARAMS_CHI2 ELLIPSEBIT\n",
      "                                  ...                             \n",
      "------ ------- ------------------ ... ----------------- ----------\n",
      "   TFT  557283  39628438608285899 ...         1.7766861          0\n",
      "   TFT 1201916 616089190911705696 ...         1.7766861          0\n",
      "pvtype sga_id      targetid     ... Z_COG_PARAMS_CHI2 ELLIPSEBIT\n",
      "                                ...                             \n",
      "------ ------ ----------------- ... ----------------- ----------\n",
      "   EXT 569778 39627842576716748 ...         4.6042714          0\n",
      "   TFT 569778 39627842576716748 ...         4.6042714          0\n",
      "pvtype sga_id      targetid      ... Z_COG_PARAMS_CHI2 ELLIPSEBIT\n",
      "                                 ...                             \n",
      "------ ------ ------------------ ... ----------------- ----------\n",
      "   TFT 575605  39633123255779534 ...        0.21976471          0\n",
      "   TFT 575605 616093875559203022 ...        0.21976471          0\n",
      "pvtype  sga_id      targetid      ... Z_COG_PARAMS_CHI2 ELLIPSEBIT\n",
      "                                  ...                             \n",
      "------ ------- ------------------ ... ----------------- ----------\n",
      "   TFT 1285603 616088587867259427 ...       0.049506165          0\n",
      "   SGA  586473  39627835563836488 ...       0.049506165          0\n",
      "pvtype sga_id      targetid     ... Z_COG_PARAMS_CHI2 ELLIPSEBIT\n",
      "                                ...                             \n",
      "------ ------ ----------------- ... ----------------- ----------\n",
      "   EXT 631395 39627908943185601 ...         18.579182          0\n",
      "   TFT 631395 39627908943185601 ...         18.579182          0\n",
      "pvtype sga_id      targetid     ... Z_COG_PARAMS_CHI2 ELLIPSEBIT\n",
      "                                ...                             \n",
      "------ ------ ----------------- ... ----------------- ----------\n",
      "   EXT 667663 39633289689958525 ...         20.961115          0\n",
      "   TFT 667663 39633289689958525 ...         20.961115          0\n",
      "pvtype sga_id      targetid      ... Z_COG_PARAMS_CHI2 ELLIPSEBIT\n",
      "                                 ...                             \n",
      "------ ------ ------------------ ... ----------------- ----------\n",
      "   TFT 734202  39633158286607883 ...       0.037609708          0\n",
      "   SGA 119331 616093906265703615 ...       0.037609708          0\n",
      "pvtype sga_id      targetid      ... Z_COG_PARAMS_CHI2 ELLIPSEBIT\n",
      "                                 ...                             \n",
      "------ ------ ------------------ ... ----------------- ----------\n",
      "   TFT 755117  39627871781651990 ...         0.1632062          0\n",
      "   TFT 867677 616088618049471132 ...         0.1632062          0\n",
      "pvtype sga_id      targetid      ... Z_COG_PARAMS_CHI2 ELLIPSEBIT\n",
      "                                 ...                             \n",
      "------ ------ ------------------ ... ----------------- ----------\n",
      "   SGA 796241  39627763635716662 ...        0.09466191          0\n",
      "   SGA 796241 616088515939140150 ...        0.09466191          0\n",
      "pvtype sga_id      targetid     ... Z_COG_PARAMS_CHI2 ELLIPSEBIT\n",
      "                                ...                             \n",
      "------ ------ ----------------- ... ----------------- ----------\n",
      "   EXT 801183 39633263488141603 ...        0.05617527          0\n",
      "   TFT 801183 39633263488141603 ...        0.05617527          0\n",
      "pvtype sga_id      targetid      ... Z_COG_PARAMS_CHI2 ELLIPSEBIT\n",
      "                                 ...                             \n",
      "------ ------ ------------------ ... ----------------- ----------\n",
      "   TFT 540921 616094084582342821 ...          5.828882          0\n",
      "   TFT 812937  39633332278919670 ...          5.828882          0\n",
      "pvtype sga_id      targetid     ... Z_COG_PARAMS_CHI2 ELLIPSEBIT\n",
      "                                ...                             \n",
      "------ ------ ----------------- ... ----------------- ----------\n",
      "   EXT 816706 39627933022688225 ...         0.4855981          0\n",
      "   TFT 816706 39627933022688225 ...         0.4855981          0\n",
      "pvtype sga_id      targetid     ... Z_COG_PARAMS_CHI2 ELLIPSEBIT\n",
      "                                ...                             \n",
      "------ ------ ----------------- ... ----------------- ----------\n",
      "   EXT 823890 39633352378026461 ...         0.2858909          0\n",
      "   TFT 823890 39633352378026461 ...         0.2858909          0\n",
      "pvtype sga_id      targetid      ... Z_COG_PARAMS_CHI2 ELLIPSEBIT\n",
      "                                 ...                             \n",
      "------ ------ ------------------ ... ----------------- ----------\n",
      "   TFT 833961 616088691353321744 ...        0.16307698          0\n",
      "   TFT 833961  39627939049898256 ...        0.16307698          0\n",
      "pvtype sga_id      targetid     ... Z_COG_PARAMS_CHI2 ELLIPSEBIT\n",
      "                                ...                             \n",
      "------ ------ ----------------- ... ----------------- ----------\n",
      "   EXT 850881 39627649307380961 ...        0.23617935          0\n",
      "   TFT 850881 39627649307380961 ...        0.23617935          0\n",
      "pvtype sga_id      targetid      ... Z_COG_PARAMS_CHI2 ELLIPSEBIT\n",
      "                                 ...                             \n",
      "------ ------ ------------------ ... ----------------- ----------\n",
      "   TFT 910922  39633114233832114 ...         2.3747623          0\n",
      "   TFT 576857 616093866537255502 ...         2.3747623          0\n",
      "pvtype sga_id      targetid     ... Z_COG_PARAMS_CHI2 ELLIPSEBIT\n",
      "                                ...                             \n",
      "------ ------ ----------------- ... ----------------- ----------\n",
      "   EXT 915738 39627788373724677 ...          9.116634          0\n",
      "   TFT 915738 39627788373724677 ...          9.116634          0\n",
      "pvtype sga_id      targetid     ... Z_COG_PARAMS_CHI2 ELLIPSEBIT\n",
      "                                ...                             \n",
      "------ ------ ----------------- ... ----------------- ----------\n",
      "   EXT 929706 39633318324472017 ...          82.45385          0\n",
      "   TFT 929706 39633318324472017 ...          82.45385          0\n",
      "pvtype sga_id      targetid      ... Z_COG_PARAMS_CHI2 ELLIPSEBIT\n",
      "                                 ...                             \n",
      "------ ------ ------------------ ... ----------------- ----------\n",
      "   TFT 932984  39627823467467796 ...        0.33039534          0\n",
      "   TFT  25835 616088575770886965 ...        0.33039534          0\n",
      "pvtype sga_id      targetid     ... Z_COG_PARAMS_CHI2 ELLIPSEBIT\n",
      "                                ...                             \n",
      "------ ------ ----------------- ... ----------------- ----------\n",
      "   EXT 934723 39633325333153792 ...         21.280083          0\n",
      "   TFT 934723 39633325333153792 ...         21.280083          0\n",
      "pvtype sga_id      targetid     ... Z_COG_PARAMS_CHI2 ELLIPSEBIT\n",
      "                                ...                             \n",
      "------ ------ ----------------- ... ----------------- ----------\n",
      "   EXT 940344 39628422518932597 ...         43.168583          0\n",
      "   TFT 940344 39628422518932597 ...         43.168583          0\n",
      "pvtype sga_id      targetid      ... Z_COG_PARAMS_CHI2 ELLIPSEBIT\n",
      "                                 ...                             \n",
      "------ ------ ------------------ ... ----------------- ----------\n",
      "   TFT 958342 616094254497792891 ...       0.037535768          0\n",
      "   TFT 958342  39633502194369403 ...       0.037535768          0\n",
      "pvtype sga_id      targetid     ... Z_COG_PARAMS_CHI2 ELLIPSEBIT\n",
      "                                ...                             \n",
      "------ ------ ----------------- ... ----------------- ----------\n",
      "   EXT 975775 39627758099238871 ...         123.10022          0\n",
      "   TFT 975775 39627758099238871 ...         123.10022          0\n",
      "pvtype  sga_id      targetid      ... Z_COG_PARAMS_CHI2 ELLIPSEBIT\n",
      "                                  ...                             \n",
      "------ ------- ------------------ ... ----------------- ----------\n",
      "   SGA  524938 616094071290593555 ...              -1.0          4\n",
      "   SGA 1004412  39633318987171462 ...              -1.0          4\n",
      "pvtype  sga_id      targetid      ... Z_COG_PARAMS_CHI2 ELLIPSEBIT\n",
      "                                  ...                             \n",
      "------ ------- ------------------ ... ----------------- ----------\n",
      "   TFT 1012479  39633407826723094 ...         1.7526301          0\n",
      "   TFT 1012479 616094160130146582 ...         1.7526301          0\n",
      "pvtype  sga_id      targetid      ... Z_COG_PARAMS_CHI2 ELLIPSEBIT\n",
      "                                  ...                             \n",
      "------ ------- ------------------ ... ----------------- ----------\n",
      "   TFT 1014959  39632966917297213 ...        0.08013301          0\n",
      "   SGA 1354783 616093719220715981 ...        0.08013301          0\n",
      "pvtype  sga_id      targetid     ... Z_COG_PARAMS_CHI2 ELLIPSEBIT\n",
      "                                 ...                             \n",
      "------ ------- ----------------- ... ----------------- ----------\n",
      "   EXT 1027002 39633224661468341 ...         1.5038482          0\n",
      "   TFT 1027002 39633224661468341 ...         1.5038482          0\n",
      "pvtype  sga_id      targetid     ... Z_COG_PARAMS_CHI2 ELLIPSEBIT\n",
      "                                 ...                             \n",
      "------ ------- ----------------- ... ----------------- ----------\n",
      "   EXT 1033344 39627817926789729 ...         229.44675          0\n",
      "   TFT 1033344 39627817926789729 ...         229.44675          0\n",
      "pvtype  sga_id      targetid     ... Z_COG_PARAMS_CHI2 ELLIPSEBIT\n",
      "                                 ...                             \n",
      "------ ------- ----------------- ... ----------------- ----------\n",
      "   EXT 1049438 39627866886902977 ...          6.785028          0\n",
      "   TFT 1049438 39627866886902977 ...          6.785028          0\n",
      "pvtype sga_id      targetid      ... Z_COG_PARAMS_CHI2 ELLIPSEBIT\n",
      "                                 ...                             \n",
      "------ ------ ------------------ ... ----------------- ----------\n",
      "   EXT 781465 616087959543742699 ...       0.039754584          0\n",
      "   TFT 781465 616087959543742699 ...       0.039754584          0\n",
      "pvtype  sga_id      targetid      ... Z_COG_PARAMS_CHI2 ELLIPSEBIT\n",
      "                                  ...                             \n",
      "------ ------- ------------------ ... ----------------- ----------\n",
      "   TFT 1101392  39628443939242960 ...        0.16275164          0\n",
      "   TFT 1101392 616089196242666448 ...        0.16275164          0\n",
      "pvtype  sga_id      targetid      ... Z_COG_PARAMS_CHI2 ELLIPSEBIT\n",
      "                                  ...                             \n",
      "------ ------- ------------------ ... ----------------- ----------\n",
      "   TFT 1108706  39633318978782488 ...         0.1996037          0\n",
      "   SGA  219207 616094071282205466 ...         0.1996037          0\n",
      "pvtype  sga_id      targetid     ... Z_COG_PARAMS_CHI2 ELLIPSEBIT\n",
      "                                 ...                             \n",
      "------ ------- ----------------- ... ----------------- ----------\n",
      "   EXT 1111915 39633274816955213 ...          40.67518          0\n",
      "   TFT 1111915 39633274816955213 ...          40.67518          0\n",
      "pvtype  sga_id      targetid     ... Z_COG_PARAMS_CHI2 ELLIPSEBIT\n",
      "                                 ...                             \n",
      "------ ------- ----------------- ... ----------------- ----------\n",
      "   EXT 1136433 39627944900952705 ...         3.9674318          0\n",
      "   TFT 1136433 39627944900952705 ...         3.9674318          0\n",
      "pvtype  sga_id      targetid     ... Z_COG_PARAMS_CHI2 ELLIPSEBIT\n",
      "                                 ...                             \n",
      "------ ------- ----------------- ... ----------------- ----------\n",
      "   EXT 1157060 39627655179403973 ...        0.46575475          0\n",
      "   TFT 1157060 39627655179403973 ...        0.46575475          0\n",
      "pvtype  sga_id      targetid     ... Z_COG_PARAMS_CHI2 ELLIPSEBIT\n",
      "                                 ...                             \n",
      "------ ------- ----------------- ... ----------------- ----------\n",
      "   EXT 1166576 39633485454902464 ...         1.5581197          0\n",
      "   TFT 1166576 39633485454902464 ...         1.5581197          0\n",
      "pvtype  sga_id      targetid      ... Z_COG_PARAMS_CHI2 ELLIPSEBIT\n",
      "                                  ...                             \n",
      "------ ------- ------------------ ... ----------------- ----------\n",
      "   SGA    7496 616094176953499939 ...         1.0672224          0\n",
      "   SGA 1171917  39633424650079777 ...         1.0672224          0\n",
      "pvtype  sga_id      targetid     ... Z_COG_PARAMS_CHI2 ELLIPSEBIT\n",
      "                                 ...                             \n",
      "------ ------- ----------------- ... ----------------- ----------\n",
      "   EXT 1187049 39627866882708805 ...         2.2358801          0\n",
      "   TFT 1187049 39627866882708805 ...         2.2358801          0\n",
      "pvtype  sga_id      targetid      ... Z_COG_PARAMS_CHI2 ELLIPSEBIT\n",
      "                                  ...                             \n",
      "------ ------- ------------------ ... ----------------- ----------\n",
      "   TFT 1199481  39632986332725833 ...        0.08661099          0\n",
      "   TFT 1199481 616093738636149321 ...        0.08661099          0\n",
      "pvtype  sga_id      targetid     ... Z_COG_PARAMS_CHI2 ELLIPSEBIT\n",
      "                                 ...                             \n",
      "------ ------- ----------------- ... ----------------- ----------\n",
      "   EXT 1199715 39627836570471989 ...         1.1371939          0\n",
      "   TFT 1199715 39627836570471989 ...         1.1371939          0\n",
      "pvtype  sga_id      targetid     ... Z_COG_PARAMS_CHI2 ELLIPSEBIT\n",
      "                                 ...                             \n",
      "------ ------- ----------------- ... ----------------- ----------\n",
      "   EXT 1249726 39628461970556335 ...         0.6096335          0\n",
      "   TFT 1249726 39628461970556335 ...         0.6096335          0\n",
      "pvtype  sga_id      targetid      ... Z_COG_PARAMS_CHI2 ELLIPSEBIT\n",
      "                                  ...                             \n",
      "------ ------- ------------------ ... ----------------- ----------\n",
      "   SGA 1258788  39633282643529487 ...         3.2594223          0\n",
      "   SGA  754176 616094034946949471 ...         3.2594223          0\n",
      "pvtype  sga_id      targetid      ... Z_COG_PARAMS_CHI2 ELLIPSEBIT\n",
      "                                  ...                             \n",
      "------ ------- ------------------ ... ----------------- ----------\n",
      "   TFT 1275384  39633267653084242 ...              -1.0          0\n",
      "   TFT 1275384 616094019956507730 ...              -1.0          0\n",
      "pvtype  sga_id      targetid     ... Z_COG_PARAMS_CHI2 ELLIPSEBIT\n",
      "                                 ...                             \n",
      "------ ------- ----------------- ... ----------------- ----------\n",
      "   EXT 1284618 39633220806902935 ...         0.6398867          0\n",
      "   TFT 1284618 39633220806902935 ...         0.6398867          0\n",
      "pvtype  sga_id      targetid     ... Z_COG_PARAMS_CHI2 ELLIPSEBIT\n",
      "                                 ...                             \n",
      "------ ------- ----------------- ... ----------------- ----------\n",
      "   EXT 1288606 39633304130945876 ...         185.24461          0\n",
      "   TFT 1288606 39633304130945876 ...         185.24461          0\n",
      "pvtype  sga_id      targetid      ... Z_COG_PARAMS_CHI2 ELLIPSEBIT\n",
      "                                  ...                             \n",
      "------ ------- ------------------ ... ----------------- ----------\n",
      "   TFT 1319289  39633446338822321 ...         5.2089515          0\n",
      "   TFT  957850 616094198642245811 ...         5.2089515          0\n",
      "pvtype  sga_id      targetid     ... Z_COG_PARAMS_CHI2 ELLIPSEBIT\n",
      "                                 ...                             \n",
      "------ ------- ----------------- ... ----------------- ----------\n",
      "   EXT 1333993 39627914957819959 ...          8.519369          0\n",
      "   TFT 1333993 39627914957819959 ...          8.519369          0\n",
      "pvtype  sga_id      targetid      ... Z_COG_PARAMS_CHI2 ELLIPSEBIT\n",
      "                                  ...                             \n",
      "------ ------- ------------------ ... ----------------- ----------\n",
      "   TFT 1348973  39633328768289164 ...       0.019119345          0\n",
      "   TFT 1184584 616094081071711019 ...       0.019119345          0\n",
      "pvtype  sga_id      targetid      ... Z_COG_PARAMS_CHI2 ELLIPSEBIT\n",
      "                                  ...                             \n",
      "------ ------- ------------------ ... ----------------- ----------\n",
      "   SGA 1299365 616088582947340407 ...        0.18153924          0\n",
      "   TFT 1361399  39627824604120635 ...        0.18153924          0\n",
      "pvtype  sga_id      targetid      ... Z_COG_PARAMS_CHI2 ELLIPSEBIT\n",
      "                                  ...                             \n",
      "------ ------- ------------------ ... ----------------- ----------\n",
      "   TFT  100987 616089185568162741 ...        0.30415627          0\n",
      "   TFT 1367749  39628433264742980 ...        0.30415627          0\n",
      "pvtype  sga_id      targetid      ... Z_COG_PARAMS_CHI2 ELLIPSEBIT\n",
      "                                  ...                             \n",
      "------ ------- ------------------ ... ----------------- ----------\n",
      "   TFT 1387126  39628422539903372 ...        0.09150089          0\n",
      "   SGA 1144434 616089174839133108 ...        0.09150089          0\n",
      "pvtype  sga_id      targetid     ... Z_COG_PARAMS_CHI2 ELLIPSEBIT\n",
      "                                 ...                             \n",
      "------ ------- ----------------- ... ----------------- ----------\n",
      "   EXT 1390984 39633039612971148 ...         53.058136          0\n",
      "   TFT 1390984 39633039612971148 ...         53.058136          0\n",
      "pvtype  sga_id      targetid      ... Z_COG_PARAMS_CHI2 ELLIPSEBIT\n",
      "                                  ...                             \n",
      "------ ------- ------------------ ... ----------------- ----------\n",
      "   TFT 1393079 616089212193604625 ...          3.152068          0\n",
      "   TFT 1393079  39628459890181137 ...          3.152068          0\n",
      "pvtype  sga_id      targetid     ... Z_COG_PARAMS_CHI2 ELLIPSEBIT\n",
      "                                 ...                             \n",
      "------ ------- ----------------- ... ----------------- ----------\n",
      "   EXT 1399679 39627639102640858 ...        0.65254074          0\n",
      "   TFT 1399679 39627639102640858 ...        0.65254074          0\n",
      "pvtype  sga_id      targetid     ... Z_COG_PARAMS_CHI2 ELLIPSEBIT\n",
      "                                 ...                             \n",
      "------ ------- ----------------- ... ----------------- ----------\n",
      "   EXT 1404377 39633314813841448 ...          13.63446          0\n",
      "   TFT 1404377 39633314813841448 ...          13.63446          0\n",
      "pvtype  sga_id      targetid      ... Z_COG_PARAMS_CHI2 ELLIPSEBIT\n",
      "                                  ...                             \n",
      "------ ------- ------------------ ... ----------------- ----------\n",
      "   TFT 1421164 616093738615177664 ...       0.020330558          0\n",
      "   TFT 1421164  39632986311754176 ...       0.020330558          0\n"
     ]
    }
   ],
   "source": [
    "# Select the IDs that match more than one row in our table.\n",
    "is_multiple_sga = id_counts > 1\n",
    "multiple_sga_ids = unique_ids[is_multiple_sga]\n",
    "for multiple_sga_id in multiple_sga_ids:\n",
    "    select = PV_matched['SGA_ID'] == multiple_sga_id\n",
    "    multiple_SGA = PV_matched[select]\n",
    "    print(multiple_SGA)"
   ]
  },
  {
   "cell_type": "markdown",
   "id": "9082da45-8b34-41ef-bb3b-9832b63a9267",
   "metadata": {},
   "source": [
    "## Eliminate non-SGA galaxies\n",
    "\n",
    "All the objects from the query should already be associated with an SGA object. This cuts out 94 targets. **Take a look at these targets to figure out if anything is going on here**"
   ]
  },
  {
   "cell_type": "code",
   "execution_count": 654,
   "id": "fb07a771-c988-4826-a404-9a6cecf9230a",
   "metadata": {},
   "outputs": [],
   "source": [
    "#sep_constraint = PV_matched['SKY_TARGET_DIST_SGA'] <= 0.5*SGA['D26'][PV_matched['IDX_SGA']]*u.arcmin\n",
    "#PV_SGA_observed = PV_matched[sep_constraint]"
   ]
  },
  {
   "cell_type": "code",
   "execution_count": 655,
   "id": "5bd61c20-59f0-4ec0-8150-5f1533b9fc3d",
   "metadata": {},
   "outputs": [
    {
     "data": {
      "image/png": "[encoded data removed]",
      "text/plain": [
       "<Figure size 432x288 with 1 Axes>"
      ]
     },
     "metadata": {
      "needs_background": "light"
     },
     "output_type": "display_data"
    }
   ],
   "source": [
    "plt.figure()\n",
    "\n",
    "plt.hist(PV_observed['SKY_TARGET_DIST_SGA'].data, bins=np.linspace(0, 1, 100))\n",
    "#plt.hist(PV_SGA_observed['SKY_TARGET_DIST_SGA'].data, bins=np.linspace(0,1,100))\n",
    "\n",
    "plt.yscale('log')\n",
    "\n",
    "plt.xlabel('On-sky distance [degrees]');"
   ]
  },
  {
   "cell_type": "markdown",
   "id": "804545fd-1066-4a9b-b906-14129be45246",
   "metadata": {},
   "source": [
    "## Define a function to evaluate arbitrary SGA ellipses\n",
    "\n",
    "The table is expected to be same as the previous one. However, 14 targets were cut out. **Look into these 14 targets.**\n",
    "\n",
    "Also, 2 of the targets do not fall within nearby SGA ellipses. **Look into these targets as well.**"
   ]
  },
  {
   "cell_type": "code",
   "execution_count": 657,
   "id": "956aa2b4-f9c2-44dd-ad92-1d46bc7631c8",
   "metadata": {},
   "outputs": [],
   "source": [
    "diameter = PV_matched['D26']\n",
    "PA = PV_matched['PA']*(np.pi/180)\n",
    "BA = PV_matched['BA']\n",
    "\n",
    "#replace center_ra and center_dec with center_coords, same for target ra and dec \n",
    "center_ra = (PV_matched['RA'])/(np.cos(PV_matched['DEC']*(np.pi/180)))\n",
    "center_dec = PV_matched['DEC']\n",
    "ra_observed = (PV_matched['target_ra'])/(np.cos(PV_matched['target_dec']*(np.pi/180)))\n",
    "dec_observed = PV_matched['target_dec']\n",
    "\n",
    "B = PV_matched['BA']*(0.5*diameter)\n",
    "A = B*(1/(PV_matched['BA']))"
   ]
  },
  {
   "cell_type": "code",
   "execution_count": 658,
   "id": "d77d3952-6775-4af3-a7d9-29611cbb234b",
   "metadata": {},
   "outputs": [],
   "source": [
    "#check astropy database (starting with website kelly sent) and google for how to define an ellipse on the sky\n",
    "#can offset carry over?\n",
    "C = ((ra_observed - center_ra)*np.cos(PA))+((dec_observed - center_dec)*np.sin(PA))\n",
    "D = ((dec_observed - center_dec)*np.cos(PA))-((ra_observed - center_ra)*np.sin(PA))\n",
    "ellipse = ((C**2)/(A**2)) + ((D**2)/(B**2))\n",
    "good_boolean = ellipse <= 1\n",
    "galaxy_targets = PV_matched[good_boolean]"
   ]
  },
  {
   "cell_type": "code",
   "execution_count": 659,
   "id": "3b975a23-c5ec-4333-bdf5-6bd2cac585ee",
   "metadata": {},
   "outputs": [
    {
     "data": {
      "text/plain": [
       "15367"
      ]
     },
     "execution_count": 659,
     "metadata": {},
     "output_type": "execute_result"
    }
   ],
   "source": [
    "len(galaxy_targets)"
   ]
  },
  {
   "cell_type": "code",
   "execution_count": 660,
   "id": "f3ac65eb-8774-46c0-bff8-27f64b62eb00",
   "metadata": {},
   "outputs": [],
   "source": [
    "#look at second nearest galaxy for cut galaxies\n",
    "\n",
    "idx, sep2d, dist3d = match_coordinates_sky(PV_coords[~good_boolean], SGA_coords, nthneighbor=2)\n",
    "\n",
    "PV_observed['IDX_SGA'][~good_boolean] = idx\n",
    "PV_observed['SKY_TARGET_DIST_SGA'][~good_boolean] = sep2d"
   ]
  },
  {
   "cell_type": "code",
   "execution_count": 661,
   "id": "34561bea-1037-4718-a434-6b4d92770425",
   "metadata": {},
   "outputs": [],
   "source": [
    "PV_matched = hstack([PV_observed, SGA[PV_observed['IDX_SGA']]])"
   ]
  },
  {
   "cell_type": "code",
   "execution_count": 662,
   "id": "47d40f3a-f978-42dc-9808-8918d1d3438b",
   "metadata": {},
   "outputs": [],
   "source": [
    "diameter = PV_matched['D26']\n",
    "PA = PV_matched['PA']*(np.pi/180)\n",
    "BA = PV_matched['BA']\n",
    "center_ra = (PV_matched['RA'])/(np.cos(PV_matched['DEC']*(np.pi/180)))\n",
    "center_dec = PV_matched['DEC']\n",
    "ra_observed = (PV_matched['target_ra'])/(np.cos(PV_matched['target_dec']*(np.pi/180)))\n",
    "dec_observed = PV_matched['target_dec']\n",
    "\n",
    "B = PV_matched['BA']*(0.5*diameter)\n",
    "A = B*(1/(PV_matched['BA']))"
   ]
  },
  {
   "cell_type": "code",
   "execution_count": 663,
   "id": "bea1c6ff-4b30-47bc-97ee-8f52a9dd23c1",
   "metadata": {},
   "outputs": [],
   "source": [
    "C = ((ra_observed - center_ra)*np.cos(PA))+((dec_observed - center_dec)*np.sin(PA))\n",
    "D = ((dec_observed - center_dec)*np.cos(PA))-((ra_observed - center_ra)*np.sin(PA))\n",
    "ellipse = ((C**2)/(A**2)) + ((D**2)/(B**2))\n",
    "good_boolean = ellipse <= 1\n",
    "galaxy_targets = PV_matched[good_boolean]"
   ]
  },
  {
   "cell_type": "code",
   "execution_count": 664,
   "id": "f4330ef7-3f53-4ed5-af1c-ed911801a015",
   "metadata": {},
   "outputs": [
    {
     "data": {
      "text/plain": [
       "15375"
      ]
     },
     "execution_count": 664,
     "metadata": {},
     "output_type": "execute_result"
    }
   ],
   "source": [
    "len(galaxy_targets)"
   ]
  },
  {
   "cell_type": "code",
   "execution_count": 665,
   "id": "6a39fda4-956a-4de9-a7f8-363cb272fd38",
   "metadata": {},
   "outputs": [],
   "source": [
    "#look at 3rd nearest neighbor \n",
    "idx, sep2d, dist3d = match_coordinates_sky(PV_coords[~good_boolean], SGA_coords, nthneighbor=3)\n",
    "\n",
    "PV_observed['IDX_SGA'][~good_boolean] = idx\n",
    "PV_observed['SKY_TARGET_DIST_SGA'][~good_boolean] = sep2d"
   ]
  },
  {
   "cell_type": "code",
   "execution_count": 666,
   "id": "8f78caa1-68af-47b7-85d7-95923c1f62c6",
   "metadata": {},
   "outputs": [],
   "source": [
    "PV_matched = hstack([PV_observed, SGA[PV_observed['IDX_SGA']]])"
   ]
  },
  {
   "cell_type": "code",
   "execution_count": 667,
   "id": "733b9a2f-659c-42b9-9212-fb96c45988ff",
   "metadata": {},
   "outputs": [],
   "source": [
    "diameter = PV_matched['D26']\n",
    "PA = PV_matched['PA']*(np.pi/180)\n",
    "BA = PV_matched['BA']\n",
    "center_ra = (PV_matched['RA'])/(np.cos(PV_matched['DEC']*(np.pi/180)))\n",
    "center_dec = PV_matched['DEC']\n",
    "ra_observed = (PV_matched['target_ra'])/(np.cos(PV_matched['target_dec']*(np.pi/180)))\n",
    "dec_observed = PV_matched['target_dec']\n",
    "\n",
    "B = PV_matched['BA']*(0.5*diameter)\n",
    "A = B*(1/(PV_matched['BA']))"
   ]
  },
  {
   "cell_type": "code",
   "execution_count": 668,
   "id": "0d42b819-4df9-4848-9322-4a542f502c09",
   "metadata": {},
   "outputs": [],
   "source": [
    "C = ((ra_observed - center_ra)*np.cos(PA))+((dec_observed - center_dec)*np.sin(PA))\n",
    "D = ((dec_observed - center_dec)*np.cos(PA))-((ra_observed - center_ra)*np.sin(PA))\n",
    "ellipse = ((C**2)/(A**2)) + ((D**2)/(B**2))\n",
    "good_boolean = ellipse <= 1\n",
    "galaxy_targets = PV_matched[good_boolean]"
   ]
  },
  {
   "cell_type": "code",
   "execution_count": 669,
   "id": "a5f2f5b9-8e5b-4db6-a599-0fec516689c4",
   "metadata": {},
   "outputs": [
    {
     "data": {
      "text/plain": [
       "15380"
      ]
     },
     "execution_count": 669,
     "metadata": {},
     "output_type": "execute_result"
    }
   ],
   "source": [
    "len(galaxy_targets)"
   ]
  },
  {
   "cell_type": "code",
   "execution_count": 670,
   "id": "9a54dc24-d2fc-434e-b15c-13b3add9dc32",
   "metadata": {},
   "outputs": [],
   "source": [
    "#look at 4th nearest neighbor\n",
    "idx, sep2d, dist3d = match_coordinates_sky(PV_coords[~good_boolean], SGA_coords, nthneighbor=4)\n",
    "\n",
    "PV_observed['IDX_SGA'][~good_boolean] = idx\n",
    "PV_observed['SKY_TARGET_DIST_SGA'][~good_boolean] = sep2d"
   ]
  },
  {
   "cell_type": "code",
   "execution_count": 671,
   "id": "326f541c-ca3e-4669-9bba-471d7e29dbdd",
   "metadata": {},
   "outputs": [],
   "source": [
    "PV_matched = hstack([PV_observed, SGA[PV_observed['IDX_SGA']]])"
   ]
  },
  {
   "cell_type": "code",
   "execution_count": 672,
   "id": "99e6b71d-9370-4649-a8a7-9b09031378a6",
   "metadata": {},
   "outputs": [
    {
     "data": {
      "text/plain": [
       "15405"
      ]
     },
     "execution_count": 672,
     "metadata": {},
     "output_type": "execute_result"
    }
   ],
   "source": [
    "len(PV_matched)"
   ]
  },
  {
   "cell_type": "code",
   "execution_count": 673,
   "id": "83e51ca4-0234-4a3a-83a7-fb5abd95903b",
   "metadata": {},
   "outputs": [],
   "source": [
    "diameter = PV_matched['D26']\n",
    "PA = PV_matched['PA']*(np.pi/180)\n",
    "BA = PV_matched['BA']\n",
    "center_ra = (PV_matched['RA'])/(np.cos(PV_matched['DEC']*(np.pi/180)))\n",
    "center_dec = PV_matched['DEC']\n",
    "ra_observed = (PV_matched['target_ra'])/(np.cos(PV_matched['target_dec']*(np.pi/180)))\n",
    "dec_observed = PV_matched['target_dec']\n",
    "\n",
    "B = PV_matched['BA']*(0.5*diameter)\n",
    "A = B*(1/(PV_matched['BA']))"
   ]
  },
  {
   "cell_type": "code",
   "execution_count": 674,
   "id": "12448c05-ef18-4596-8b78-1f37076baa3e",
   "metadata": {},
   "outputs": [],
   "source": [
    "C = ((ra_observed - center_ra)*np.cos(PA))+((dec_observed - center_dec)*np.sin(PA))\n",
    "D = ((dec_observed - center_dec)*np.cos(PA))-((ra_observed - center_ra)*np.sin(PA))\n",
    "ellipse = ((C**2)/(A**2)) + ((D**2)/(B**2))\n",
    "good_boolean = ellipse <= 1\n",
    "galaxy_targets = PV_matched[good_boolean]"
   ]
  },
  {
   "cell_type": "code",
   "execution_count": 675,
   "id": "23b9da28-e22c-45b9-a9c9-ed1e72b75fa8",
   "metadata": {},
   "outputs": [
    {
     "data": {
      "text/plain": [
       "15383"
      ]
     },
     "execution_count": 675,
     "metadata": {},
     "output_type": "execute_result"
    }
   ],
   "source": [
    "len(galaxy_targets)"
   ]
  },
  {
   "cell_type": "code",
   "execution_count": 676,
   "id": "89832406-1367-47a3-9052-5ae57ba0c667",
   "metadata": {},
   "outputs": [],
   "source": [
    "#look at 5th closest neighbor\n",
    "idx, sep2d, dist3d = match_coordinates_sky(PV_coords[~good_boolean], SGA_coords, nthneighbor=5)\n",
    "\n",
    "PV_observed['IDX_SGA'][~good_boolean] = idx\n",
    "PV_observed['SKY_TARGET_DIST_SGA'][~good_boolean] = sep2d"
   ]
  },
  {
   "cell_type": "code",
   "execution_count": 677,
   "id": "c1355536-d107-4d01-8ce7-d45d9141cdb8",
   "metadata": {},
   "outputs": [],
   "source": [
    "PV_matched = hstack([PV_observed, SGA[PV_observed['IDX_SGA']]])"
   ]
  },
  {
   "cell_type": "code",
   "execution_count": 679,
   "id": "23a22396-c3ce-4b87-9b30-246f5b5c8824",
   "metadata": {},
   "outputs": [],
   "source": [
    "diameter = PV_matched['D26']\n",
    "PA = PV_matched['PA']*(np.pi/180)\n",
    "BA = PV_matched['BA']\n",
    "center_ra = (PV_matched['RA'])/(np.cos(PV_matched['DEC']*(np.pi/180)))\n",
    "center_dec = PV_matched['DEC']\n",
    "ra_observed = (PV_matched['target_ra'])/(np.cos(PV_matched['target_dec']*(np.pi/180)))\n",
    "dec_observed = PV_matched['target_dec']\n",
    "\n",
    "B = PV_matched['BA']*(0.5*diameter)\n",
    "A = B*(1/(PV_matched['BA']))"
   ]
  },
  {
   "cell_type": "code",
   "execution_count": 680,
   "id": "4b220742-8226-48ec-9044-428c6ed4a7a9",
   "metadata": {},
   "outputs": [],
   "source": [
    "C = ((ra_observed - center_ra)*np.cos(PA))+((dec_observed - center_dec)*np.sin(PA))\n",
    "D = ((dec_observed - center_dec)*np.cos(PA))-((ra_observed - center_ra)*np.sin(PA))\n",
    "ellipse = ((C**2)/(A**2)) + ((D**2)/(B**2))\n",
    "good_boolean = ellipse <= 1\n",
    "galaxy_targets = PV_matched[good_boolean]"
   ]
  },
  {
   "cell_type": "code",
   "execution_count": 681,
   "id": "2975beb2-4587-439b-92d8-abd28d9d5a11",
   "metadata": {},
   "outputs": [
    {
     "data": {
      "text/plain": [
       "15384"
      ]
     },
     "execution_count": 681,
     "metadata": {},
     "output_type": "execute_result"
    }
   ],
   "source": [
    "len(galaxy_targets)"
   ]
  },
  {
   "cell_type": "code",
   "execution_count": 682,
   "id": "99c8e22c-7154-4cfe-b782-a0424458c169",
   "metadata": {},
   "outputs": [],
   "source": [
    "#look at 6th closest neighbor\n",
    "idx, sep2d, dist3d = match_coordinates_sky(PV_coords[~good_boolean], SGA_coords, nthneighbor=6)\n",
    "\n",
    "PV_observed['IDX_SGA'][~good_boolean] = idx\n",
    "PV_observed['SKY_TARGET_DIST_SGA'][~good_boolean] = sep2d"
   ]
  },
  {
   "cell_type": "code",
   "execution_count": 683,
   "id": "7ab1f125-7a45-4826-aeb1-9c5f41a5c720",
   "metadata": {},
   "outputs": [],
   "source": [
    "PV_matched = hstack([PV_observed, SGA[PV_observed['IDX_SGA']]])"
   ]
  },
  {
   "cell_type": "code",
   "execution_count": 684,
   "id": "29d466ca-f9a6-4b38-b4d5-2647bbeb4d16",
   "metadata": {},
   "outputs": [],
   "source": [
    "diameter = PV_matched['D26']\n",
    "PA = PV_matched['PA']*(np.pi/180)\n",
    "BA = PV_matched['BA']\n",
    "center_ra = (PV_matched['RA'])/(np.cos(PV_matched['DEC']*(np.pi/180)))\n",
    "center_dec = PV_matched['DEC']\n",
    "ra_observed = (PV_matched['target_ra'])/(np.cos(PV_matched['target_dec']*(np.pi/180)))\n",
    "dec_observed = PV_matched['target_dec']\n",
    "\n",
    "B = PV_matched['BA']*(0.5*diameter)\n",
    "A = B*(1/(PV_matched['BA']))"
   ]
  },
  {
   "cell_type": "code",
   "execution_count": 685,
   "id": "d24e2155-660c-49cb-9cd6-82682ebc6579",
   "metadata": {},
   "outputs": [],
   "source": [
    "C = ((ra_observed - center_ra)*np.cos(PA))+((dec_observed - center_dec)*np.sin(PA))\n",
    "D = ((dec_observed - center_dec)*np.cos(PA))-((ra_observed - center_ra)*np.sin(PA))\n",
    "ellipse = ((C**2)/(A**2)) + ((D**2)/(B**2))\n",
    "good_boolean = ellipse <= 1\n",
    "galaxy_targets = PV_matched[good_boolean]"
   ]
  },
  {
   "cell_type": "code",
   "execution_count": 686,
   "id": "608ffc16-2783-4271-b085-2005466b0847",
   "metadata": {},
   "outputs": [
    {
     "data": {
      "text/plain": [
       "15386"
      ]
     },
     "execution_count": 686,
     "metadata": {},
     "output_type": "execute_result"
    }
   ],
   "source": [
    "len(galaxy_targets)"
   ]
  },
  {
   "cell_type": "code",
   "execution_count": 687,
   "id": "8bdbc42a-f0e9-4e18-ba38-f4954352a0b1",
   "metadata": {},
   "outputs": [],
   "source": [
    "#look at 7th closest neighbor\n",
    "idx, sep2d, dist3d = match_coordinates_sky(PV_coords[~good_boolean], SGA_coords, nthneighbor=7)\n",
    "\n",
    "PV_observed['IDX_SGA'][~good_boolean] = idx\n",
    "PV_observed['SKY_TARGET_DIST_SGA'][~good_boolean] = sep2d"
   ]
  },
  {
   "cell_type": "code",
   "execution_count": 688,
   "id": "236f0947-ac27-4dd5-b6e1-5f64883acd43",
   "metadata": {},
   "outputs": [],
   "source": [
    "PV_matched = hstack([PV_observed, SGA[PV_observed['IDX_SGA']]])"
   ]
  },
  {
   "cell_type": "code",
   "execution_count": 690,
   "id": "041345b4-597f-4ff9-9fd1-186ab1bb643f",
   "metadata": {},
   "outputs": [],
   "source": [
    "diameter = PV_matched['D26']\n",
    "PA = PV_matched['PA']*(np.pi/180)\n",
    "BA = PV_matched['BA']\n",
    "center_ra = (PV_matched['RA'])/(np.cos(PV_matched['DEC']*(np.pi/180)))\n",
    "center_dec = PV_matched['DEC']\n",
    "ra_observed = (PV_matched['target_ra'])/(np.cos(PV_matched['target_dec']*(np.pi/180)))\n",
    "dec_observed = PV_matched['target_dec']\n",
    "\n",
    "B = PV_matched['BA']*(0.5*diameter)\n",
    "A = B*(1/(PV_matched['BA']))"
   ]
  },
  {
   "cell_type": "code",
   "execution_count": 691,
   "id": "8d6751cd-b2ff-43c2-8e5b-c601d51cc39b",
   "metadata": {},
   "outputs": [],
   "source": [
    "C = ((ra_observed - center_ra)*np.cos(PA))+((dec_observed - center_dec)*np.sin(PA))\n",
    "D = ((dec_observed - center_dec)*np.cos(PA))-((ra_observed - center_ra)*np.sin(PA))\n",
    "ellipse = ((C**2)/(A**2)) + ((D**2)/(B**2))\n",
    "good_boolean = ellipse <= 1\n",
    "galaxy_targets = PV_matched[good_boolean]"
   ]
  },
  {
   "cell_type": "code",
   "execution_count": 692,
   "id": "d0685066-1785-43f5-b270-08d5dfb0e4a3",
   "metadata": {},
   "outputs": [
    {
     "data": {
      "text/plain": [
       "15388"
      ]
     },
     "execution_count": 692,
     "metadata": {},
     "output_type": "execute_result"
    }
   ],
   "source": [
    "len(galaxy_targets)"
   ]
  },
  {
   "cell_type": "code",
   "execution_count": 693,
   "id": "a68ee09e-0634-4f3a-a722-2b51bb7732f7",
   "metadata": {},
   "outputs": [],
   "source": [
    "#look at 8th closest neighbor\n",
    "idx, sep2d, dist3d = match_coordinates_sky(PV_coords[~good_boolean], SGA_coords, nthneighbor=8)\n",
    "\n",
    "PV_observed['IDX_SGA'][~good_boolean] = idx\n",
    "PV_observed['SKY_TARGET_DIST_SGA'][~good_boolean] = sep2d"
   ]
  },
  {
   "cell_type": "code",
   "execution_count": 694,
   "id": "d5d17cbe-0d2a-4a22-a5d8-57518b5151ac",
   "metadata": {},
   "outputs": [],
   "source": [
    "PV_matched = hstack([PV_observed, SGA[PV_observed['IDX_SGA']]])"
   ]
  },
  {
   "cell_type": "code",
   "execution_count": 695,
   "id": "076630d6-bfb8-4325-86e1-258aeb64683e",
   "metadata": {},
   "outputs": [],
   "source": [
    "diameter = PV_matched['D26']\n",
    "PA = PV_matched['PA']*(np.pi/180)\n",
    "BA = PV_matched['BA']\n",
    "center_ra = (PV_matched['RA'])/(np.cos(PV_matched['DEC']*(np.pi/180)))\n",
    "center_dec = PV_matched['DEC']\n",
    "ra_observed = (PV_matched['target_ra'])/(np.cos(PV_matched['target_dec']*(np.pi/180)))\n",
    "dec_observed = PV_matched['target_dec']\n",
    "\n",
    "B = PV_matched['BA']*(0.5*diameter)\n",
    "A = B*(1/(PV_matched['BA']))"
   ]
  },
  {
   "cell_type": "code",
   "execution_count": 696,
   "id": "520888bb-8e0b-4f2e-bbd5-7c934f62c086",
   "metadata": {},
   "outputs": [],
   "source": [
    "C = ((ra_observed - center_ra)*np.cos(PA))+((dec_observed - center_dec)*np.sin(PA))\n",
    "D = ((dec_observed - center_dec)*np.cos(PA))-((ra_observed - center_ra)*np.sin(PA))\n",
    "ellipse = ((C**2)/(A**2)) + ((D**2)/(B**2))\n",
    "good_boolean = ellipse <= 1\n",
    "galaxy_targets = PV_matched[good_boolean]"
   ]
  },
  {
   "cell_type": "code",
   "execution_count": 697,
   "id": "90bde833-7350-4f39-b4f9-17f05708424c",
   "metadata": {},
   "outputs": [
    {
     "data": {
      "text/plain": [
       "15388"
      ]
     },
     "execution_count": 697,
     "metadata": {},
     "output_type": "execute_result"
    }
   ],
   "source": [
    "len(galaxy_targets)"
   ]
  },
  {
   "cell_type": "markdown",
   "id": "224dc733-4304-4245-a501-d6796354355e",
   "metadata": {},
   "source": [
    "## Identify the centers and on-axis observations "
   ]
  },
  {
   "cell_type": "code",
   "execution_count": 698,
   "id": "5606a891-fecb-4d1e-8c6d-a1bf4ed96b31",
   "metadata": {},
   "outputs": [],
   "source": [
    "distance_from_center = galaxy_targets['SKY_TARGET_DIST_SGA']\n",
    "SGA_radius = 0.5*galaxy_targets['D26']*u.arcsec"
   ]
  },
  {
   "cell_type": "code",
   "execution_count": 699,
   "id": "d1a37f54-9647-43c8-9256-966ce22ce430",
   "metadata": {},
   "outputs": [
    {
     "data": {
      "text/latex": [
       "[$0^\\circ02{}^\\prime03.0658{}^{\\prime\\prime}$\n",
       " $0^\\circ00{}^\\prime00{}^{\\prime\\prime}$\n",
       " $0^\\circ00{}^\\prime00{}^{\\prime\\prime}$ ...\n",
       " $0^\\circ00{}^\\prime00{}^{\\prime\\prime}$\n",
       " $0^\\circ00{}^\\prime00{}^{\\prime\\prime}$\n",
       " $0^\\circ00{}^\\prime00{}^{\\prime\\prime}$]"
      ],
      "text/plain": [
       "<Angle [3.41849330e-02, 4.49389075e-14, 4.18041415e-14, ...,\n",
       "        1.73689984e-13, 2.27224315e-13, 2.84046606e-13] deg>"
      ]
     },
     "execution_count": 699,
     "metadata": {},
     "output_type": "execute_result"
    }
   ],
   "source": [
    "distance_from_center"
   ]
  },
  {
   "cell_type": "code",
   "execution_count": 700,
   "id": "0479e93c-8f4f-45cf-9d2f-ab90faf4fafb",
   "metadata": {},
   "outputs": [],
   "source": [
    "center_check = distance_from_center.to(u.arcsec) <= 0.005*SGA_radius"
   ]
  },
  {
   "cell_type": "code",
   "execution_count": 701,
   "id": "987b5ca3-9383-4af6-b4bc-3d74bf27bd68",
   "metadata": {},
   "outputs": [],
   "source": [
    "centers = galaxy_targets[center_check]"
   ]
  },
  {
   "cell_type": "code",
   "execution_count": 702,
   "id": "ac0de80a-97b7-4741-8778-cb345e5b4ae6",
   "metadata": {},
   "outputs": [
    {
     "data": {
      "text/html": [
       "<i>QTable length=15308</i>\n",
       "<table id=\"table46913402381024\" class=\"table-striped table-bordered table-condensed\">\n",
       "<thead><tr><th>pvtype</th><th>sga_id</th><th>targetid</th><th>target_ra</th><th>target_dec</th><th>z</th><th>spectype</th><th>deltachi2</th><th>zwarn</th><th>expid</th><th>yyyymmdd</th><th>IDX_SGA</th><th>SKY_TARGET_DIST_SGA</th><th>SGA_ID</th><th>SGA_GALAXY</th><th>GALAXY</th><th>PGC</th><th>RA_LEDA</th><th>DEC_LEDA</th><th>MORPHTYPE</th><th>PA_LEDA</th><th>D25_LEDA</th><th>BA_LEDA</th><th>Z_LEDA</th><th>SB_D25_LEDA</th><th>MAG_LEDA</th><th>BYHAND</th><th>REF</th><th>GROUP_ID</th><th>GROUP_NAME</th><th>GROUP_MULT</th><th>GROUP_PRIMARY</th><th>GROUP_RA</th><th>GROUP_DEC</th><th>GROUP_DIAMETER</th><th>BRICKNAME</th><th>RA</th><th>DEC</th><th>D26</th><th>D26_REF</th><th>PA</th><th>BA</th><th>RA_MOMENT</th><th>DEC_MOMENT</th><th>SMA_MOMENT</th><th>G_SMA50</th><th>R_SMA50</th><th>Z_SMA50</th><th>SMA_SB22</th><th>SMA_SB22.5</th><th>SMA_SB23</th><th>SMA_SB23.5</th><th>SMA_SB24</th><th>SMA_SB24.5</th><th>SMA_SB25</th><th>SMA_SB25.5</th><th>SMA_SB26</th><th>G_MAG_SB22</th><th>R_MAG_SB22</th><th>Z_MAG_SB22</th><th>G_MAG_SB22.5</th><th>R_MAG_SB22.5</th><th>Z_MAG_SB22.5</th><th>G_MAG_SB23</th><th>R_MAG_SB23</th><th>Z_MAG_SB23</th><th>G_MAG_SB23.5</th><th>R_MAG_SB23.5</th><th>Z_MAG_SB23.5</th><th>G_MAG_SB24</th><th>R_MAG_SB24</th><th>Z_MAG_SB24</th><th>G_MAG_SB24.5</th><th>R_MAG_SB24.5</th><th>Z_MAG_SB24.5</th><th>G_MAG_SB25</th><th>R_MAG_SB25</th><th>Z_MAG_SB25</th><th>G_MAG_SB25.5</th><th>R_MAG_SB25.5</th><th>Z_MAG_SB25.5</th><th>G_MAG_SB26</th><th>R_MAG_SB26</th><th>Z_MAG_SB26</th><th>SMA_SB22_ERR</th><th>SMA_SB22.5_ERR</th><th>SMA_SB23_ERR</th><th>SMA_SB23.5_ERR</th><th>SMA_SB24_ERR</th><th>SMA_SB24.5_ERR</th><th>SMA_SB25_ERR</th><th>SMA_SB25.5_ERR</th><th>SMA_SB26_ERR</th><th>G_MAG_SB22_ERR</th><th>R_MAG_SB22_ERR</th><th>Z_MAG_SB22_ERR</th><th>G_MAG_SB22.5_ERR</th><th>R_MAG_SB22.5_ERR</th><th>Z_MAG_SB22.5_ERR</th><th>G_MAG_SB23_ERR</th><th>R_MAG_SB23_ERR</th><th>Z_MAG_SB23_ERR</th><th>G_MAG_SB23.5_ERR</th><th>R_MAG_SB23.5_ERR</th><th>Z_MAG_SB23.5_ERR</th><th>G_MAG_SB24_ERR</th><th>R_MAG_SB24_ERR</th><th>Z_MAG_SB24_ERR</th><th>G_MAG_SB24.5_ERR</th><th>R_MAG_SB24.5_ERR</th><th>Z_MAG_SB24.5_ERR</th><th>G_MAG_SB25_ERR</th><th>R_MAG_SB25_ERR</th><th>Z_MAG_SB25_ERR</th><th>G_MAG_SB25.5_ERR</th><th>R_MAG_SB25.5_ERR</th><th>Z_MAG_SB25.5_ERR</th><th>G_MAG_SB26_ERR</th><th>R_MAG_SB26_ERR</th><th>Z_MAG_SB26_ERR</th><th>G_COG_PARAMS_MTOT</th><th>G_COG_PARAMS_M0</th><th>G_COG_PARAMS_ALPHA1</th><th>G_COG_PARAMS_ALPHA2</th><th>G_COG_PARAMS_CHI2</th><th>R_COG_PARAMS_MTOT</th><th>R_COG_PARAMS_M0</th><th>R_COG_PARAMS_ALPHA1</th><th>R_COG_PARAMS_ALPHA2</th><th>R_COG_PARAMS_CHI2</th><th>Z_COG_PARAMS_MTOT</th><th>Z_COG_PARAMS_M0</th><th>Z_COG_PARAMS_ALPHA1</th><th>Z_COG_PARAMS_ALPHA2</th><th>Z_COG_PARAMS_CHI2</th><th>ELLIPSEBIT</th></tr></thead>\n",
       "<thead><tr><th></th><th></th><th></th><th></th><th></th><th></th><th></th><th></th><th></th><th></th><th></th><th></th><th>deg</th><th></th><th></th><th></th><th></th><th></th><th></th><th></th><th></th><th></th><th></th><th></th><th></th><th></th><th></th><th></th><th></th><th></th><th></th><th></th><th></th><th></th><th></th><th></th><th></th><th></th><th></th><th></th><th></th><th></th><th></th><th></th><th></th><th></th><th></th><th></th><th></th><th></th><th></th><th></th><th></th><th></th><th></th><th></th><th></th><th></th><th></th><th></th><th></th><th></th><th></th><th></th><th></th><th></th><th></th><th></th><th></th><th></th><th></th><th></th><th></th><th></th><th></th><th></th><th></th><th></th><th></th><th></th><th></th><th></th><th></th><th></th><th></th><th></th><th></th><th></th><th></th><th></th><th></th><th></th><th></th><th></th><th></th><th></th><th></th><th></th><th></th><th></th><th></th><th></th><th></th><th></th><th></th><th></th><th></th><th></th><th></th><th></th><th></th><th></th><th></th><th></th><th></th><th></th><th></th><th></th><th></th><th></th><th></th><th></th><th></th><th></th><th></th><th></th><th></th><th></th><th></th><th></th><th></th><th></th><th></th><th></th><th></th><th></th></tr></thead>\n",
       "<thead><tr><th>str3</th><th>int64</th><th>int64</th><th>float64</th><th>float64</th><th>float64</th><th>str6</th><th>float64</th><th>int64</th><th>int64</th><th>int64</th><th>int64</th><th>float64</th><th>int64</th><th>str16</th><th>str29</th><th>int64</th><th>float64</th><th>float64</th><th>str21</th><th>float32</th><th>float32</th><th>float32</th><th>float32</th><th>float32</th><th>float32</th><th>bool</th><th>str13</th><th>int64</th><th>str35</th><th>int16</th><th>bool</th><th>float64</th><th>float64</th><th>float32</th><th>str8</th><th>float64</th><th>float64</th><th>float32</th><th>str4</th><th>float32</th><th>float32</th><th>float64</th><th>float64</th><th>float32</th><th>float32</th><th>float32</th><th>float32</th><th>float32</th><th>float32</th><th>float32</th><th>float32</th><th>float32</th><th>float32</th><th>float32</th><th>float32</th><th>float32</th><th>float32</th><th>float32</th><th>float32</th><th>float32</th><th>float32</th><th>float32</th><th>float32</th><th>float32</th><th>float32</th><th>float32</th><th>float32</th><th>float32</th><th>float32</th><th>float32</th><th>float32</th><th>float32</th><th>float32</th><th>float32</th><th>float32</th><th>float32</th><th>float32</th><th>float32</th><th>float32</th><th>float32</th><th>float32</th><th>float32</th><th>float32</th><th>float32</th><th>float32</th><th>float32</th><th>float32</th><th>float32</th><th>float32</th><th>float32</th><th>float32</th><th>float32</th><th>float32</th><th>float32</th><th>float32</th><th>float32</th><th>float32</th><th>float32</th><th>float32</th><th>float32</th><th>float32</th><th>float32</th><th>float32</th><th>float32</th><th>float32</th><th>float32</th><th>float32</th><th>float32</th><th>float32</th><th>float32</th><th>float32</th><th>float32</th><th>float32</th><th>float32</th><th>float32</th><th>float32</th><th>float32</th><th>float32</th><th>float32</th><th>float32</th><th>float32</th><th>float32</th><th>float32</th><th>float32</th><th>float32</th><th>float32</th><th>float32</th><th>float32</th><th>float32</th><th>float32</th><th>float32</th><th>float32</th><th>float32</th><th>float32</th><th>int32</th></tr></thead>\n",
       "<tr><td>SGA</td><td>227887</td><td>39628509848540752</td><td>34.8173069688145</td><td>31.3984950009448</td><td>0.0102383463580575</td><td>GALAXY</td><td>332559.754650116</td><td>0</td><td>69412</td><td>20201222</td><td>60758</td><td>4.493890748991992e-14</td><td>227887</td><td>SGA-2020 227887</td><td>PGC008852</td><td>8852</td><td>34.817458499999994</td><td>31.3985278</td><td>Sc</td><td>47.0</td><td>0.64565426</td><td>0.50699073</td><td>0.010257095</td><td>23.34948</td><td>15.671</td><td>False</td><td>LEDA-20181114</td><td>80819</td><td>PGC008852</td><td>1</td><td>True</td><td>34.817458499999994</td><td>31.3985278</td><td>0.64565426</td><td>0346p315</td><td>34.817306968814506</td><td>31.398495000944845</td><td>1.2628791</td><td>SB26</td><td>46.69509</td><td>0.44351774</td><td>34.817144987779656</td><td>31.39853435338646</td><td>27.821953</td><td>7.5643625</td><td>7.751205</td><td>8.018863</td><td>11.525722</td><td>14.140119</td><td>17.078676</td><td>20.250322</td><td>23.686016</td><td>27.286552</td><td>30.939543</td><td>34.54722</td><td>37.886375</td><td>15.656424</td><td>14.952178</td><td>14.416003</td><td>15.541749</td><td>14.834224</td><td>14.296817</td><td>15.452583</td><td>14.743252</td><td>14.206147</td><td>15.386299</td><td>14.674229</td><td>14.137649</td><td>15.334078</td><td>14.620995</td><td>14.084178</td><td>15.295982</td><td>14.582026</td><td>14.045881</td><td>15.268926</td><td>14.553481</td><td>14.018</td><td>15.249975</td><td>14.534507</td><td>13.997845</td><td>15.23794</td><td>14.522351</td><td>13.984281</td><td>0.037277393</td><td>0.061759222</td><td>0.063091725</td><td>0.10513751</td><td>0.068378456</td><td>0.08847286</td><td>0.11017215</td><td>0.1338445</td><td>0.14169279</td><td>0.013537007</td><td>0.01256346</td><td>0.011847482</td><td>0.012311069</td><td>0.011419123</td><td>0.010781854</td><td>0.011420003</td><td>0.010592375</td><td>0.010021184</td><td>0.010789593</td><td>0.009995378</td><td>0.009472868</td><td>0.010305492</td><td>0.009542425</td><td>0.009043296</td><td>0.009962468</td><td>0.009220267</td><td>0.008747978</td><td>0.009723591</td><td>0.00898864</td><td>0.008536672</td><td>0.009562214</td><td>0.0088409325</td><td>0.0083939945</td><td>0.009455562</td><td>0.008740836</td><td>0.008286787</td><td>15.174497</td><td>0.33196753</td><td>4.533237</td><td>2.3149405</td><td>0.042795654</td><td>14.458597</td><td>0.3292352</td><td>4.8471136</td><td>2.3561754</td><td>0.060645</td><td>13.909542</td><td>0.42334005</td><td>3.0998147</td><td>2.0889223</td><td>0.03310028</td><td>0</td></tr>\n",
       "<tr><td>SGA</td><td>249627</td><td>39628473387452348</td><td>36.6378025591632</td><td>29.8305673331864</td><td>0.0349532879812339</td><td>GALAXY</td><td>33952.1068879628</td><td>0</td><td>69412</td><td>20201222</td><td>66332</td><td>4.180414146836405e-14</td><td>249627</td><td>SGA-2020 249627</td><td>UGC01903</td><td>9286</td><td>36.63761699999999</td><td>29.8306886</td><td>SABb</td><td>74.75</td><td>1.1271975</td><td>0.20701413</td><td>0.0349355</td><td>24.527481</td><td>15.639</td><td>False</td><td>LEDA-20181114</td><td>90403</td><td>UGC01903</td><td>1</td><td>True</td><td>36.63761699999999</td><td>29.8306886</td><td>1.1271975</td><td>0366p297</td><td>36.637802559163205</td><td>29.830567333186355</td><td>2.0154</td><td>SB26</td><td>73.69912</td><td>0.20811063</td><td>36.637614713603384</td><td>29.830624327417627</td><td>39.71472</td><td>18.459566</td><td>15.894213</td><td>15.464314</td><td>22.580238</td><td>26.383305</td><td>30.796055</td><td>34.723305</td><td>39.74078</td><td>44.593624</td><td>49.255867</td><td>54.815823</td><td>60.461998</td><td>15.435341</td><td>14.418517</td><td>13.576337</td><td>15.298835</td><td>14.30672</td><td>13.461613</td><td>15.205365</td><td>14.24215</td><td>13.4115</td><td>15.156233</td><td>14.204546</td><td>13.377312</td><td>15.104122</td><td>14.164709</td><td>13.343121</td><td>15.058125</td><td>14.136047</td><td>13.318259</td><td>15.031913</td><td>14.113577</td><td>13.303595</td><td>15.014407</td><td>14.100645</td><td>13.292462</td><td>15.001245</td><td>14.093693</td><td>13.284567</td><td>0.16789526</td><td>0.19915031</td><td>0.31620976</td><td>0.3071703</td><td>0.24520358</td><td>0.3690512</td><td>0.28080633</td><td>0.36711508</td><td>0.36422694</td><td>0.023853498</td><td>0.025702067</td><td>0.026394201</td><td>0.022089047</td><td>0.023966009</td><td>0.02450541</td><td>0.02079718</td><td>0.022846961</td><td>0.023560781</td><td>0.02006506</td><td>0.022179758</td><td>0.022928162</td><td>0.019272951</td><td>0.021477534</td><td>0.02227722</td><td>0.018605893</td><td>0.020970525</td><td>0.021828428</td><td>0.018206228</td><td>0.02057745</td><td>0.021538362</td><td>0.0179393</td><td>0.020346312</td><td>0.021328282</td><td>0.017741907</td><td>0.02021515</td><td>0.021191534</td><td>14.9103775</td><td>3623.65</td><td>0.0006310831</td><td>1.8129188</td><td>0.47991797</td><td>14.036099</td><td>6216.614</td><td>0.00029992405</td><td>1.9578168</td><td>0.3139769</td><td>13.2507515</td><td>9516.363</td><td>0.00021222723</td><td>2.2643197</td><td>0.4841751</td><td>0</td></tr>\n",
       "<tr><td>SGA</td><td>581116</td><td>39628499509579686</td><td>36.0846931600021</td><td>30.9513934451943</td><td>0.046449435766605</td><td>GALAXY</td><td>53137.0094233155</td><td>0</td><td>69412</td><td>20201222</td><td>154261</td><td>3.063376994371314e-14</td><td>581116</td><td>SGA-2020 581116</td><td>PGC1925122</td><td>1925122</td><td>36.0845415</td><td>30.951388899999998</td><td></td><td>104.0</td><td>0.4365158</td><td>0.38904515</td><td>-99.0</td><td>23.988482</td><td>17.16</td><td>False</td><td>LEDA-20181114</td><td>210213</td><td>PGC1925122</td><td>1</td><td>True</td><td>36.0845415</td><td>30.951388899999998</td><td>0.4365158</td><td>0359p310</td><td>36.08469316000213</td><td>30.951393445194295</td><td>1.1142534</td><td>SB26</td><td>105.92478</td><td>0.39040238</td><td>36.08457184466423</td><td>30.951478119559912</td><td>19.96518</td><td>10.39661</td><td>10.188027</td><td>9.175853</td><td>8.357429</td><td>10.614475</td><td>13.027295</td><td>15.8777895</td><td>18.721878</td><td>22.120554</td><td>26.127184</td><td>30.371841</td><td>33.4276</td><td>17.08463</td><td>16.142862</td><td>15.439649</td><td>16.8634</td><td>15.941626</td><td>15.248137</td><td>16.694616</td><td>15.785261</td><td>15.098101</td><td>16.563372</td><td>15.689782</td><td>15.000622</td><td>16.484594</td><td>15.621796</td><td>14.939558</td><td>16.409296</td><td>15.559123</td><td>14.877472</td><td>16.347609</td><td>15.494113</td><td>14.828316</td><td>16.301975</td><td>15.454205</td><td>14.792311</td><td>16.281769</td><td>15.435076</td><td>14.772943</td><td>0.12997533</td><td>0.12433272</td><td>0.16338037</td><td>0.19967407</td><td>0.26121473</td><td>0.25177068</td><td>0.2513934</td><td>0.22113411</td><td>0.2663521</td><td>0.03436164</td><td>0.04100928</td><td>0.041381232</td><td>0.030702285</td><td>0.0362866</td><td>0.036703013</td><td>0.02819163</td><td>0.032882042</td><td>0.033253014</td><td>0.025948951</td><td>0.030614173</td><td>0.03088922</td><td>0.0244392</td><td>0.028965818</td><td>0.029362198</td><td>0.023008518</td><td>0.027435387</td><td>0.027844796</td><td>0.02186638</td><td>0.025980085</td><td>0.026691766</td><td>0.021032674</td><td>0.025087923</td><td>0.02586276</td><td>0.020666348</td><td>0.024666877</td><td>0.025425777</td><td>16.124033</td><td>1.2134331</td><td>0.91332835</td><td>1.5675838</td><td>0.11997884</td><td>15.216014</td><td>14016.68</td><td>5.4744865e-05</td><td>1.041656</td><td>0.34670213</td><td>14.603585</td><td>957.04736</td><td>0.0007123867</td><td>1.1530718</td><td>0.15311071</td><td>0</td></tr>\n",
       "<tr><td>SGA</td><td>879849</td><td>39628478600971508</td><td>34.0579702049385</td><td>30.0920453747291</td><td>0.0445682338630569</td><td>GALAXY</td><td>33245.3577982187</td><td>0</td><td>69412</td><td>20201222</td><td>233054</td><td>2.479589094261607e-14</td><td>879849</td><td>SGA-2020 879849</td><td>PGC1889941</td><td>1889941</td><td>34.057917</td><td>30.0920278</td><td></td><td>74.0</td><td>0.5011872</td><td>0.67608297</td><td>-99.0</td><td>23.808481</td><td>16.68</td><td>False</td><td>LEDA-20181114</td><td>322531</td><td>PGC1889941</td><td>1</td><td>True</td><td>34.057917</td><td>30.0920278</td><td>0.5011872</td><td>0341p300</td><td>34.05797020493853</td><td>30.092045374729096</td><td>0.6100243</td><td>SB26</td><td>71.66348</td><td>0.7986246</td><td>34.05775333631393</td><td>30.09217613590016</td><td>15.387338</td><td>5.976684</td><td>5.797715</td><td>5.777591</td><td>5.799027</td><td>7.6336207</td><td>9.498986</td><td>11.296248</td><td>12.815193</td><td>14.117011</td><td>15.336266</td><td>16.633135</td><td>18.300728</td><td>17.171942</td><td>16.343346</td><td>15.717138</td><td>16.879988</td><td>16.06385</td><td>15.447549</td><td>16.705853</td><td>15.8941555</td><td>15.278</td><td>16.588625</td><td>15.776125</td><td>15.162615</td><td>16.518248</td><td>15.705863</td><td>15.094894</td><td>16.47781</td><td>15.666295</td><td>15.055149</td><td>16.452383</td><td>15.643094</td><td>15.029789</td><td>16.43641</td><td>15.628623</td><td>15.013322</td><td>16.42456</td><td>15.616768</td><td>15.000935</td><td>0.011348523</td><td>0.016421767</td><td>0.022007838</td><td>0.034005526</td><td>0.030842144</td><td>0.034625705</td><td>0.05440476</td><td>0.09680807</td><td>0.13313515</td><td>0.015224855</td><td>0.017227402</td><td>0.015694179</td><td>0.011816893</td><td>0.013452887</td><td>0.012321403</td><td>0.0101435585</td><td>0.011558937</td><td>0.010610436</td><td>0.009140686</td><td>0.01042164</td><td>0.009595323</td><td>0.008608868</td><td>0.009789276</td><td>0.009045858</td><td>0.008292269</td><td>0.009451777</td><td>0.008721108</td><td>0.0081228</td><td>0.009257656</td><td>0.008536508</td><td>0.007997767</td><td>0.009143292</td><td>0.00840418</td><td>0.007917462</td><td>0.009050803</td><td>0.008315154</td><td>16.382519</td><td>0.2706682</td><td>1.8169632</td><td>4.117292</td><td>2.0340507</td><td>15.58516</td><td>0.21714453</td><td>2.4018252</td><td>4.6921725</td><td>1.5013297</td><td>14.963962</td><td>0.22879267</td><td>2.302482</td><td>4.4064174</td><td>1.0173686</td><td>0</td></tr>\n",
       "<tr><td>SGA</td><td>1215253</td><td>39628494279282283</td><td>33.8598111259499</td><td>30.8583242268397</td><td>0.054035597680716</td><td>GALAXY</td><td>11625.5793859102</td><td>0</td><td>69213</td><td>20201222</td><td>322429</td><td>4.2696992795719315e-14</td><td>1215253</td><td>SGA-2020 1215253</td><td>PGC1921030</td><td>1921030</td><td>33.8596245</td><td>30.8582222</td><td></td><td>129.5</td><td>0.58884364</td><td>0.4466836</td><td>-99.0</td><td>24.308481</td><td>16.83</td><td>False</td><td>LEDA-20181114</td><td>444343</td><td>PGC1921030</td><td>1</td><td>True</td><td>33.8596245</td><td>30.8582222</td><td>0.58884364</td><td>0338p307</td><td>33.859811125949854</td><td>30.858324226839702</td><td>0.9728663</td><td>SB26</td><td>128.78351</td><td>0.4891438</td><td>33.85968182413239</td><td>30.858408843947522</td><td>22.027914</td><td>8.506503</td><td>7.265577</td><td>6.761458</td><td>7.289067</td><td>9.092775</td><td>11.128105</td><td>13.379043</td><td>15.835748</td><td>18.80586</td><td>21.915518</td><td>25.509615</td><td>29.18599</td><td>17.156244</td><td>16.094114</td><td>15.309796</td><td>16.981838</td><td>15.932376</td><td>15.159514</td><td>16.849232</td><td>15.810258</td><td>15.045954</td><td>16.748676</td><td>15.718914</td><td>14.958348</td><td>16.67097</td><td>15.645802</td><td>14.88956</td><td>16.605131</td><td>15.587874</td><td>14.835343</td><td>16.552149</td><td>15.545281</td><td>14.796503</td><td>16.509386</td><td>15.507962</td><td>14.761386</td><td>16.478739</td><td>15.481011</td><td>14.735141</td><td>0.044407565</td><td>0.05426274</td><td>0.08497285</td><td>0.08248171</td><td>0.109320834</td><td>0.12145112</td><td>0.12941156</td><td>0.14189713</td><td>0.16434702</td><td>0.019606369</td><td>0.020157315</td><td>0.02183751</td><td>0.01758488</td><td>0.018100252</td><td>0.019623913</td><td>0.016040348</td><td>0.016570037</td><td>0.01801691</td><td>0.014891138</td><td>0.015455697</td><td>0.016834686</td><td>0.013999526</td><td>0.014580798</td><td>0.015904825</td><td>0.013270778</td><td>0.013895114</td><td>0.015193963</td><td>0.012685245</td><td>0.013391977</td><td>0.014684434</td><td>0.0122275045</td><td>0.012962516</td><td>0.014238747</td><td>0.01191086</td><td>0.012660369</td><td>0.013913533</td><td>16.278444</td><td>2.401637</td><td>0.30437988</td><td>1.1736403</td><td>0.031140067</td><td>15.344091</td><td>1.2766639</td><td>0.5122193</td><td>1.4077172</td><td>0.024471447</td><td>14.614423</td><td>0.98475236</td><td>0.64247954</td><td>1.4817109</td><td>0.04159405</td><td>0</td></tr>\n",
       "<tr><td>SGA</td><td>1329026</td><td>39628478600971529</td><td>34.0593021182507</td><td>30.1224101637649</td><td>0.0296421307118722</td><td>GALAXY</td><td>57099.7675513407</td><td>0</td><td>69412</td><td>20201222</td><td>352378</td><td>1.1349676143232235e-14</td><td>1329026</td><td>SGA-2020 1329026</td><td>PGC1891135</td><td>1891135</td><td>34.0592085</td><td>30.122305600000004</td><td></td><td>55.5</td><td>0.40738028</td><td>0.7943282</td><td>-99.0</td><td>23.55848</td><td>16.88</td><td>False</td><td>LEDA-20181114</td><td>487912</td><td>PGC1891135</td><td>1</td><td>True</td><td>34.0592085</td><td>30.122305600000004</td><td>0.40738028</td><td>0341p300</td><td>34.05930211825069</td><td>30.12241016376491</td><td>0.6485387</td><td>SB26</td><td>46.508175</td><td>0.75625324</td><td>34.05923416493063</td><td>30.122495654126638</td><td>18.621662</td><td>5.509475</td><td>5.0126085</td><td>4.6212378</td><td>5.5334053</td><td>7.474253</td><td>9.783051</td><td>12.227747</td><td>14.215493</td><td>15.79486</td><td>17.10835</td><td>18.28648</td><td>19.456161</td><td>17.004326</td><td>16.079952</td><td>15.376163</td><td>16.804955</td><td>15.893381</td><td>15.199718</td><td>16.608578</td><td>15.715784</td><td>15.035614</td><td>16.44819</td><td>15.572028</td><td>14.902599</td><td>16.361935</td><td>15.494582</td><td>14.830095</td><td>16.31597</td><td>15.451809</td><td>14.791045</td><td>16.292246</td><td>15.42963</td><td>14.769763</td><td>16.279177</td><td>15.41651</td><td>14.757008</td><td>16.271477</td><td>15.40818</td><td>14.748868</td><td>0.008562117</td><td>0.011253227</td><td>0.016833989</td><td>0.020771116</td><td>0.029823383</td><td>0.031743757</td><td>0.05268097</td><td>0.07152624</td><td>0.09657285</td><td>0.012317168</td><td>0.012298843</td><td>0.013040128</td><td>0.010268982</td><td>0.010361868</td><td>0.011093034</td><td>0.008602187</td><td>0.008837238</td><td>0.009560594</td><td>0.0074366583</td><td>0.007743903</td><td>0.008460983</td><td>0.0068806303</td><td>0.0072200713</td><td>0.007921002</td><td>0.006601829</td><td>0.0069477013</td><td>0.0076452945</td><td>0.0064706514</td><td>0.0068266257</td><td>0.0075085945</td><td>0.006397981</td><td>0.0067496626</td><td>0.007423755</td><td>0.00635086</td><td>0.0066884593</td><td>0.0073627736</td><td>16.262327</td><td>0.0750701</td><td>78.28818</td><td>9.502388</td><td>1.3633296</td><td>15.396305</td><td>0.07620403</td><td>52.893303</td><td>8.553744</td><td>0.5802836</td><td>14.736215</td><td>0.07431541</td><td>45.155277</td><td>8.182975</td><td>0.27428445</td><td>0</td></tr>\n",
       "<tr><td>TFT</td><td>161400</td><td>39628462826195756</td><td>35.3790466101176</td><td>29.23051056593</td><td>0.0589073438874499</td><td>GALAXY</td><td>12976.2707899213</td><td>0</td><td>69412</td><td>20201222</td><td>42801</td><td>3.1519050718306134e-14</td><td>161400</td><td>SGA-2020 161400</td><td>PGC1859795</td><td>1859795</td><td>35.379024173792466</td><td>29.230497252099855</td><td></td><td>99.0</td><td>0.58884364</td><td>0.29512095</td><td>-99.0</td><td>24.228481</td><td>16.75</td><td>True</td><td>LEDA-20181114</td><td>57950</td><td>PGC1859795</td><td>1</td><td>True</td><td>35.379024173792466</td><td>29.230497252099855</td><td>0.58884364</td><td>0353p292</td><td>35.37904661011758</td><td>29.230510565930025</td><td>1.1193099</td><td>SB26</td><td>98.88826</td><td>0.24518043</td><td>35.378896750048156</td><td>29.230566986475228</td><td>20.80035</td><td>11.291476</td><td>10.551578</td><td>10.672568</td><td>13.529998</td><td>16.57397</td><td>19.092297</td><td>21.106201</td><td>23.08965</td><td>25.290466</td><td>27.559881</td><td>30.345148</td><td>33.579296</td><td>16.858793</td><td>15.760464</td><td>14.909785</td><td>16.654991</td><td>15.560669</td><td>14.707482</td><td>16.526762</td><td>15.450021</td><td>14.599624</td><td>16.44369</td><td>15.386115</td><td>14.54585</td><td>16.368418</td><td>15.353137</td><td>14.511536</td><td>16.331879</td><td>15.334038</td><td>14.491137</td><td>16.311619</td><td>15.3160305</td><td>14.480323</td><td>16.295599</td><td>15.303606</td><td>14.467872</td><td>16.285048</td><td>15.294462</td><td>14.452511</td><td>0.1642446</td><td>0.20325178</td><td>0.2354467</td><td>0.16516869</td><td>0.27279028</td><td>0.15694171</td><td>0.22463627</td><td>0.22157656</td><td>0.2616988</td><td>0.032572266</td><td>0.035544243</td><td>0.03473238</td><td>0.029644841</td><td>0.032185063</td><td>0.031534243</td><td>0.027786573</td><td>0.030277941</td><td>0.029760899</td><td>0.026607864</td><td>0.029147405</td><td>0.028796688</td><td>0.025560834</td><td>0.028480753</td><td>0.028136846</td><td>0.024966395</td><td>0.02806323</td><td>0.027692946</td><td>0.024599768</td><td>0.027668947</td><td>0.027397877</td><td>0.024288101</td><td>0.027382871</td><td>0.027113393</td><td>0.024077095</td><td>0.0271538</td><td>0.026804846</td><td>16.284893</td><td>0.09849507</td><td>7087.088</td><td>10.091737</td><td>0.19597286</td><td>15.289298</td><td>0.1948869</td><td>64.51055</td><td>6.0809636</td><td>0.08021788</td><td>14.447716</td><td>0.25241405</td><td>26.523111</td><td>5.3548183</td><td>0.10133553</td><td>0</td></tr>\n",
       "<tr><td>TFT</td><td>173880</td><td>39628457541371020</td><td>35.7235330211126</td><td>28.8880073711485</td><td>0.0339580769142768</td><td>GALAXY</td><td>4275.01541189849</td><td>0</td><td>69412</td><td>20201222</td><td>46001</td><td>1.90833280887811e-14</td><td>173880</td><td>SGA-2020 173880</td><td>PGC1849092</td><td>1849092</td><td>35.7234165</td><td>28.887833299999997</td><td></td><td>124.5</td><td>0.44668356</td><td>0.4786301</td><td>-99.0</td><td>24.248482</td><td>17.37</td><td>False</td><td>LEDA-20181114</td><td>63471</td><td>PGC1849092</td><td>1</td><td>True</td><td>35.7234165</td><td>28.887833299999997</td><td>0.44668356</td><td>0358p290</td><td>35.7235330211126</td><td>28.88800737114852</td><td>0.81688493</td><td>SB26</td><td>127.1298</td><td>0.474963</td><td>35.723449350072755</td><td>28.888050913700795</td><td>16.451612</td><td>8.812365</td><td>8.390758</td><td>8.074167</td><td>5.4345064</td><td>7.826225</td><td>10.181852</td><td>12.516059</td><td>14.747046</td><td>16.921144</td><td>19.360098</td><td>21.91576</td><td>24.506548</td><td>18.19922</td><td>17.345997</td><td>16.710226</td><td>17.691296</td><td>16.866438</td><td>16.246683</td><td>17.383986</td><td>16.574528</td><td>15.968726</td><td>17.191374</td><td>16.395716</td><td>15.8036175</td><td>17.073355</td><td>16.286068</td><td>15.700473</td><td>16.994848</td><td>16.213982</td><td>15.641384</td><td>16.93577</td><td>16.158472</td><td>15.594112</td><td>16.89788</td><td>16.12927</td><td>15.554631</td><td>16.872396</td><td>16.099524</td><td>15.528699</td><td>0.066731766</td><td>0.08330154</td><td>0.1246482</td><td>0.12509887</td><td>0.18140522</td><td>0.13910656</td><td>0.16352464</td><td>0.1567391</td><td>0.18408823</td><td>0.011713688</td><td>0.013753128</td><td>0.015204892</td><td>0.013810528</td><td>0.01488796</td><td>0.016070392</td><td>0.014439163</td><td>0.015167735</td><td>0.016010936</td><td>0.014330633</td><td>0.014831408</td><td>0.015563134</td><td>0.013876827</td><td>0.014316456</td><td>0.014968805</td><td>0.013403427</td><td>0.013818654</td><td>0.014496313</td><td>0.0129849855</td><td>0.013352789</td><td>0.014070322</td><td>0.012649743</td><td>0.013080995</td><td>0.01368461</td><td>0.01240633</td><td>0.012784031</td><td>0.013418478</td><td>16.792818</td><td>0.55612475</td><td>1.9946101</td><td>2.8779364</td><td>0.05221824</td><td>16.030823</td><td>0.5247933</td><td>1.9214823</td><td>2.8992376</td><td>0.16581914</td><td>15.455474</td><td>0.5995545</td><td>1.4280334</td><td>2.633919</td><td>0.287603</td><td>0</td></tr>\n",
       "<tr><td>TFT</td><td>269195</td><td>39628462834585206</td><td>35.9738797902803</td><td>29.3592905954632</td><td>-0.00199570145091582</td><td>STAR</td><td>1.94266889222573e+84</td><td>1570</td><td>69412</td><td>20201222</td><td>71458</td><td>2.663330518381457e-14</td><td>269195</td><td>SGA-2020 269195</td><td>PGC1863792</td><td>1863792</td><td>35.973834000000004</td><td>29.3595</td><td></td><td>12.5</td><td>0.33884412</td><td>0.48977882</td><td>-99.0</td><td>24.08848</td><td>17.81</td><td>False</td><td>LEDA-20181114</td><td>99257</td><td>PGC1863792</td><td>1</td><td>True</td><td>35.973834000000004</td><td>29.3595</td><td>0.33884412</td><td>0359p292</td><td>35.97387979028028</td><td>29.359290595463186</td><td>1.2177289</td><td>SB26</td><td>13.508169</td><td>0.30453575</td><td>35.973796287696736</td><td>29.35936337342049</td><td>21.574821</td><td>14.777715</td><td>13.129056</td><td>14.837418</td><td>6.614112</td><td>9.641066</td><td>13.1797</td><td>16.820114</td><td>20.710876</td><td>25.423635</td><td>30.047386</td><td>33.53551</td><td>36.531864</td><td>18.068882</td><td>17.343351</td><td>16.815405</td><td>17.591927</td><td>16.899302</td><td>16.38517</td><td>17.245941</td><td>16.577976</td><td>16.064302</td><td>16.99282</td><td>16.34828</td><td>15.8488455</td><td>16.805525</td><td>16.178856</td><td>15.689514</td><td>16.650982</td><td>16.053883</td><td>15.565649</td><td>16.571896</td><td>15.986961</td><td>15.492491</td><td>16.527597</td><td>15.9495325</td><td>15.449052</td><td>16.489012</td><td>15.91789</td><td>15.401107</td><td>0.07482591</td><td>0.14678529</td><td>0.1642294</td><td>0.29815444</td><td>0.22129355</td><td>0.25949973</td><td>0.29695174</td><td>0.32888275</td><td>0.6176502</td><td>0.03361799</td><td>0.037751064</td><td>0.03920043</td><td>0.029820623</td><td>0.03249969</td><td>0.033111826</td><td>0.025932793</td><td>0.027590323</td><td>0.027675586</td><td>0.02317445</td><td>0.024636166</td><td>0.02464802</td><td>0.02163169</td><td>0.022565579</td><td>0.022787333</td><td>0.020456748</td><td>0.021001438</td><td>0.021121586</td><td>0.01921321</td><td>0.019995216</td><td>0.019981632</td><td>0.018759493</td><td>0.019487899</td><td>0.019413766</td><td>0.018237341</td><td>0.019046849</td><td>0.018767597</td><td>16.366486</td><td>0.44211575</td><td>13.828407</td><td>2.882576</td><td>0.5012449</td><td>15.824778</td><td>0.41517174</td><td>11.294826</td><td>2.901271</td><td>0.29790324</td><td>15.201835</td><td>0.70381373</td><td>4.059842</td><td>1.9067029</td><td>0.56185555</td><td>0</td></tr>\n",
       "<tr><td>...</td><td>...</td><td>...</td><td>...</td><td>...</td><td>...</td><td>...</td><td>...</td><td>...</td><td>...</td><td>...</td><td>...</td><td>...</td><td>...</td><td>...</td><td>...</td><td>...</td><td>...</td><td>...</td><td>...</td><td>...</td><td>...</td><td>...</td><td>...</td><td>...</td><td>...</td><td>...</td><td>...</td><td>...</td><td>...</td><td>...</td><td>...</td><td>...</td><td>...</td><td>...</td><td>...</td><td>...</td><td>...</td><td>...</td><td>...</td><td>...</td><td>...</td><td>...</td><td>...</td><td>...</td><td>...</td><td>...</td><td>...</td><td>...</td><td>...</td><td>...</td><td>...</td><td>...</td><td>...</td><td>...</td><td>...</td><td>...</td><td>...</td><td>...</td><td>...</td><td>...</td><td>...</td><td>...</td><td>...</td><td>...</td><td>...</td><td>...</td><td>...</td><td>...</td><td>...</td><td>...</td><td>...</td><td>...</td><td>...</td><td>...</td><td>...</td><td>...</td><td>...</td><td>...</td><td>...</td><td>...</td><td>...</td><td>...</td><td>...</td><td>...</td><td>...</td><td>...</td><td>...</td><td>...</td><td>...</td><td>...</td><td>...</td><td>...</td><td>...</td><td>...</td><td>...</td><td>...</td><td>...</td><td>...</td><td>...</td><td>...</td><td>...</td><td>...</td><td>...</td><td>...</td><td>...</td><td>...</td><td>...</td><td>...</td><td>...</td><td>...</td><td>...</td><td>...</td><td>...</td><td>...</td><td>...</td><td>...</td><td>...</td><td>...</td><td>...</td><td>...</td><td>...</td><td>...</td><td>...</td><td>...</td><td>...</td><td>...</td><td>...</td><td>...</td><td>...</td><td>...</td><td>...</td><td>...</td><td>...</td><td>...</td><td>...</td></tr>\n",
       "<tr><td>TFT</td><td>1178025</td><td>39633087096687294</td><td>254.945933537215</td><td>40.4638682834801</td><td>0.0682303802637427</td><td>GALAXY</td><td>5427.08299072832</td><td>0</td><td>97428</td><td>20210704</td><td>312364</td><td>3.043976170934846e-13</td><td>1178025</td><td>SGA-2020 1178025</td><td>PGC3129805</td><td>3129805</td><td>254.9459895</td><td>40.4639514</td><td>E?</td><td>170.15</td><td>0.56234133</td><td>0.23933157</td><td>0.06821052</td><td>25.505482</td><td>18.127</td><td>False</td><td>LEDA-20181114</td><td>432953</td><td>PGC3129805</td><td>1</td><td>True</td><td>254.9459895</td><td>40.4639514</td><td>0.56234133</td><td>2549p405</td><td>254.9459335372154</td><td>40.46386828348007</td><td>0.63871866</td><td>SB26</td><td>168.44681</td><td>0.31116498</td><td>254.94579891002138</td><td>40.46397582379918</td><td>12.88122</td><td>6.0396457</td><td>5.269583</td><td>4.175208</td><td>5.758135</td><td>7.2033186</td><td>8.642753</td><td>10.099082</td><td>11.633898</td><td>12.982886</td><td>14.869583</td><td>17.25666</td><td>19.16156</td><td>18.388319</td><td>17.377687</td><td>16.587345</td><td>18.145088</td><td>17.166136</td><td>16.41327</td><td>17.98621</td><td>17.028439</td><td>16.304426</td><td>17.875751</td><td>16.934216</td><td>16.234102</td><td>17.79034</td><td>16.869177</td><td>16.186588</td><td>17.73727</td><td>16.827139</td><td>16.155827</td><td>17.689331</td><td>16.79459</td><td>16.134588</td><td>17.65204</td><td>16.765972</td><td>16.12486</td><td>17.637333</td><td>16.753489</td><td>16.121223</td><td>0.06399803</td><td>0.10155545</td><td>0.09189364</td><td>0.107785426</td><td>0.16484547</td><td>0.12025392</td><td>0.20535529</td><td>0.21506242</td><td>0.1629485</td><td>0.034917098</td><td>0.038636424</td><td>0.044668656</td><td>0.03261974</td><td>0.035780028</td><td>0.04083197</td><td>0.03068853</td><td>0.03359952</td><td>0.038347192</td><td>0.02909481</td><td>0.031805392</td><td>0.036648754</td><td>0.027651733</td><td>0.030464705</td><td>0.035409767</td><td>0.026724333</td><td>0.02957103</td><td>0.034576457</td><td>0.025816638</td><td>0.02883056</td><td>0.033991322</td><td>0.025095565</td><td>0.028183544</td><td>0.03373304</td><td>0.024802292</td><td>0.027898295</td><td>0.03364425</td><td>17.580679</td><td>0.43575412</td><td>0.97910035</td><td>3.0787058</td><td>0.06571153</td><td>16.71676</td><td>0.39326817</td><td>0.7589104</td><td>3.1685553</td><td>0.01123747</td><td>16.107443</td><td>0.21799278</td><td>0.795032</td><td>4.1783757</td><td>0.045548737</td><td>0</td></tr>\n",
       "<tr><td>TFT</td><td>1190951</td><td>39633105362878783</td><td>254.221820168065</td><td>41.6165629231802</td><td>0.0281622482448826</td><td>GALAXY</td><td>1585.90172587597</td><td>0</td><td>97428</td><td>20210704</td><td>315867</td><td>2.1777252427848798e-13</td><td>1190951</td><td>SGA-2020 1190951</td><td>PGC2183935</td><td>2183935</td><td>254.22177150000005</td><td>41.61647979999999</td><td>Sc</td><td>23.52</td><td>0.63095737</td><td>0.5000345</td><td>0.028197508</td><td>23.881481</td><td>16.253</td><td>False</td><td>LEDA-20181114</td><td>436478</td><td>PGC2183935</td><td>1</td><td>True</td><td>254.22177150000005</td><td>41.61647979999999</td><td>0.63095737</td><td>2543p415</td><td>254.2218201680647</td><td>41.61656292318025</td><td>1.01454</td><td>SB26</td><td>22.470905</td><td>0.5090355</td><td>254.221730324917</td><td>41.61675402729754</td><td>21.32925</td><td>11.798193</td><td>11.01465</td><td>9.787167</td><td>6.667511</td><td>9.635122</td><td>12.392714</td><td>15.117613</td><td>18.135681</td><td>20.971758</td><td>24.184498</td><td>27.15073</td><td>30.436197</td><td>17.419523</td><td>16.822544</td><td>16.405811</td><td>16.889994</td><td>16.320078</td><td>15.950342</td><td>16.61684</td><td>16.059994</td><td>15.72109</td><td>16.446903</td><td>15.895394</td><td>15.575401</td><td>16.319435</td><td>15.777141</td><td>15.470719</td><td>16.239</td><td>15.700661</td><td>15.402881</td><td>16.169159</td><td>15.635316</td><td>15.354034</td><td>16.12852</td><td>15.599879</td><td>15.320973</td><td>16.09603</td><td>15.57072</td><td>15.298562</td><td>0.066157416</td><td>0.113191895</td><td>0.12586015</td><td>0.18070278</td><td>0.17926422</td><td>0.14936599</td><td>0.17524639</td><td>0.2051526</td><td>0.23625848</td><td>0.011306248</td><td>0.013529275</td><td>0.01877551</td><td>0.011631299</td><td>0.012837197</td><td>0.016217526</td><td>0.012264049</td><td>0.012896103</td><td>0.015512748</td><td>0.012180434</td><td>0.012579755</td><td>0.01489053</td><td>0.011769005</td><td>0.012042814</td><td>0.014183026</td><td>0.01134111</td><td>0.011581247</td><td>0.013640767</td><td>0.0108851</td><td>0.0111339735</td><td>0.01322111</td><td>0.010585548</td><td>0.010859296</td><td>0.012917818</td><td>0.010336932</td><td>0.010620237</td><td>0.012731114</td><td>15.911983</td><td>1.4921675</td><td>0.87101626</td><td>1.7152637</td><td>0.3208344</td><td>15.421409</td><td>1.1460743</td><td>1.114075</td><td>1.8873104</td><td>0.34992832</td><td>15.185202</td><td>0.94354045</td><td>1.1685165</td><td>2.0126553</td><td>0.2352046</td><td>0</td></tr>\n",
       "<tr><td>TFT</td><td>1270480</td><td>39633073188373812</td><td>252.754716101871</td><td>39.8420106506486</td><td>0.0697450973852925</td><td>GALAXY</td><td>3544.5401754193</td><td>0</td><td>97428</td><td>20210704</td><td>336798</td><td>9.404058275190737e-14</td><td>1270480</td><td>SGA-2020 1270480</td><td>PGC3129602</td><td>3129602</td><td>252.7547565</td><td>39.842066100000004</td><td>E?</td><td>143.99</td><td>0.38815036</td><td>0.25763214</td><td>0.06973124</td><td>24.92048</td><td>18.347</td><td>False</td><td>LEDA-20181114</td><td>466546</td><td>PGC3129602</td><td>1</td><td>True</td><td>252.7547565</td><td>39.842066100000004</td><td>0.38815036</td><td>2528p397</td><td>252.7547161018711</td><td>39.84201065064863</td><td>0.54930395</td><td>SB26</td><td>144.75925</td><td>0.26437765</td><td>252.75461962915082</td><td>39.84206893953908</td><td>11.501226</td><td>4.96599</td><td>4.265457</td><td>4.1963997</td><td>6.3986998</td><td>7.778864</td><td>8.812336</td><td>9.778206</td><td>10.693171</td><td>11.55829</td><td>12.7892885</td><td>14.6303425</td><td>16.479118</td><td>18.16329</td><td>17.102182</td><td>16.347286</td><td>17.986294</td><td>16.951164</td><td>16.204088</td><td>17.890354</td><td>16.870039</td><td>16.127636</td><td>17.822014</td><td>16.812105</td><td>16.08374</td><td>17.770636</td><td>16.788797</td><td>16.061907</td><td>17.728586</td><td>16.771223</td><td>16.047873</td><td>17.692205</td><td>16.755985</td><td>16.03401</td><td>17.671698</td><td>16.73844</td><td>16.020475</td><td>17.655188</td><td>16.731348</td><td>16.011148</td><td>0.09015718</td><td>0.12936984</td><td>0.1255986</td><td>0.07717299</td><td>0.1120217</td><td>0.14977519</td><td>0.15927847</td><td>0.22893305</td><td>0.22012925</td><td>0.056254573</td><td>0.06636556</td><td>0.065976605</td><td>0.051228352</td><td>0.06068867</td><td>0.060560435</td><td>0.048512</td><td>0.057634447</td><td>0.05770523</td><td>0.046528887</td><td>0.055432323</td><td>0.055924814</td><td>0.04505161</td><td>0.054459784</td><td>0.05500905</td><td>0.043791946</td><td>0.053664234</td><td>0.054362915</td><td>0.042649448</td><td>0.05296427</td><td>0.053712647</td><td>0.041891184</td><td>0.052122105</td><td>0.052997716</td><td>0.041356865</td><td>0.051824335</td><td>0.05264009</td><td>17.641907</td><td>0.15567492</td><td>1.8471737</td><td>6.018283</td><td>0.037675828</td><td>16.72759</td><td>0.16945325</td><td>0.6314508</td><td>5.738115</td><td>0.03088586</td><td>16.00757</td><td>0.20904714</td><td>0.41704398</td><td>5.121027</td><td>0.020969555</td><td>0</td></tr>\n",
       "<tr><td>TFT</td><td>1279181</td><td>39633091689449724</td><td>254.854227690295</td><td>40.8064375064587</td><td>0.0301339708583911</td><td>GALAXY</td><td>11544.5260883868</td><td>0</td><td>97428</td><td>20210704</td><td>339106</td><td>1.942690518992685e-13</td><td>1279181</td><td>SGA-2020 1279181</td><td>PGC3129904</td><td>3129904</td><td>254.854242</td><td>40.8063957</td><td>SBd</td><td>120.28</td><td>0.45498806</td><td>0.27352685</td><td>0.03011183</td><td>24.685482</td><td>17.767</td><td>False</td><td>LEDA-20181114</td><td>468859</td><td>PGC3129904</td><td>1</td><td>True</td><td>254.854242</td><td>40.8063957</td><td>0.45498806</td><td>2548p407</td><td>254.85422769029526</td><td>40.80643750645868</td><td>0.61056733</td><td>SB26</td><td>121.085724</td><td>0.28622246</td><td>254.8541272232332</td><td>40.806503460934834</td><td>12.525934</td><td>6.704011</td><td>6.314685</td><td>6.050511</td><td>7.346606</td><td>9.454888</td><td>10.859085</td><td>12.222189</td><td>13.259973</td><td>14.049206</td><td>15.054363</td><td>16.625956</td><td>18.31702</td><td>17.7019</td><td>17.02361</td><td>16.52882</td><td>17.421486</td><td>16.747366</td><td>16.264332</td><td>17.289854</td><td>16.62239</td><td>16.16691</td><td>17.204756</td><td>16.540016</td><td>16.116085</td><td>17.160324</td><td>16.50779</td><td>16.087818</td><td>17.129099</td><td>16.489595</td><td>16.070433</td><td>17.105473</td><td>16.474318</td><td>16.05935</td><td>17.086756</td><td>16.46138</td><td>16.048292</td><td>17.07407</td><td>16.452852</td><td>16.043655</td><td>0.10531929</td><td>0.1509453</td><td>0.16080114</td><td>0.13562225</td><td>0.1363622</td><td>0.14442293</td><td>0.14632533</td><td>0.21162446</td><td>0.18030551</td><td>0.056236587</td><td>0.059515312</td><td>0.0671088</td><td>0.049615186</td><td>0.052540276</td><td>0.058660734</td><td>0.0464812</td><td>0.049216695</td><td>0.055360645</td><td>0.044246186</td><td>0.04687538</td><td>0.053402532</td><td>0.042979207</td><td>0.045818888</td><td>0.052225396</td><td>0.042082965</td><td>0.045183767</td><td>0.051505007</td><td>0.041358225</td><td>0.0446437</td><td>0.051029693</td><td>0.04073553</td><td>0.044161417</td><td>0.05055319</td><td>0.04029823</td><td>0.04383964</td><td>0.05036201</td><td>17.056343</td><td>0.19312671</td><td>3.9746916</td><td>6.2427144</td><td>0.018474014</td><td>16.447973</td><td>0.15972525</td><td>3.622357</td><td>7.429793</td><td>0.0077928295</td><td>16.030394</td><td>0.28384364</td><td>0.9582051</td><td>5.2163157</td><td>0.0101332</td><td>0</td></tr>\n",
       "<tr><td>TFT</td><td>1283964</td><td>39633073192571327</td><td>253.283311767386</td><td>39.6600443795779</td><td>0.118006948445633</td><td>GALAXY</td><td>1983.05823399872</td><td>0</td><td>97428</td><td>20210704</td><td>340439</td><td>1.5368960911984442e-13</td><td>1283964</td><td>SGA-2020 1283964</td><td>PGC2153630</td><td>2153630</td><td>253.28344199999998</td><td>39.660175</td><td></td><td>44.39</td><td>0.41591063</td><td>0.374973</td><td>0.11795827</td><td>25.06348</td><td>18.34</td><td>False</td><td>LEDA-20181114</td><td>470199</td><td>PGC2153630</td><td>1</td><td>True</td><td>253.28344199999998</td><td>39.660175</td><td>0.41591063</td><td>2531p397</td><td>253.2833117673858</td><td>39.660044379577904</td><td>0.47847968</td><td>SB26</td><td>42.016266</td><td>0.41236758</td><td>253.28310458996785</td><td>39.65999151404507</td><td>9.262528</td><td>5.0261354</td><td>4.575747</td><td>3.8560798</td><td>4.776951</td><td>6.1246037</td><td>7.554269</td><td>9.020291</td><td>10.283834</td><td>11.216397</td><td>12.013153</td><td>13.034778</td><td>14.35439</td><td>18.4075</td><td>17.499256</td><td>16.769276</td><td>18.143826</td><td>17.254213</td><td>16.548304</td><td>17.96037</td><td>17.088861</td><td>16.404202</td><td>17.83311</td><td>16.976149</td><td>16.306944</td><td>17.75519</td><td>16.90544</td><td>16.251417</td><td>17.709665</td><td>16.864065</td><td>16.233969</td><td>17.687735</td><td>16.839056</td><td>16.22439</td><td>17.658657</td><td>16.826565</td><td>16.216965</td><td>17.651154</td><td>16.820507</td><td>16.213202</td><td>0.07431734</td><td>0.1034617</td><td>0.1126762</td><td>0.13398696</td><td>0.180122</td><td>0.14019878</td><td>0.08164964</td><td>0.24304877</td><td>0.204383</td><td>0.052067716</td><td>0.058079664</td><td>0.067400254</td><td>0.047494873</td><td>0.051821075</td><td>0.05978015</td><td>0.043500587</td><td>0.047101405</td><td>0.054422688</td><td>0.04042671</td><td>0.043855432</td><td>0.050799526</td><td>0.0385439</td><td>0.041821364</td><td>0.048775773</td><td>0.037401892</td><td>0.040611304</td><td>0.048094638</td><td>0.036834277</td><td>0.039883003</td><td>0.04771334</td><td>0.03605846</td><td>0.03946931</td><td>0.047419216</td><td>0.035800956</td><td>0.03923115</td><td>0.047266915</td><td>17.598314</td><td>0.2589801</td><td>0.916537</td><td>4.2690444</td><td>0.12839928</td><td>16.783169</td><td>0.20628984</td><td>0.8846888</td><td>4.7892127</td><td>0.17911267</td><td>16.201658</td><td>0.14853597</td><td>0.521451</td><td>5.993525</td><td>0.047856208</td><td>0</td></tr>\n",
       "<tr><td>TFT</td><td>1353609</td><td>39633091660088132</td><td>252.454746252201</td><td>40.7781415537625</td><td>0.0834676698268431</td><td>GALAXY</td><td>1601.55572145479</td><td>0</td><td>97428</td><td>20210704</td><td>358925</td><td>2.7995095341145943e-13</td><td>1353609</td><td>SGA-2020 1353609</td><td>PGC2170790</td><td>2170790</td><td>252.45476999999997</td><td>40.7780677</td><td>Sb</td><td>75.13</td><td>0.3741106</td><td>0.5571857</td><td>0.083442725</td><td>24.03648</td><td>17.543</td><td>False</td><td>LEDA-20181114</td><td>497758</td><td>PGC2170790</td><td>1</td><td>True</td><td>252.45476999999997</td><td>40.7780677</td><td>0.3741106</td><td>2525p407</td><td>252.45474625220064</td><td>40.77814155376251</td><td>0.4899495</td><td>SB26</td><td>76.63858</td><td>0.64863193</td><td>252.45460612397108</td><td>40.778227276290394</td><td>11.091373</td><td>5.321589</td><td>4.852682</td><td>4.251465</td><td>3.8548722</td><td>5.206841</td><td>6.6378684</td><td>8.049012</td><td>9.355901</td><td>10.525534</td><td>11.766735</td><td>13.18808</td><td>14.698484</td><td>18.35676</td><td>17.642668</td><td>17.104134</td><td>17.967445</td><td>17.292303</td><td>16.793312</td><td>17.714605</td><td>17.065348</td><td>16.592285</td><td>17.549435</td><td>16.91621</td><td>16.464315</td><td>17.442812</td><td>16.818943</td><td>16.384186</td><td>17.373114</td><td>16.757996</td><td>16.333937</td><td>17.327967</td><td>16.72092</td><td>16.307737</td><td>17.29784</td><td>16.694632</td><td>16.291151</td><td>17.271297</td><td>16.67653</td><td>16.278227</td><td>0.034087975</td><td>0.048515473</td><td>0.06412768</td><td>0.09984341</td><td>0.093463264</td><td>0.087236635</td><td>0.10263098</td><td>0.12083847</td><td>0.14779158</td><td>0.017671982</td><td>0.01967327</td><td>0.025799261</td><td>0.016460894</td><td>0.018058987</td><td>0.022461327</td><td>0.015843272</td><td>0.017034197</td><td>0.020707963</td><td>0.015662335</td><td>0.01654211</td><td>0.01977409</td><td>0.015252291</td><td>0.016004167</td><td>0.019130426</td><td>0.01486243</td><td>0.015543597</td><td>0.018583292</td><td>0.014505562</td><td>0.015196991</td><td>0.01830145</td><td>0.0142027885</td><td>0.014896731</td><td>0.018117761</td><td>0.013926808</td><td>0.014694744</td><td>0.01799115</td><td>17.196018</td><td>0.46690693</td><td>0.56250125</td><td>3.1144667</td><td>0.6560312</td><td>16.623837</td><td>0.35708335</td><td>0.57368964</td><td>3.5040975</td><td>0.6337811</td><td>16.24744</td><td>0.27806053</td><td>0.48448724</td><td>3.9307752</td><td>0.37959534</td><td>0</td></tr>\n",
       "<tr><td>TFT</td><td>1371293</td><td>39633082461982541</td><td>253.122355838986</td><td>40.2204289298774</td><td>0.0341072153373491</td><td>GALAXY</td><td>1653.7302832742</td><td>0</td><td>97428</td><td>20210704</td><td>363581</td><td>9.756148901690222e-14</td><td>1371293</td><td>SGA-2020 1371293</td><td>PGC2162525</td><td>2162525</td><td>253.12228349999995</td><td>40.2204761</td><td>E?</td><td>0.0</td><td>0.3404082</td><td>0.94406086</td><td>0.03410326</td><td>23.266481</td><td>16.978</td><td>False</td><td>LEDA-20181114</td><td>502428</td><td>PGC2162525</td><td>1</td><td>True</td><td>253.12228349999995</td><td>40.2204761</td><td>0.3404082</td><td>2530p402</td><td>253.12235583898612</td><td>40.22042892987736</td><td>0.5315681</td><td>SB26</td><td>179.84946</td><td>0.84964985</td><td>253.1222669966324</td><td>40.22046776957567</td><td>13.764931</td><td>4.7721996</td><td>4.4883013</td><td>4.158202</td><td>4.9924903</td><td>6.173525</td><td>7.4362154</td><td>8.873604</td><td>10.43271</td><td>11.929261</td><td>13.400782</td><td>14.601684</td><td>15.947043</td><td>17.260122</td><td>16.444725</td><td>15.930076</td><td>17.076214</td><td>16.27397</td><td>15.766114</td><td>16.948313</td><td>16.154312</td><td>15.654155</td><td>16.845726</td><td>16.059278</td><td>15.569726</td><td>16.765453</td><td>15.987761</td><td>15.506489</td><td>16.712233</td><td>15.937773</td><td>15.4636755</td><td>16.67525</td><td>15.90388</td><td>15.434891</td><td>16.653355</td><td>15.885201</td><td>15.419179</td><td>16.639675</td><td>15.870831</td><td>15.409243</td><td>0.01299746</td><td>0.013784082</td><td>0.0151307145</td><td>0.022964042</td><td>0.044207968</td><td>0.042605307</td><td>0.063028686</td><td>0.090625025</td><td>0.18660948</td><td>0.0046868506</td><td>0.005246949</td><td>0.0055496236</td><td>0.0044597206</td><td>0.004926125</td><td>0.005251293</td><td>0.0041848267</td><td>0.0046100905</td><td>0.0049442</td><td>0.0039250096</td><td>0.0043041063</td><td>0.004677258</td><td>0.0037253958</td><td>0.0040806727</td><td>0.0044843424</td><td>0.003607219</td><td>0.0039404216</td><td>0.0043600686</td><td>0.0035382404</td><td>0.0038564943</td><td>0.0042846613</td><td>0.0034979642</td><td>0.0038181117</td><td>0.0042572</td><td>0.0034849166</td><td>0.0037949213</td><td>0.004249963</td><td>16.546398</td><td>0.46980858</td><td>0.6559815</td><td>2.431075</td><td>3.917138</td><td>15.782754</td><td>0.47759086</td><td>0.5864892</td><td>2.343789</td><td>1.9567292</td><td>15.336648</td><td>0.5235938</td><td>0.41896135</td><td>2.3202999</td><td>1.8717593</td><td>0</td></tr>\n",
       "<tr><td>TFT</td><td>1372399</td><td>39633082461978990</td><td>252.873914667376</td><td>40.2933769039592</td><td>0.0360078381403841</td><td>GALAXY</td><td>15855.5634890795</td><td>0</td><td>97428</td><td>20210704</td><td>363862</td><td>1.7368998364986422e-13</td><td>1372399</td><td>SGA-2020 1372399</td><td>PGC3129744</td><td>3129744</td><td>252.87390150000004</td><td>40.2933118</td><td>S?</td><td>26.77</td><td>0.3411929</td><td>0.38725764</td><td>0.0360446</td><td>23.957481</td><td>17.664</td><td>False</td><td>LEDA-20181114</td><td>502711</td><td>PGC3129744</td><td>1</td><td>True</td><td>252.87390150000004</td><td>40.2933118</td><td>0.3411929</td><td>2530p402</td><td>252.87391466737577</td><td>40.29337690395921</td><td>0.4401008</td><td>SB26</td><td>33.95841</td><td>0.3464756</td><td>252.8737871093418</td><td>40.29348264852677</td><td>7.948805</td><td>4.1292257</td><td>3.7799587</td><td>3.7117584</td><td>5.280554</td><td>6.25019</td><td>7.111623</td><td>7.8703218</td><td>8.789657</td><td>9.702798</td><td>10.7449</td><td>11.935722</td><td>13.203024</td><td>17.567804</td><td>17.163445</td><td>16.936855</td><td>17.406246</td><td>17.037704</td><td>16.808847</td><td>17.306612</td><td>16.969967</td><td>16.743448</td><td>17.249765</td><td>16.92457</td><td>16.709017</td><td>17.206081</td><td>16.891865</td><td>16.681055</td><td>17.180872</td><td>16.871254</td><td>16.659405</td><td>17.160799</td><td>16.853365</td><td>16.643179</td><td>17.14561</td><td>16.839712</td><td>16.635382</td><td>17.134672</td><td>16.827524</td><td>16.634789</td><td>0.059153784</td><td>0.10301273</td><td>0.055793133</td><td>0.075077005</td><td>0.078702465</td><td>0.07933193</td><td>0.11335876</td><td>0.11679206</td><td>0.16320692</td><td>0.04768915</td><td>0.05907535</td><td>0.05441114</td><td>0.0450201</td><td>0.054991312</td><td>0.05118418</td><td>0.04290679</td><td>0.052402925</td><td>0.04909189</td><td>0.04144573</td><td>0.050698932</td><td>0.04776278</td><td>0.040108845</td><td>0.04920768</td><td>0.04679655</td><td>0.03927969</td><td>0.048340745</td><td>0.045949157</td><td>0.038606204</td><td>0.04758352</td><td>0.04530762</td><td>0.038095422</td><td>0.04700474</td><td>0.045010064</td><td>0.037726074</td><td>0.04662182</td><td>0.044914845</td><td>17.120317</td><td>0.3474747</td><td>0.16114771</td><td>4.3748107</td><td>0.014604652</td><td>16.801823</td><td>0.7359806</td><td>0.08860413</td><td>3.0840034</td><td>0.006694939</td><td>16.617043</td><td>0.55077827</td><td>0.07290228</td><td>3.7238314</td><td>0.021320576</td><td>0</td></tr>\n",
       "<tr><td>TFT</td><td>1394030</td><td>39627844279599382</td><td>309.50494772652</td><td>2.19217633463707</td><td>0.0746237413581107</td><td>GALAXY</td><td>2753.78543201787</td><td>0</td><td>97432</td><td>20210704</td><td>369739</td><td>2.272243150548117e-13</td><td>1394030</td><td>SGA-2020 1394030</td><td>PGC1218991</td><td>1218991</td><td>309.5050005</td><td>2.1923333</td><td></td><td>44.0</td><td>0.47863013</td><td>0.64565426</td><td>-99.0</td><td>24.35848</td><td>17.33</td><td>False</td><td>LEDA-20181114</td><td>509944</td><td>PGC1218991</td><td>1</td><td>True</td><td>309.5050005</td><td>2.1923333</td><td>0.47863013</td><td>3096p022</td><td>309.50494772652024</td><td>2.1921763346370726</td><td>0.6165329</td><td>SB26</td><td>40.304916</td><td>0.5819266</td><td>309.50491352288554</td><td>2.192272806284587</td><td>15.41812</td><td>6.0246835</td><td>5.637275</td><td>5.1612444</td><td>7.453882</td><td>8.942612</td><td>10.308336</td><td>11.645038</td><td>12.981052</td><td>14.318225</td><td>15.702903</td><td>17.086735</td><td>18.495987</td><td>16.824108</td><td>16.031233</td><td>15.388829</td><td>16.649647</td><td>15.874557</td><td>15.255931</td><td>16.546005</td><td>15.780211</td><td>15.175707</td><td>16.482254</td><td>15.719157</td><td>15.124998</td><td>16.44071</td><td>15.680467</td><td>15.0902</td><td>16.41221</td><td>15.652327</td><td>15.067327</td><td>16.392324</td><td>15.633338</td><td>15.049267</td><td>16.37854</td><td>15.621203</td><td>15.038326</td><td>16.367752</td><td>15.611275</td><td>15.028711</td><td>0.038511086</td><td>0.038442317</td><td>0.040189385</td><td>0.04686088</td><td>0.05965595</td><td>0.06570971</td><td>0.08458005</td><td>0.10250659</td><td>0.13402669</td><td>0.0081090685</td><td>0.0069501493</td><td>0.00852533</td><td>0.00810905</td><td>0.006788355</td><td>0.008114183</td><td>0.007826789</td><td>0.0065993415</td><td>0.0078084087</td><td>0.0075697657</td><td>0.0064174114</td><td>0.0075593144</td><td>0.007354667</td><td>0.0062776</td><td>0.0073954132</td><td>0.00722168</td><td>0.0061719175</td><td>0.0072839176</td><td>0.0071185604</td><td>0.0061023436</td><td>0.007206998</td><td>0.0070496253</td><td>0.0060524927</td><td>0.007156555</td><td>0.007000289</td><td>0.0060074837</td><td>0.0071048094</td><td>16.33681</td><td>0.49075392</td><td>0.595863</td><td>3.5684195</td><td>0.04928798</td><td>15.583527</td><td>0.3633359</td><td>0.80588347</td><td>3.7551756</td><td>0.04442672</td><td>14.99951</td><td>0.38003257</td><td>0.65677625</td><td>3.4051158</td><td>0.029474236</td><td>0</td></tr>\n",
       "<tr><td>TFT</td><td>1399927</td><td>39627838243999649</td><td>309.84204868489</td><td>2.08572178552614</td><td>0.0130565865119583</td><td>GALAXY</td><td>50189.3785737157</td><td>0</td><td>97432</td><td>20210704</td><td>371216</td><td>2.840466062641378e-13</td><td>1399927</td><td>SGA-2020 1399927</td><td>PGC065141</td><td>65141</td><td>309.8420775</td><td>2.0857343999999998</td><td></td><td>12.0</td><td>0.7396053</td><td>0.4130475</td><td>0.012995657</td><td>23.475481</td><td>15.502</td><td>False</td><td>LEDA-20181114</td><td>512517</td><td>PGC065141</td><td>1</td><td>True</td><td>309.8420775</td><td>2.0857343999999998</td><td>0.7396053</td><td>3098p020</td><td>309.84204868488973</td><td>2.085721785526137</td><td>1.110216</td><td>SB26</td><td>12.627816</td><td>0.37597913</td><td>309.84198628438446</td><td>2.085758341727526</td><td>23.718214</td><td>6.51208</td><td>6.278527</td><td>6.4573035</td><td>12.995719</td><td>14.831102</td><td>16.196589</td><td>17.987484</td><td>19.776342</td><td>21.66869</td><td>24.317827</td><td>28.693815</td><td>33.30648</td><td>15.488459</td><td>14.826747</td><td>14.315469</td><td>15.432901</td><td>14.768567</td><td>14.256457</td><td>15.40293</td><td>14.732553</td><td>14.224971</td><td>15.374025</td><td>14.698246</td><td>14.194131</td><td>15.354614</td><td>14.676198</td><td>14.176515</td><td>15.341368</td><td>14.662759</td><td>14.160391</td><td>15.330658</td><td>14.652262</td><td>14.147699</td><td>15.318579</td><td>14.636546</td><td>14.138596</td><td>15.308547</td><td>14.6260805</td><td>14.1280365</td><td>0.0824256</td><td>0.13792971</td><td>0.14723812</td><td>0.13902156</td><td>0.17548245</td><td>0.23215662</td><td>0.2147064</td><td>0.29376495</td><td>0.24449493</td><td>0.035858404</td><td>0.032289773</td><td>0.034170542</td><td>0.034409057</td><td>0.030995946</td><td>0.032758426</td><td>0.03360725</td><td>0.03019627</td><td>0.031953413</td><td>0.032823466</td><td>0.029390387</td><td>0.03119188</td><td>0.03227921</td><td>0.028873095</td><td>0.03069269</td><td>0.03191797</td><td>0.02852619</td><td>0.030300036</td><td>0.03161452</td><td>0.028261436</td><td>0.029963525</td><td>0.03125987</td><td>0.027879309</td><td>0.029681405</td><td>0.03097554</td><td>0.027615026</td><td>0.029398512</td><td>15.299834</td><td>0.36393282</td><td>1.6398706</td><td>3.3527596</td><td>0.012927797</td><td>14.619277</td><td>0.2409113</td><td>3.7210555</td><td>3.7917664</td><td>0.05546957</td><td>14.120692</td><td>0.2957122</td><td>2.4113786</td><td>3.6194072</td><td>0.015113052</td><td>0</td></tr>\n",
       "</table>"
      ],
      "text/plain": [
       "<QTable length=15308>\n",
       "pvtype  sga_id      targetid     ... Z_COG_PARAMS_CHI2 ELLIPSEBIT\n",
       "                                 ...                             \n",
       " str3   int64        int64       ...      float32        int32   \n",
       "------ ------- ----------------- ... ----------------- ----------\n",
       "   SGA  227887 39628509848540752 ...        0.03310028          0\n",
       "   SGA  249627 39628473387452348 ...         0.4841751          0\n",
       "   SGA  581116 39628499509579686 ...        0.15311071          0\n",
       "   SGA  879849 39628478600971508 ...         1.0173686          0\n",
       "   SGA 1215253 39628494279282283 ...        0.04159405          0\n",
       "   SGA 1329026 39628478600971529 ...        0.27428445          0\n",
       "   TFT  161400 39628462826195756 ...        0.10133553          0\n",
       "   TFT  173880 39628457541371020 ...          0.287603          0\n",
       "   TFT  269195 39628462834585206 ...        0.56185555          0\n",
       "   ...     ...               ... ...               ...        ...\n",
       "   TFT 1178025 39633087096687294 ...       0.045548737          0\n",
       "   TFT 1190951 39633105362878783 ...         0.2352046          0\n",
       "   TFT 1270480 39633073188373812 ...       0.020969555          0\n",
       "   TFT 1279181 39633091689449724 ...         0.0101332          0\n",
       "   TFT 1283964 39633073192571327 ...       0.047856208          0\n",
       "   TFT 1353609 39633091660088132 ...        0.37959534          0\n",
       "   TFT 1371293 39633082461982541 ...         1.8717593          0\n",
       "   TFT 1372399 39633082461978990 ...       0.021320576          0\n",
       "   TFT 1394030 39627844279599382 ...       0.029474236          0\n",
       "   TFT 1399927 39627838243999649 ...       0.015113052          0"
      ]
     },
     "execution_count": 702,
     "metadata": {},
     "output_type": "execute_result"
    }
   ],
   "source": [
    "centers"
   ]
  },
  {
   "cell_type": "markdown",
   "id": "acfc3eac-3f50-47cf-8de7-55a95aee22b5",
   "metadata": {},
   "source": [
    "## Calculate Rotation Velocity from the Redshift Data"
   ]
  },
  {
   "cell_type": "markdown",
   "id": "3e3a6ee3-3f09-4762-a0e2-37eaa5f8080e",
   "metadata": {},
   "source": [
    "For a given SGA galaxy, we can match that center with all other rows in the targets data file that have the same SGA ID. These include the TFT and EXT targets. The goal is to find SGA observations with at least one TFT or EXT target.\n",
    "\n",
    "We can check this by using the ellipse function created in the previous section."
   ]
  },
  {
   "cell_type": "code",
   "execution_count": null,
   "id": "8086c361-44ac-40e9-96aa-592d6b129376",
   "metadata": {},
   "outputs": [],
   "source": []
  },
  {
   "cell_type": "code",
   "execution_count": null,
   "id": "fb468c8b-1f68-4905-a97c-585536317424",
   "metadata": {},
   "outputs": [],
   "source": []
  }
 ],
 "metadata": {
  "kernelspec": {
   "display_name": "DESI 21.3",
   "language": "python",
   "name": "desi-21.3"
  },
  "language_info": {
   "codemirror_mode": {
    "name": "ipython",
    "version": 3
   },
   "file_extension": ".py",
   "mimetype": "text/x-python",
   "name": "python",
   "nbconvert_exporter": "python",
   "pygments_lexer": "ipython3",
   "version": "3.8.3"
  }
 },
 "nbformat": 4,
 "nbformat_minor": 5
}
